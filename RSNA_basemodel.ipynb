{
  "nbformat": 4,
  "nbformat_minor": 0,
  "metadata": {
    "colab": {
      "name": "RSNA_basemodel.ipynb",
      "version": "0.3.2",
      "provenance": [],
      "collapsed_sections": [],
      "toc_visible": true
    },
    "language_info": {
      "codemirror_mode": {
        "name": "ipython",
        "version": 3
      },
      "file_extension": ".py",
      "mimetype": "text/x-python",
      "name": "python",
      "nbconvert_exporter": "python",
      "pygments_lexer": "ipython3",
      "version": "3.6.0"
    },
    "kernelspec": {
      "name": "python3",
      "display_name": "Python 3"
    },
    "accelerator": "GPU"
  },
  "cells": [
    {
      "cell_type": "code",
      "metadata": {
        "colab_type": "code",
        "id": "UFq6w89vFAPg",
        "outputId": "823faac4-a755-43f4-9e7b-9804792af933",
        "colab": {
          "base_uri": "https://localhost:8080/",
          "height": 122
        }
      },
      "source": [
        "pip install pydicom"
      ],
      "execution_count": 1,
      "outputs": [
        {
          "output_type": "stream",
          "text": [
            "Collecting pydicom\n",
            "\u001b[?25l  Downloading https://files.pythonhosted.org/packages/43/88/d3c419ab2e753e7651510882a53219373e78fb55294cb247dffd3934ea55/pydicom-1.2.2-py2.py3-none-any.whl (7.0MB)\n",
            "\u001b[K     |████████████████████████████████| 7.0MB 3.4MB/s \n",
            "\u001b[?25hInstalling collected packages: pydicom\n",
            "Successfully installed pydicom-1.2.2\n"
          ],
          "name": "stdout"
        }
      ]
    },
    {
      "cell_type": "code",
      "metadata": {
        "colab_type": "code",
        "id": "o63KdJi1IjKS",
        "colab": {}
      },
      "source": [
        "%matplotlib inline\n",
        "import matplotlib.pyplot as plt\n",
        "import numpy as np\n",
        "import pydicom\n",
        "import pandas as pd\n",
        "from glob import glob\n",
        "import os\n",
        "from matplotlib.patches import Rectangle\n",
        "import seaborn as sns"
      ],
      "execution_count": 0,
      "outputs": []
    },
    {
      "cell_type": "code",
      "metadata": {
        "colab_type": "code",
        "id": "scVCofB3IZNU",
        "outputId": "8eddf547-cfc5-4f0b-bc49-b8c533f63a41",
        "colab": {
          "base_uri": "https://localhost:8080/",
          "height": 122
        }
      },
      "source": [
        "from google.colab import drive\n",
        "drive.mount('/content/drive')"
      ],
      "execution_count": 3,
      "outputs": [
        {
          "output_type": "stream",
          "text": [
            "Go to this URL in a browser: https://accounts.google.com/o/oauth2/auth?client_id=947318989803-6bn6qk8qdgf4n4g3pfee6491hc0brc4i.apps.googleusercontent.com&redirect_uri=urn%3Aietf%3Awg%3Aoauth%3A2.0%3Aoob&scope=email%20https%3A%2F%2Fwww.googleapis.com%2Fauth%2Fdocs.test%20https%3A%2F%2Fwww.googleapis.com%2Fauth%2Fdrive%20https%3A%2F%2Fwww.googleapis.com%2Fauth%2Fdrive.photos.readonly%20https%3A%2F%2Fwww.googleapis.com%2Fauth%2Fpeopleapi.readonly&response_type=code\n",
            "\n",
            "Enter your authorization code:\n",
            "··········\n",
            "Mounted at /content/drive\n"
          ],
          "name": "stdout"
        }
      ]
    },
    {
      "cell_type": "code",
      "metadata": {
        "colab_type": "code",
        "id": "0iqVjhmFJKzz",
        "colab": {}
      },
      "source": [
        "import os\n",
        "os.chdir('/content/drive/My Drive/Colab Notebooks/')"
      ],
      "execution_count": 0,
      "outputs": []
    },
    {
      "cell_type": "code",
      "metadata": {
        "colab_type": "code",
        "id": "GccMIoR8Jyfn",
        "outputId": "cbb863bd-35ca-4fad-abde-a60851c8eda0",
        "colab": {
          "base_uri": "https://localhost:8080/",
          "height": 255
        }
      },
      "source": [
        "!ls"
      ],
      "execution_count": 5,
      "outputs": [
        {
          "output_type": "stream",
          "text": [
            " Classfiication_Report.ipynb\n",
            "'Copy of RSNA_Classification_Chexnet_and_EDA.ipynb'\n",
            " Crop\n",
            " first_try_1.h5\n",
            " pneumonia\n",
            " RSNA_basemodel.ipynb\n",
            " RSNA_Classification_Chexnet_and_EDA.ipynb\n",
            " RSNA_EDA_crop.ipynb\n",
            " stage_2_detailed_class_info.csv\n",
            " stage_2_train_labels.csv\n",
            " test\n",
            " train\n",
            " training\n",
            " Validation\n"
          ],
          "name": "stdout"
        }
      ]
    },
    {
      "cell_type": "code",
      "metadata": {
        "colab_type": "code",
        "id": "ukFXVpCHJ0Qt",
        "colab": {}
      },
      "source": [
        "detail_class_path = '/content/drive/My Drive/Colab Notebooks/stage_2_detailed_class_info.csv'\n",
        "bbox_path = '/content/drive/My Drive/Colab Notebooks/stage_2_train_labels.csv'\n",
        "dicom_dir = '/content/drive/My Drive/Colab Notebooks/stage_2_train_images/'"
      ],
      "execution_count": 0,
      "outputs": []
    },
    {
      "cell_type": "code",
      "metadata": {
        "colab_type": "code",
        "id": "pDFyQnxLZ5If",
        "outputId": "7776e577-d771-4be0-a549-839542c0bbdb",
        "colab": {
          "base_uri": "https://localhost:8080/",
          "height": 51
        }
      },
      "source": [
        "detailed_class_df = pd.read_csv(detail_class_path)\n",
        "print('No of samples in deatiled class:',detailed_class_df.shape[0])\n",
        "\n",
        "bbox_df=pd.read_csv(bbox_path)\n",
        "print('No of samples in bounding box dataframe:',bbox_df.shape[0])\n",
        "#print(det_class_df['patientId'].value_counts().shape[0], 'patient cases')"
      ],
      "execution_count": 7,
      "outputs": [
        {
          "output_type": "stream",
          "text": [
            "No of samples in deatiled class: 30227\n",
            "No of samples in bounding box dataframe: 30227\n"
          ],
          "name": "stdout"
        }
      ]
    },
    {
      "cell_type": "code",
      "metadata": {
        "colab_type": "code",
        "id": "2boKh_V_bfvq",
        "outputId": "a06c147a-f092-4c41-e4dd-a9b5556def5c",
        "colab": {
          "base_uri": "https://localhost:8080/",
          "height": 359
        }
      },
      "source": [
        "detailed_class_df.sample(10)"
      ],
      "execution_count": 8,
      "outputs": [
        {
          "output_type": "execute_result",
          "data": {
            "text/html": [
              "<div>\n",
              "<style scoped>\n",
              "    .dataframe tbody tr th:only-of-type {\n",
              "        vertical-align: middle;\n",
              "    }\n",
              "\n",
              "    .dataframe tbody tr th {\n",
              "        vertical-align: top;\n",
              "    }\n",
              "\n",
              "    .dataframe thead th {\n",
              "        text-align: right;\n",
              "    }\n",
              "</style>\n",
              "<table border=\"1\" class=\"dataframe\">\n",
              "  <thead>\n",
              "    <tr style=\"text-align: right;\">\n",
              "      <th></th>\n",
              "      <th>patientId</th>\n",
              "      <th>class</th>\n",
              "    </tr>\n",
              "  </thead>\n",
              "  <tbody>\n",
              "    <tr>\n",
              "      <th>15681</th>\n",
              "      <td>98d086ab-0122-4c61-9b4b-a41ffc1a469b</td>\n",
              "      <td>Normal</td>\n",
              "    </tr>\n",
              "    <tr>\n",
              "      <th>22514</th>\n",
              "      <td>cb815f3a-5014-4bbe-9e34-828149ba9f6e</td>\n",
              "      <td>Lung Opacity</td>\n",
              "    </tr>\n",
              "    <tr>\n",
              "      <th>28636</th>\n",
              "      <td>fd49c13b-5627-4ee1-9b61-54013d8f1fd9</td>\n",
              "      <td>Normal</td>\n",
              "    </tr>\n",
              "    <tr>\n",
              "      <th>12765</th>\n",
              "      <td>818c3ac1-b27c-4d9e-8849-f97127647c97</td>\n",
              "      <td>No Lung Opacity / Not Normal</td>\n",
              "    </tr>\n",
              "    <tr>\n",
              "      <th>2744</th>\n",
              "      <td>33dea6c5-2f2c-4164-a489-8ae440b921f1</td>\n",
              "      <td>Lung Opacity</td>\n",
              "    </tr>\n",
              "    <tr>\n",
              "      <th>13901</th>\n",
              "      <td>8ab8dfdb-1afe-4e18-8a75-e6ac7ebc3fae</td>\n",
              "      <td>No Lung Opacity / Not Normal</td>\n",
              "    </tr>\n",
              "    <tr>\n",
              "      <th>20798</th>\n",
              "      <td>bd7b4e6e-5384-4cce-9732-0dd7f9d15da8</td>\n",
              "      <td>Lung Opacity</td>\n",
              "    </tr>\n",
              "    <tr>\n",
              "      <th>20865</th>\n",
              "      <td>bdd44f36-4634-44d1-b90f-3cbc8dc639f1</td>\n",
              "      <td>Lung Opacity</td>\n",
              "    </tr>\n",
              "    <tr>\n",
              "      <th>23119</th>\n",
              "      <td>d057a076-1711-4c17-92ea-7cfcc2209788</td>\n",
              "      <td>No Lung Opacity / Not Normal</td>\n",
              "    </tr>\n",
              "    <tr>\n",
              "      <th>5535</th>\n",
              "      <td>477cd50b-52f1-4994-871b-91cf32fa3174</td>\n",
              "      <td>No Lung Opacity / Not Normal</td>\n",
              "    </tr>\n",
              "  </tbody>\n",
              "</table>\n",
              "</div>"
            ],
            "text/plain": [
              "                                  patientId                         class\n",
              "15681  98d086ab-0122-4c61-9b4b-a41ffc1a469b                        Normal\n",
              "22514  cb815f3a-5014-4bbe-9e34-828149ba9f6e                  Lung Opacity\n",
              "28636  fd49c13b-5627-4ee1-9b61-54013d8f1fd9                        Normal\n",
              "12765  818c3ac1-b27c-4d9e-8849-f97127647c97  No Lung Opacity / Not Normal\n",
              "2744   33dea6c5-2f2c-4164-a489-8ae440b921f1                  Lung Opacity\n",
              "13901  8ab8dfdb-1afe-4e18-8a75-e6ac7ebc3fae  No Lung Opacity / Not Normal\n",
              "20798  bd7b4e6e-5384-4cce-9732-0dd7f9d15da8                  Lung Opacity\n",
              "20865  bdd44f36-4634-44d1-b90f-3cbc8dc639f1                  Lung Opacity\n",
              "23119  d057a076-1711-4c17-92ea-7cfcc2209788  No Lung Opacity / Not Normal\n",
              "5535   477cd50b-52f1-4994-871b-91cf32fa3174  No Lung Opacity / Not Normal"
            ]
          },
          "metadata": {
            "tags": []
          },
          "execution_count": 8
        }
      ]
    },
    {
      "cell_type": "code",
      "metadata": {
        "colab_type": "code",
        "id": "kn49csorbtWm",
        "outputId": "54e283ea-8247-41ce-b6e9-8ed10233ee7c",
        "colab": {
          "base_uri": "https://localhost:8080/",
          "height": 359
        }
      },
      "source": [
        "bbox_df.sample(10)"
      ],
      "execution_count": 9,
      "outputs": [
        {
          "output_type": "execute_result",
          "data": {
            "text/html": [
              "<div>\n",
              "<style scoped>\n",
              "    .dataframe tbody tr th:only-of-type {\n",
              "        vertical-align: middle;\n",
              "    }\n",
              "\n",
              "    .dataframe tbody tr th {\n",
              "        vertical-align: top;\n",
              "    }\n",
              "\n",
              "    .dataframe thead th {\n",
              "        text-align: right;\n",
              "    }\n",
              "</style>\n",
              "<table border=\"1\" class=\"dataframe\">\n",
              "  <thead>\n",
              "    <tr style=\"text-align: right;\">\n",
              "      <th></th>\n",
              "      <th>patientId</th>\n",
              "      <th>x</th>\n",
              "      <th>y</th>\n",
              "      <th>width</th>\n",
              "      <th>height</th>\n",
              "      <th>Target</th>\n",
              "    </tr>\n",
              "  </thead>\n",
              "  <tbody>\n",
              "    <tr>\n",
              "      <th>5809</th>\n",
              "      <td>49cda5b8-d41d-4b34-b25b-b92520b65ea5</td>\n",
              "      <td>NaN</td>\n",
              "      <td>NaN</td>\n",
              "      <td>NaN</td>\n",
              "      <td>NaN</td>\n",
              "      <td>0</td>\n",
              "    </tr>\n",
              "    <tr>\n",
              "      <th>28305</th>\n",
              "      <td>faa193f7-eeab-4acd-bc73-72208df5dd72</td>\n",
              "      <td>NaN</td>\n",
              "      <td>NaN</td>\n",
              "      <td>NaN</td>\n",
              "      <td>NaN</td>\n",
              "      <td>0</td>\n",
              "    </tr>\n",
              "    <tr>\n",
              "      <th>10647</th>\n",
              "      <td>70db87e6-4e7c-4afe-8bd9-a6870c67aee5</td>\n",
              "      <td>NaN</td>\n",
              "      <td>NaN</td>\n",
              "      <td>NaN</td>\n",
              "      <td>NaN</td>\n",
              "      <td>0</td>\n",
              "    </tr>\n",
              "    <tr>\n",
              "      <th>10146</th>\n",
              "      <td>6cd8ee4e-60ef-484e-b242-93009537142e</td>\n",
              "      <td>NaN</td>\n",
              "      <td>NaN</td>\n",
              "      <td>NaN</td>\n",
              "      <td>NaN</td>\n",
              "      <td>0</td>\n",
              "    </tr>\n",
              "    <tr>\n",
              "      <th>17586</th>\n",
              "      <td>a7b5d4ff-840c-4db3-bf4a-d5c71b49f754</td>\n",
              "      <td>NaN</td>\n",
              "      <td>NaN</td>\n",
              "      <td>NaN</td>\n",
              "      <td>NaN</td>\n",
              "      <td>0</td>\n",
              "    </tr>\n",
              "    <tr>\n",
              "      <th>35</th>\n",
              "      <td>019ca122-9cdf-4704-b7a9-449c8a1c263e</td>\n",
              "      <td>NaN</td>\n",
              "      <td>NaN</td>\n",
              "      <td>NaN</td>\n",
              "      <td>NaN</td>\n",
              "      <td>0</td>\n",
              "    </tr>\n",
              "    <tr>\n",
              "      <th>11844</th>\n",
              "      <td>7a10efd9-178c-485c-b1e3-605298a5bc76</td>\n",
              "      <td>NaN</td>\n",
              "      <td>NaN</td>\n",
              "      <td>NaN</td>\n",
              "      <td>NaN</td>\n",
              "      <td>0</td>\n",
              "    </tr>\n",
              "    <tr>\n",
              "      <th>2996</th>\n",
              "      <td>356ed546-ec57-4502-8fb9-1a9b48b6d83f</td>\n",
              "      <td>NaN</td>\n",
              "      <td>NaN</td>\n",
              "      <td>NaN</td>\n",
              "      <td>NaN</td>\n",
              "      <td>0</td>\n",
              "    </tr>\n",
              "    <tr>\n",
              "      <th>20968</th>\n",
              "      <td>be83eb42-e7de-44f3-b853-a4faee9c871c</td>\n",
              "      <td>NaN</td>\n",
              "      <td>NaN</td>\n",
              "      <td>NaN</td>\n",
              "      <td>NaN</td>\n",
              "      <td>0</td>\n",
              "    </tr>\n",
              "    <tr>\n",
              "      <th>20749</th>\n",
              "      <td>bd1356ed-d7fc-41d7-a11b-b1b1f2c5add1</td>\n",
              "      <td>138.0</td>\n",
              "      <td>79.0</td>\n",
              "      <td>274.0</td>\n",
              "      <td>591.0</td>\n",
              "      <td>1</td>\n",
              "    </tr>\n",
              "  </tbody>\n",
              "</table>\n",
              "</div>"
            ],
            "text/plain": [
              "                                  patientId      x     y  width  height  Target\n",
              "5809   49cda5b8-d41d-4b34-b25b-b92520b65ea5    NaN   NaN    NaN     NaN       0\n",
              "28305  faa193f7-eeab-4acd-bc73-72208df5dd72    NaN   NaN    NaN     NaN       0\n",
              "10647  70db87e6-4e7c-4afe-8bd9-a6870c67aee5    NaN   NaN    NaN     NaN       0\n",
              "10146  6cd8ee4e-60ef-484e-b242-93009537142e    NaN   NaN    NaN     NaN       0\n",
              "17586  a7b5d4ff-840c-4db3-bf4a-d5c71b49f754    NaN   NaN    NaN     NaN       0\n",
              "35     019ca122-9cdf-4704-b7a9-449c8a1c263e    NaN   NaN    NaN     NaN       0\n",
              "11844  7a10efd9-178c-485c-b1e3-605298a5bc76    NaN   NaN    NaN     NaN       0\n",
              "2996   356ed546-ec57-4502-8fb9-1a9b48b6d83f    NaN   NaN    NaN     NaN       0\n",
              "20968  be83eb42-e7de-44f3-b853-a4faee9c871c    NaN   NaN    NaN     NaN       0\n",
              "20749  bd1356ed-d7fc-41d7-a11b-b1b1f2c5add1  138.0  79.0  274.0   591.0       1"
            ]
          },
          "metadata": {
            "tags": []
          },
          "execution_count": 9
        }
      ]
    },
    {
      "cell_type": "code",
      "metadata": {
        "id": "S1UmUtyifiFJ",
        "colab_type": "code",
        "colab": {}
      },
      "source": [
        "bbox_df['duplicate'] = bbox_df.duplicated(['patientId'], keep=False)"
      ],
      "execution_count": 0,
      "outputs": []
    },
    {
      "cell_type": "code",
      "metadata": {
        "id": "6gFn3IxjfvX_",
        "colab_type": "code",
        "outputId": "5da9cf9b-18e8-4563-87a8-4d940ffec6c1",
        "colab": {
          "base_uri": "https://localhost:8080/",
          "height": 359
        }
      },
      "source": [
        "bbox_df.head(10)"
      ],
      "execution_count": 11,
      "outputs": [
        {
          "output_type": "execute_result",
          "data": {
            "text/html": [
              "<div>\n",
              "<style scoped>\n",
              "    .dataframe tbody tr th:only-of-type {\n",
              "        vertical-align: middle;\n",
              "    }\n",
              "\n",
              "    .dataframe tbody tr th {\n",
              "        vertical-align: top;\n",
              "    }\n",
              "\n",
              "    .dataframe thead th {\n",
              "        text-align: right;\n",
              "    }\n",
              "</style>\n",
              "<table border=\"1\" class=\"dataframe\">\n",
              "  <thead>\n",
              "    <tr style=\"text-align: right;\">\n",
              "      <th></th>\n",
              "      <th>patientId</th>\n",
              "      <th>x</th>\n",
              "      <th>y</th>\n",
              "      <th>width</th>\n",
              "      <th>height</th>\n",
              "      <th>Target</th>\n",
              "      <th>duplicate</th>\n",
              "    </tr>\n",
              "  </thead>\n",
              "  <tbody>\n",
              "    <tr>\n",
              "      <th>0</th>\n",
              "      <td>0004cfab-14fd-4e49-80ba-63a80b6bddd6</td>\n",
              "      <td>NaN</td>\n",
              "      <td>NaN</td>\n",
              "      <td>NaN</td>\n",
              "      <td>NaN</td>\n",
              "      <td>0</td>\n",
              "      <td>False</td>\n",
              "    </tr>\n",
              "    <tr>\n",
              "      <th>1</th>\n",
              "      <td>00313ee0-9eaa-42f4-b0ab-c148ed3241cd</td>\n",
              "      <td>NaN</td>\n",
              "      <td>NaN</td>\n",
              "      <td>NaN</td>\n",
              "      <td>NaN</td>\n",
              "      <td>0</td>\n",
              "      <td>False</td>\n",
              "    </tr>\n",
              "    <tr>\n",
              "      <th>2</th>\n",
              "      <td>00322d4d-1c29-4943-afc9-b6754be640eb</td>\n",
              "      <td>NaN</td>\n",
              "      <td>NaN</td>\n",
              "      <td>NaN</td>\n",
              "      <td>NaN</td>\n",
              "      <td>0</td>\n",
              "      <td>False</td>\n",
              "    </tr>\n",
              "    <tr>\n",
              "      <th>3</th>\n",
              "      <td>003d8fa0-6bf1-40ed-b54c-ac657f8495c5</td>\n",
              "      <td>NaN</td>\n",
              "      <td>NaN</td>\n",
              "      <td>NaN</td>\n",
              "      <td>NaN</td>\n",
              "      <td>0</td>\n",
              "      <td>False</td>\n",
              "    </tr>\n",
              "    <tr>\n",
              "      <th>4</th>\n",
              "      <td>00436515-870c-4b36-a041-de91049b9ab4</td>\n",
              "      <td>264.0</td>\n",
              "      <td>152.0</td>\n",
              "      <td>213.0</td>\n",
              "      <td>379.0</td>\n",
              "      <td>1</td>\n",
              "      <td>True</td>\n",
              "    </tr>\n",
              "    <tr>\n",
              "      <th>5</th>\n",
              "      <td>00436515-870c-4b36-a041-de91049b9ab4</td>\n",
              "      <td>562.0</td>\n",
              "      <td>152.0</td>\n",
              "      <td>256.0</td>\n",
              "      <td>453.0</td>\n",
              "      <td>1</td>\n",
              "      <td>True</td>\n",
              "    </tr>\n",
              "    <tr>\n",
              "      <th>6</th>\n",
              "      <td>00569f44-917d-4c86-a842-81832af98c30</td>\n",
              "      <td>NaN</td>\n",
              "      <td>NaN</td>\n",
              "      <td>NaN</td>\n",
              "      <td>NaN</td>\n",
              "      <td>0</td>\n",
              "      <td>False</td>\n",
              "    </tr>\n",
              "    <tr>\n",
              "      <th>7</th>\n",
              "      <td>006cec2e-6ce2-4549-bffa-eadfcd1e9970</td>\n",
              "      <td>NaN</td>\n",
              "      <td>NaN</td>\n",
              "      <td>NaN</td>\n",
              "      <td>NaN</td>\n",
              "      <td>0</td>\n",
              "      <td>False</td>\n",
              "    </tr>\n",
              "    <tr>\n",
              "      <th>8</th>\n",
              "      <td>00704310-78a8-4b38-8475-49f4573b2dbb</td>\n",
              "      <td>323.0</td>\n",
              "      <td>577.0</td>\n",
              "      <td>160.0</td>\n",
              "      <td>104.0</td>\n",
              "      <td>1</td>\n",
              "      <td>True</td>\n",
              "    </tr>\n",
              "    <tr>\n",
              "      <th>9</th>\n",
              "      <td>00704310-78a8-4b38-8475-49f4573b2dbb</td>\n",
              "      <td>695.0</td>\n",
              "      <td>575.0</td>\n",
              "      <td>162.0</td>\n",
              "      <td>137.0</td>\n",
              "      <td>1</td>\n",
              "      <td>True</td>\n",
              "    </tr>\n",
              "  </tbody>\n",
              "</table>\n",
              "</div>"
            ],
            "text/plain": [
              "                              patientId      x  ...  Target  duplicate\n",
              "0  0004cfab-14fd-4e49-80ba-63a80b6bddd6    NaN  ...       0      False\n",
              "1  00313ee0-9eaa-42f4-b0ab-c148ed3241cd    NaN  ...       0      False\n",
              "2  00322d4d-1c29-4943-afc9-b6754be640eb    NaN  ...       0      False\n",
              "3  003d8fa0-6bf1-40ed-b54c-ac657f8495c5    NaN  ...       0      False\n",
              "4  00436515-870c-4b36-a041-de91049b9ab4  264.0  ...       1       True\n",
              "5  00436515-870c-4b36-a041-de91049b9ab4  562.0  ...       1       True\n",
              "6  00569f44-917d-4c86-a842-81832af98c30    NaN  ...       0      False\n",
              "7  006cec2e-6ce2-4549-bffa-eadfcd1e9970    NaN  ...       0      False\n",
              "8  00704310-78a8-4b38-8475-49f4573b2dbb  323.0  ...       1       True\n",
              "9  00704310-78a8-4b38-8475-49f4573b2dbb  695.0  ...       1       True\n",
              "\n",
              "[10 rows x 7 columns]"
            ]
          },
          "metadata": {
            "tags": []
          },
          "execution_count": 11
        }
      ]
    },
    {
      "cell_type": "code",
      "metadata": {
        "id": "jBmV81LqRv68",
        "colab_type": "code",
        "colab": {}
      },
      "source": [
        "tmp_normal=bbox_df[(bbox_df['duplicate'] == False) &( bbox_df['Target']==0)]"
      ],
      "execution_count": 0,
      "outputs": []
    },
    {
      "cell_type": "code",
      "metadata": {
        "id": "PtMEX2OASMPS",
        "colab_type": "code",
        "outputId": "0c40f106-2398-4996-9e3c-6e79bcce07c7",
        "colab": {
          "base_uri": "https://localhost:8080/",
          "height": 34
        }
      },
      "source": [
        "tmp_normal.shape"
      ],
      "execution_count": 13,
      "outputs": [
        {
          "output_type": "execute_result",
          "data": {
            "text/plain": [
              "(20672, 7)"
            ]
          },
          "metadata": {
            "tags": []
          },
          "execution_count": 13
        }
      ]
    },
    {
      "cell_type": "code",
      "metadata": {
        "id": "rNywl9IRwfY5",
        "colab_type": "code",
        "colab": {}
      },
      "source": [
        "list_normal_patients=tmp_normal['patientId'].sample(500)"
      ],
      "execution_count": 0,
      "outputs": []
    },
    {
      "cell_type": "code",
      "metadata": {
        "id": "ZgWzRnKFwrbN",
        "colab_type": "code",
        "outputId": "494168a8-adae-4678-b458-27cb84b481c0",
        "colab": {
          "base_uri": "https://localhost:8080/",
          "height": 34
        }
      },
      "source": [
        "len(list_normal_patients)"
      ],
      "execution_count": 15,
      "outputs": [
        {
          "output_type": "execute_result",
          "data": {
            "text/plain": [
              "500"
            ]
          },
          "metadata": {
            "tags": []
          },
          "execution_count": 15
        }
      ]
    },
    {
      "cell_type": "code",
      "metadata": {
        "id": "44SoCExQSmbY",
        "colab_type": "code",
        "colab": {}
      },
      "source": [
        "tmp2_pneumonia=bbox_df[(bbox_df['duplicate'] == True) &( bbox_df['Target']==1)]"
      ],
      "execution_count": 0,
      "outputs": []
    },
    {
      "cell_type": "code",
      "metadata": {
        "id": "td86OFS_V7cb",
        "colab_type": "code",
        "outputId": "336e781f-c71c-4e42-cf2f-ecbc3ac5b9cc",
        "colab": {
          "base_uri": "https://localhost:8080/",
          "height": 34
        }
      },
      "source": [
        "tmp2_pneumonia.shape"
      ],
      "execution_count": 17,
      "outputs": [
        {
          "output_type": "execute_result",
          "data": {
            "text/plain": [
              "(6941, 7)"
            ]
          },
          "metadata": {
            "tags": []
          },
          "execution_count": 17
        }
      ]
    },
    {
      "cell_type": "code",
      "metadata": {
        "id": "whogweozwwSt",
        "colab_type": "code",
        "colab": {}
      },
      "source": [
        "list_pneumonia_patients=tmp2_pneumonia['patientId'].sample(500)"
      ],
      "execution_count": 0,
      "outputs": []
    },
    {
      "cell_type": "code",
      "metadata": {
        "id": "lCHoafTZw6W3",
        "colab_type": "code",
        "outputId": "e9bf7107-a850-4aac-9a12-765f0188bbc4",
        "colab": {
          "base_uri": "https://localhost:8080/",
          "height": 34
        }
      },
      "source": [
        "len(list_pneumonia_patients)"
      ],
      "execution_count": 19,
      "outputs": [
        {
          "output_type": "execute_result",
          "data": {
            "text/plain": [
              "500"
            ]
          },
          "metadata": {
            "tags": []
          },
          "execution_count": 19
        }
      ]
    },
    {
      "cell_type": "code",
      "metadata": {
        "id": "aAdF2zOeV3IP",
        "colab_type": "code",
        "colab": {}
      },
      "source": [
        "tmp3=bbox_df[(bbox_df['duplicate'] == False) &( bbox_df['Target']==1)]"
      ],
      "execution_count": 0,
      "outputs": []
    },
    {
      "cell_type": "code",
      "metadata": {
        "id": "xWWi18KVSpRC",
        "colab_type": "code",
        "outputId": "926640fe-e74b-46b2-8247-99f7750de3bb",
        "colab": {
          "base_uri": "https://localhost:8080/",
          "height": 34
        }
      },
      "source": [
        "tmp3.shape"
      ],
      "execution_count": 21,
      "outputs": [
        {
          "output_type": "execute_result",
          "data": {
            "text/plain": [
              "(2614, 7)"
            ]
          },
          "metadata": {
            "tags": []
          },
          "execution_count": 21
        }
      ]
    },
    {
      "cell_type": "code",
      "metadata": {
        "id": "7twkPQ7lR15-",
        "colab_type": "code",
        "colab": {}
      },
      "source": [
        "train_class_df = detailed_class_df.merge(bbox_df, left_on='patientId', right_on='patientId', how='inner')"
      ],
      "execution_count": 0,
      "outputs": []
    },
    {
      "cell_type": "code",
      "metadata": {
        "id": "NPH9Hceff77X",
        "colab_type": "code",
        "outputId": "b444062a-df3f-4c12-88b0-d1145f06748c",
        "colab": {
          "base_uri": "https://localhost:8080/",
          "height": 1289
        }
      },
      "source": [
        "train_class_df.head(40)"
      ],
      "execution_count": 23,
      "outputs": [
        {
          "output_type": "execute_result",
          "data": {
            "text/html": [
              "<div>\n",
              "<style scoped>\n",
              "    .dataframe tbody tr th:only-of-type {\n",
              "        vertical-align: middle;\n",
              "    }\n",
              "\n",
              "    .dataframe tbody tr th {\n",
              "        vertical-align: top;\n",
              "    }\n",
              "\n",
              "    .dataframe thead th {\n",
              "        text-align: right;\n",
              "    }\n",
              "</style>\n",
              "<table border=\"1\" class=\"dataframe\">\n",
              "  <thead>\n",
              "    <tr style=\"text-align: right;\">\n",
              "      <th></th>\n",
              "      <th>patientId</th>\n",
              "      <th>class</th>\n",
              "      <th>x</th>\n",
              "      <th>y</th>\n",
              "      <th>width</th>\n",
              "      <th>height</th>\n",
              "      <th>Target</th>\n",
              "      <th>duplicate</th>\n",
              "    </tr>\n",
              "  </thead>\n",
              "  <tbody>\n",
              "    <tr>\n",
              "      <th>0</th>\n",
              "      <td>0004cfab-14fd-4e49-80ba-63a80b6bddd6</td>\n",
              "      <td>No Lung Opacity / Not Normal</td>\n",
              "      <td>NaN</td>\n",
              "      <td>NaN</td>\n",
              "      <td>NaN</td>\n",
              "      <td>NaN</td>\n",
              "      <td>0</td>\n",
              "      <td>False</td>\n",
              "    </tr>\n",
              "    <tr>\n",
              "      <th>1</th>\n",
              "      <td>00313ee0-9eaa-42f4-b0ab-c148ed3241cd</td>\n",
              "      <td>No Lung Opacity / Not Normal</td>\n",
              "      <td>NaN</td>\n",
              "      <td>NaN</td>\n",
              "      <td>NaN</td>\n",
              "      <td>NaN</td>\n",
              "      <td>0</td>\n",
              "      <td>False</td>\n",
              "    </tr>\n",
              "    <tr>\n",
              "      <th>2</th>\n",
              "      <td>00322d4d-1c29-4943-afc9-b6754be640eb</td>\n",
              "      <td>No Lung Opacity / Not Normal</td>\n",
              "      <td>NaN</td>\n",
              "      <td>NaN</td>\n",
              "      <td>NaN</td>\n",
              "      <td>NaN</td>\n",
              "      <td>0</td>\n",
              "      <td>False</td>\n",
              "    </tr>\n",
              "    <tr>\n",
              "      <th>3</th>\n",
              "      <td>003d8fa0-6bf1-40ed-b54c-ac657f8495c5</td>\n",
              "      <td>Normal</td>\n",
              "      <td>NaN</td>\n",
              "      <td>NaN</td>\n",
              "      <td>NaN</td>\n",
              "      <td>NaN</td>\n",
              "      <td>0</td>\n",
              "      <td>False</td>\n",
              "    </tr>\n",
              "    <tr>\n",
              "      <th>4</th>\n",
              "      <td>00436515-870c-4b36-a041-de91049b9ab4</td>\n",
              "      <td>Lung Opacity</td>\n",
              "      <td>264.0</td>\n",
              "      <td>152.0</td>\n",
              "      <td>213.0</td>\n",
              "      <td>379.0</td>\n",
              "      <td>1</td>\n",
              "      <td>True</td>\n",
              "    </tr>\n",
              "    <tr>\n",
              "      <th>5</th>\n",
              "      <td>00436515-870c-4b36-a041-de91049b9ab4</td>\n",
              "      <td>Lung Opacity</td>\n",
              "      <td>562.0</td>\n",
              "      <td>152.0</td>\n",
              "      <td>256.0</td>\n",
              "      <td>453.0</td>\n",
              "      <td>1</td>\n",
              "      <td>True</td>\n",
              "    </tr>\n",
              "    <tr>\n",
              "      <th>6</th>\n",
              "      <td>00436515-870c-4b36-a041-de91049b9ab4</td>\n",
              "      <td>Lung Opacity</td>\n",
              "      <td>264.0</td>\n",
              "      <td>152.0</td>\n",
              "      <td>213.0</td>\n",
              "      <td>379.0</td>\n",
              "      <td>1</td>\n",
              "      <td>True</td>\n",
              "    </tr>\n",
              "    <tr>\n",
              "      <th>7</th>\n",
              "      <td>00436515-870c-4b36-a041-de91049b9ab4</td>\n",
              "      <td>Lung Opacity</td>\n",
              "      <td>562.0</td>\n",
              "      <td>152.0</td>\n",
              "      <td>256.0</td>\n",
              "      <td>453.0</td>\n",
              "      <td>1</td>\n",
              "      <td>True</td>\n",
              "    </tr>\n",
              "    <tr>\n",
              "      <th>8</th>\n",
              "      <td>00569f44-917d-4c86-a842-81832af98c30</td>\n",
              "      <td>No Lung Opacity / Not Normal</td>\n",
              "      <td>NaN</td>\n",
              "      <td>NaN</td>\n",
              "      <td>NaN</td>\n",
              "      <td>NaN</td>\n",
              "      <td>0</td>\n",
              "      <td>False</td>\n",
              "    </tr>\n",
              "    <tr>\n",
              "      <th>9</th>\n",
              "      <td>006cec2e-6ce2-4549-bffa-eadfcd1e9970</td>\n",
              "      <td>No Lung Opacity / Not Normal</td>\n",
              "      <td>NaN</td>\n",
              "      <td>NaN</td>\n",
              "      <td>NaN</td>\n",
              "      <td>NaN</td>\n",
              "      <td>0</td>\n",
              "      <td>False</td>\n",
              "    </tr>\n",
              "    <tr>\n",
              "      <th>10</th>\n",
              "      <td>00704310-78a8-4b38-8475-49f4573b2dbb</td>\n",
              "      <td>Lung Opacity</td>\n",
              "      <td>323.0</td>\n",
              "      <td>577.0</td>\n",
              "      <td>160.0</td>\n",
              "      <td>104.0</td>\n",
              "      <td>1</td>\n",
              "      <td>True</td>\n",
              "    </tr>\n",
              "    <tr>\n",
              "      <th>11</th>\n",
              "      <td>00704310-78a8-4b38-8475-49f4573b2dbb</td>\n",
              "      <td>Lung Opacity</td>\n",
              "      <td>695.0</td>\n",
              "      <td>575.0</td>\n",
              "      <td>162.0</td>\n",
              "      <td>137.0</td>\n",
              "      <td>1</td>\n",
              "      <td>True</td>\n",
              "    </tr>\n",
              "    <tr>\n",
              "      <th>12</th>\n",
              "      <td>00704310-78a8-4b38-8475-49f4573b2dbb</td>\n",
              "      <td>Lung Opacity</td>\n",
              "      <td>323.0</td>\n",
              "      <td>577.0</td>\n",
              "      <td>160.0</td>\n",
              "      <td>104.0</td>\n",
              "      <td>1</td>\n",
              "      <td>True</td>\n",
              "    </tr>\n",
              "    <tr>\n",
              "      <th>13</th>\n",
              "      <td>00704310-78a8-4b38-8475-49f4573b2dbb</td>\n",
              "      <td>Lung Opacity</td>\n",
              "      <td>695.0</td>\n",
              "      <td>575.0</td>\n",
              "      <td>162.0</td>\n",
              "      <td>137.0</td>\n",
              "      <td>1</td>\n",
              "      <td>True</td>\n",
              "    </tr>\n",
              "    <tr>\n",
              "      <th>14</th>\n",
              "      <td>008c19e8-a820-403a-930a-bc74a4053664</td>\n",
              "      <td>No Lung Opacity / Not Normal</td>\n",
              "      <td>NaN</td>\n",
              "      <td>NaN</td>\n",
              "      <td>NaN</td>\n",
              "      <td>NaN</td>\n",
              "      <td>0</td>\n",
              "      <td>False</td>\n",
              "    </tr>\n",
              "    <tr>\n",
              "      <th>15</th>\n",
              "      <td>009482dc-3db5-48d4-8580-5c89c4f01334</td>\n",
              "      <td>Normal</td>\n",
              "      <td>NaN</td>\n",
              "      <td>NaN</td>\n",
              "      <td>NaN</td>\n",
              "      <td>NaN</td>\n",
              "      <td>0</td>\n",
              "      <td>False</td>\n",
              "    </tr>\n",
              "    <tr>\n",
              "      <th>16</th>\n",
              "      <td>009eb222-eabc-4150-8121-d5a6d06b8ebf</td>\n",
              "      <td>Normal</td>\n",
              "      <td>NaN</td>\n",
              "      <td>NaN</td>\n",
              "      <td>NaN</td>\n",
              "      <td>NaN</td>\n",
              "      <td>0</td>\n",
              "      <td>False</td>\n",
              "    </tr>\n",
              "    <tr>\n",
              "      <th>17</th>\n",
              "      <td>00a85be6-6eb0-421d-8acf-ff2dc0007e8a</td>\n",
              "      <td>Normal</td>\n",
              "      <td>NaN</td>\n",
              "      <td>NaN</td>\n",
              "      <td>NaN</td>\n",
              "      <td>NaN</td>\n",
              "      <td>0</td>\n",
              "      <td>False</td>\n",
              "    </tr>\n",
              "    <tr>\n",
              "      <th>18</th>\n",
              "      <td>00aecb01-a116-45a2-956c-08d2fa55433f</td>\n",
              "      <td>Lung Opacity</td>\n",
              "      <td>288.0</td>\n",
              "      <td>322.0</td>\n",
              "      <td>94.0</td>\n",
              "      <td>135.0</td>\n",
              "      <td>1</td>\n",
              "      <td>True</td>\n",
              "    </tr>\n",
              "    <tr>\n",
              "      <th>19</th>\n",
              "      <td>00aecb01-a116-45a2-956c-08d2fa55433f</td>\n",
              "      <td>Lung Opacity</td>\n",
              "      <td>547.0</td>\n",
              "      <td>299.0</td>\n",
              "      <td>119.0</td>\n",
              "      <td>165.0</td>\n",
              "      <td>1</td>\n",
              "      <td>True</td>\n",
              "    </tr>\n",
              "    <tr>\n",
              "      <th>20</th>\n",
              "      <td>00aecb01-a116-45a2-956c-08d2fa55433f</td>\n",
              "      <td>Lung Opacity</td>\n",
              "      <td>288.0</td>\n",
              "      <td>322.0</td>\n",
              "      <td>94.0</td>\n",
              "      <td>135.0</td>\n",
              "      <td>1</td>\n",
              "      <td>True</td>\n",
              "    </tr>\n",
              "    <tr>\n",
              "      <th>21</th>\n",
              "      <td>00aecb01-a116-45a2-956c-08d2fa55433f</td>\n",
              "      <td>Lung Opacity</td>\n",
              "      <td>547.0</td>\n",
              "      <td>299.0</td>\n",
              "      <td>119.0</td>\n",
              "      <td>165.0</td>\n",
              "      <td>1</td>\n",
              "      <td>True</td>\n",
              "    </tr>\n",
              "    <tr>\n",
              "      <th>22</th>\n",
              "      <td>00c0b293-48e7-4e16-ac76-9269ba535a62</td>\n",
              "      <td>Lung Opacity</td>\n",
              "      <td>306.0</td>\n",
              "      <td>544.0</td>\n",
              "      <td>168.0</td>\n",
              "      <td>244.0</td>\n",
              "      <td>1</td>\n",
              "      <td>True</td>\n",
              "    </tr>\n",
              "    <tr>\n",
              "      <th>23</th>\n",
              "      <td>00c0b293-48e7-4e16-ac76-9269ba535a62</td>\n",
              "      <td>Lung Opacity</td>\n",
              "      <td>650.0</td>\n",
              "      <td>511.0</td>\n",
              "      <td>206.0</td>\n",
              "      <td>284.0</td>\n",
              "      <td>1</td>\n",
              "      <td>True</td>\n",
              "    </tr>\n",
              "    <tr>\n",
              "      <th>24</th>\n",
              "      <td>00c0b293-48e7-4e16-ac76-9269ba535a62</td>\n",
              "      <td>Lung Opacity</td>\n",
              "      <td>306.0</td>\n",
              "      <td>544.0</td>\n",
              "      <td>168.0</td>\n",
              "      <td>244.0</td>\n",
              "      <td>1</td>\n",
              "      <td>True</td>\n",
              "    </tr>\n",
              "    <tr>\n",
              "      <th>25</th>\n",
              "      <td>00c0b293-48e7-4e16-ac76-9269ba535a62</td>\n",
              "      <td>Lung Opacity</td>\n",
              "      <td>650.0</td>\n",
              "      <td>511.0</td>\n",
              "      <td>206.0</td>\n",
              "      <td>284.0</td>\n",
              "      <td>1</td>\n",
              "      <td>True</td>\n",
              "    </tr>\n",
              "    <tr>\n",
              "      <th>26</th>\n",
              "      <td>00d7c36e-3cdf-4df6-ac03-6c30cdc8e85b</td>\n",
              "      <td>No Lung Opacity / Not Normal</td>\n",
              "      <td>NaN</td>\n",
              "      <td>NaN</td>\n",
              "      <td>NaN</td>\n",
              "      <td>NaN</td>\n",
              "      <td>0</td>\n",
              "      <td>False</td>\n",
              "    </tr>\n",
              "    <tr>\n",
              "      <th>27</th>\n",
              "      <td>00f08de1-517e-4652-a04f-d1dc9ee48593</td>\n",
              "      <td>Lung Opacity</td>\n",
              "      <td>181.0</td>\n",
              "      <td>184.0</td>\n",
              "      <td>206.0</td>\n",
              "      <td>506.0</td>\n",
              "      <td>1</td>\n",
              "      <td>True</td>\n",
              "    </tr>\n",
              "    <tr>\n",
              "      <th>28</th>\n",
              "      <td>00f08de1-517e-4652-a04f-d1dc9ee48593</td>\n",
              "      <td>Lung Opacity</td>\n",
              "      <td>571.0</td>\n",
              "      <td>275.0</td>\n",
              "      <td>230.0</td>\n",
              "      <td>476.0</td>\n",
              "      <td>1</td>\n",
              "      <td>True</td>\n",
              "    </tr>\n",
              "    <tr>\n",
              "      <th>29</th>\n",
              "      <td>00f08de1-517e-4652-a04f-d1dc9ee48593</td>\n",
              "      <td>Lung Opacity</td>\n",
              "      <td>181.0</td>\n",
              "      <td>184.0</td>\n",
              "      <td>206.0</td>\n",
              "      <td>506.0</td>\n",
              "      <td>1</td>\n",
              "      <td>True</td>\n",
              "    </tr>\n",
              "    <tr>\n",
              "      <th>30</th>\n",
              "      <td>00f08de1-517e-4652-a04f-d1dc9ee48593</td>\n",
              "      <td>Lung Opacity</td>\n",
              "      <td>571.0</td>\n",
              "      <td>275.0</td>\n",
              "      <td>230.0</td>\n",
              "      <td>476.0</td>\n",
              "      <td>1</td>\n",
              "      <td>True</td>\n",
              "    </tr>\n",
              "    <tr>\n",
              "      <th>31</th>\n",
              "      <td>00f87de5-5fe0-4921-93ea-914d7e683266</td>\n",
              "      <td>Normal</td>\n",
              "      <td>NaN</td>\n",
              "      <td>NaN</td>\n",
              "      <td>NaN</td>\n",
              "      <td>NaN</td>\n",
              "      <td>0</td>\n",
              "      <td>False</td>\n",
              "    </tr>\n",
              "    <tr>\n",
              "      <th>32</th>\n",
              "      <td>0100515c-5204-4f31-98e0-f35e4b00004a</td>\n",
              "      <td>Lung Opacity</td>\n",
              "      <td>703.0</td>\n",
              "      <td>416.0</td>\n",
              "      <td>84.0</td>\n",
              "      <td>77.0</td>\n",
              "      <td>1</td>\n",
              "      <td>False</td>\n",
              "    </tr>\n",
              "    <tr>\n",
              "      <th>33</th>\n",
              "      <td>01027bc3-dc40-4165-a6c3-d6be2cb7ca34</td>\n",
              "      <td>Normal</td>\n",
              "      <td>NaN</td>\n",
              "      <td>NaN</td>\n",
              "      <td>NaN</td>\n",
              "      <td>NaN</td>\n",
              "      <td>0</td>\n",
              "      <td>False</td>\n",
              "    </tr>\n",
              "    <tr>\n",
              "      <th>34</th>\n",
              "      <td>010ccb9f-6d46-4380-af11-84f87397a1b8</td>\n",
              "      <td>Lung Opacity</td>\n",
              "      <td>652.0</td>\n",
              "      <td>437.0</td>\n",
              "      <td>161.0</td>\n",
              "      <td>293.0</td>\n",
              "      <td>1</td>\n",
              "      <td>True</td>\n",
              "    </tr>\n",
              "    <tr>\n",
              "      <th>35</th>\n",
              "      <td>010ccb9f-6d46-4380-af11-84f87397a1b8</td>\n",
              "      <td>Lung Opacity</td>\n",
              "      <td>301.0</td>\n",
              "      <td>405.0</td>\n",
              "      <td>141.0</td>\n",
              "      <td>279.0</td>\n",
              "      <td>1</td>\n",
              "      <td>True</td>\n",
              "    </tr>\n",
              "    <tr>\n",
              "      <th>36</th>\n",
              "      <td>010ccb9f-6d46-4380-af11-84f87397a1b8</td>\n",
              "      <td>Lung Opacity</td>\n",
              "      <td>652.0</td>\n",
              "      <td>437.0</td>\n",
              "      <td>161.0</td>\n",
              "      <td>293.0</td>\n",
              "      <td>1</td>\n",
              "      <td>True</td>\n",
              "    </tr>\n",
              "    <tr>\n",
              "      <th>37</th>\n",
              "      <td>010ccb9f-6d46-4380-af11-84f87397a1b8</td>\n",
              "      <td>Lung Opacity</td>\n",
              "      <td>301.0</td>\n",
              "      <td>405.0</td>\n",
              "      <td>141.0</td>\n",
              "      <td>279.0</td>\n",
              "      <td>1</td>\n",
              "      <td>True</td>\n",
              "    </tr>\n",
              "    <tr>\n",
              "      <th>38</th>\n",
              "      <td>011d6f51-b732-4d45-a84d-90477325ef2d</td>\n",
              "      <td>No Lung Opacity / Not Normal</td>\n",
              "      <td>NaN</td>\n",
              "      <td>NaN</td>\n",
              "      <td>NaN</td>\n",
              "      <td>NaN</td>\n",
              "      <td>0</td>\n",
              "      <td>False</td>\n",
              "    </tr>\n",
              "    <tr>\n",
              "      <th>39</th>\n",
              "      <td>012a5620-d082-4bb8-9b3b-e72d8938000c</td>\n",
              "      <td>Lung Opacity</td>\n",
              "      <td>133.0</td>\n",
              "      <td>613.0</td>\n",
              "      <td>275.0</td>\n",
              "      <td>275.0</td>\n",
              "      <td>1</td>\n",
              "      <td>True</td>\n",
              "    </tr>\n",
              "  </tbody>\n",
              "</table>\n",
              "</div>"
            ],
            "text/plain": [
              "                               patientId  ... duplicate\n",
              "0   0004cfab-14fd-4e49-80ba-63a80b6bddd6  ...     False\n",
              "1   00313ee0-9eaa-42f4-b0ab-c148ed3241cd  ...     False\n",
              "2   00322d4d-1c29-4943-afc9-b6754be640eb  ...     False\n",
              "3   003d8fa0-6bf1-40ed-b54c-ac657f8495c5  ...     False\n",
              "4   00436515-870c-4b36-a041-de91049b9ab4  ...      True\n",
              "5   00436515-870c-4b36-a041-de91049b9ab4  ...      True\n",
              "6   00436515-870c-4b36-a041-de91049b9ab4  ...      True\n",
              "7   00436515-870c-4b36-a041-de91049b9ab4  ...      True\n",
              "8   00569f44-917d-4c86-a842-81832af98c30  ...     False\n",
              "9   006cec2e-6ce2-4549-bffa-eadfcd1e9970  ...     False\n",
              "10  00704310-78a8-4b38-8475-49f4573b2dbb  ...      True\n",
              "11  00704310-78a8-4b38-8475-49f4573b2dbb  ...      True\n",
              "12  00704310-78a8-4b38-8475-49f4573b2dbb  ...      True\n",
              "13  00704310-78a8-4b38-8475-49f4573b2dbb  ...      True\n",
              "14  008c19e8-a820-403a-930a-bc74a4053664  ...     False\n",
              "15  009482dc-3db5-48d4-8580-5c89c4f01334  ...     False\n",
              "16  009eb222-eabc-4150-8121-d5a6d06b8ebf  ...     False\n",
              "17  00a85be6-6eb0-421d-8acf-ff2dc0007e8a  ...     False\n",
              "18  00aecb01-a116-45a2-956c-08d2fa55433f  ...      True\n",
              "19  00aecb01-a116-45a2-956c-08d2fa55433f  ...      True\n",
              "20  00aecb01-a116-45a2-956c-08d2fa55433f  ...      True\n",
              "21  00aecb01-a116-45a2-956c-08d2fa55433f  ...      True\n",
              "22  00c0b293-48e7-4e16-ac76-9269ba535a62  ...      True\n",
              "23  00c0b293-48e7-4e16-ac76-9269ba535a62  ...      True\n",
              "24  00c0b293-48e7-4e16-ac76-9269ba535a62  ...      True\n",
              "25  00c0b293-48e7-4e16-ac76-9269ba535a62  ...      True\n",
              "26  00d7c36e-3cdf-4df6-ac03-6c30cdc8e85b  ...     False\n",
              "27  00f08de1-517e-4652-a04f-d1dc9ee48593  ...      True\n",
              "28  00f08de1-517e-4652-a04f-d1dc9ee48593  ...      True\n",
              "29  00f08de1-517e-4652-a04f-d1dc9ee48593  ...      True\n",
              "30  00f08de1-517e-4652-a04f-d1dc9ee48593  ...      True\n",
              "31  00f87de5-5fe0-4921-93ea-914d7e683266  ...     False\n",
              "32  0100515c-5204-4f31-98e0-f35e4b00004a  ...     False\n",
              "33  01027bc3-dc40-4165-a6c3-d6be2cb7ca34  ...     False\n",
              "34  010ccb9f-6d46-4380-af11-84f87397a1b8  ...      True\n",
              "35  010ccb9f-6d46-4380-af11-84f87397a1b8  ...      True\n",
              "36  010ccb9f-6d46-4380-af11-84f87397a1b8  ...      True\n",
              "37  010ccb9f-6d46-4380-af11-84f87397a1b8  ...      True\n",
              "38  011d6f51-b732-4d45-a84d-90477325ef2d  ...     False\n",
              "39  012a5620-d082-4bb8-9b3b-e72d8938000c  ...      True\n",
              "\n",
              "[40 rows x 8 columns]"
            ]
          },
          "metadata": {
            "tags": []
          },
          "execution_count": 23
        }
      ]
    },
    {
      "cell_type": "code",
      "metadata": {
        "id": "n6BLg25VPQZ9",
        "colab_type": "code",
        "outputId": "5d55c7e5-5e68-483d-f367-54cfa1e65fda",
        "colab": {
          "base_uri": "https://localhost:8080/",
          "height": 85
        }
      },
      "source": [
        "def get_feature_distribution(data, feature):\n",
        "    # Get the count for each label\n",
        "    label_counts = data[feature].value_counts()\n",
        "\n",
        "    # Get total number of samples\n",
        "    total_samples = len(data)\n",
        "\n",
        "    # Count the number of items in each class\n",
        "    print(\"Feature: {}\".format(feature))\n",
        "    for i in range(len(label_counts)):\n",
        "        label = label_counts.index[i]\n",
        "        count = label_counts.values[i]\n",
        "        percent = int((count / total_samples) * 10000) / 100\n",
        "        print(\"{:<30s}:   {} or {}%\".format(label, count, percent))\n",
        "\n",
        "get_feature_distribution(detailed_class_df, 'class')"
      ],
      "execution_count": 24,
      "outputs": [
        {
          "output_type": "stream",
          "text": [
            "Feature: class\n",
            "No Lung Opacity / Not Normal  :   11821 or 39.1%\n",
            "Lung Opacity                  :   9555 or 31.61%\n",
            "Normal                        :   8851 or 29.28%\n"
          ],
          "name": "stdout"
        }
      ]
    },
    {
      "cell_type": "code",
      "metadata": {
        "id": "V4c7ltUMPcIF",
        "colab_type": "code",
        "outputId": "efa37b8e-7848-48d0-dc24-5a677e2783fd",
        "colab": {
          "base_uri": "https://localhost:8080/",
          "height": 68
        }
      },
      "source": [
        "#get_feature_distribution(bbox_df, 'Target')\n",
        "bbox_df['Target'].value_counts()"
      ],
      "execution_count": 25,
      "outputs": [
        {
          "output_type": "execute_result",
          "data": {
            "text/plain": [
              "0    20672\n",
              "1     9555\n",
              "Name: Target, dtype: int64"
            ]
          },
          "metadata": {
            "tags": []
          },
          "execution_count": 25
        }
      ]
    },
    {
      "cell_type": "code",
      "metadata": {
        "id": "xFq7VKA0SYEA",
        "colab_type": "code",
        "outputId": "4eaebfa3-050a-437d-9ee8-b9a8deac780e",
        "colab": {
          "base_uri": "https://localhost:8080/",
          "height": 359
        }
      },
      "source": [
        "train_class_df.head(10)"
      ],
      "execution_count": 26,
      "outputs": [
        {
          "output_type": "execute_result",
          "data": {
            "text/html": [
              "<div>\n",
              "<style scoped>\n",
              "    .dataframe tbody tr th:only-of-type {\n",
              "        vertical-align: middle;\n",
              "    }\n",
              "\n",
              "    .dataframe tbody tr th {\n",
              "        vertical-align: top;\n",
              "    }\n",
              "\n",
              "    .dataframe thead th {\n",
              "        text-align: right;\n",
              "    }\n",
              "</style>\n",
              "<table border=\"1\" class=\"dataframe\">\n",
              "  <thead>\n",
              "    <tr style=\"text-align: right;\">\n",
              "      <th></th>\n",
              "      <th>patientId</th>\n",
              "      <th>class</th>\n",
              "      <th>x</th>\n",
              "      <th>y</th>\n",
              "      <th>width</th>\n",
              "      <th>height</th>\n",
              "      <th>Target</th>\n",
              "      <th>duplicate</th>\n",
              "    </tr>\n",
              "  </thead>\n",
              "  <tbody>\n",
              "    <tr>\n",
              "      <th>0</th>\n",
              "      <td>0004cfab-14fd-4e49-80ba-63a80b6bddd6</td>\n",
              "      <td>No Lung Opacity / Not Normal</td>\n",
              "      <td>NaN</td>\n",
              "      <td>NaN</td>\n",
              "      <td>NaN</td>\n",
              "      <td>NaN</td>\n",
              "      <td>0</td>\n",
              "      <td>False</td>\n",
              "    </tr>\n",
              "    <tr>\n",
              "      <th>1</th>\n",
              "      <td>00313ee0-9eaa-42f4-b0ab-c148ed3241cd</td>\n",
              "      <td>No Lung Opacity / Not Normal</td>\n",
              "      <td>NaN</td>\n",
              "      <td>NaN</td>\n",
              "      <td>NaN</td>\n",
              "      <td>NaN</td>\n",
              "      <td>0</td>\n",
              "      <td>False</td>\n",
              "    </tr>\n",
              "    <tr>\n",
              "      <th>2</th>\n",
              "      <td>00322d4d-1c29-4943-afc9-b6754be640eb</td>\n",
              "      <td>No Lung Opacity / Not Normal</td>\n",
              "      <td>NaN</td>\n",
              "      <td>NaN</td>\n",
              "      <td>NaN</td>\n",
              "      <td>NaN</td>\n",
              "      <td>0</td>\n",
              "      <td>False</td>\n",
              "    </tr>\n",
              "    <tr>\n",
              "      <th>3</th>\n",
              "      <td>003d8fa0-6bf1-40ed-b54c-ac657f8495c5</td>\n",
              "      <td>Normal</td>\n",
              "      <td>NaN</td>\n",
              "      <td>NaN</td>\n",
              "      <td>NaN</td>\n",
              "      <td>NaN</td>\n",
              "      <td>0</td>\n",
              "      <td>False</td>\n",
              "    </tr>\n",
              "    <tr>\n",
              "      <th>4</th>\n",
              "      <td>00436515-870c-4b36-a041-de91049b9ab4</td>\n",
              "      <td>Lung Opacity</td>\n",
              "      <td>264.0</td>\n",
              "      <td>152.0</td>\n",
              "      <td>213.0</td>\n",
              "      <td>379.0</td>\n",
              "      <td>1</td>\n",
              "      <td>True</td>\n",
              "    </tr>\n",
              "    <tr>\n",
              "      <th>5</th>\n",
              "      <td>00436515-870c-4b36-a041-de91049b9ab4</td>\n",
              "      <td>Lung Opacity</td>\n",
              "      <td>562.0</td>\n",
              "      <td>152.0</td>\n",
              "      <td>256.0</td>\n",
              "      <td>453.0</td>\n",
              "      <td>1</td>\n",
              "      <td>True</td>\n",
              "    </tr>\n",
              "    <tr>\n",
              "      <th>6</th>\n",
              "      <td>00436515-870c-4b36-a041-de91049b9ab4</td>\n",
              "      <td>Lung Opacity</td>\n",
              "      <td>264.0</td>\n",
              "      <td>152.0</td>\n",
              "      <td>213.0</td>\n",
              "      <td>379.0</td>\n",
              "      <td>1</td>\n",
              "      <td>True</td>\n",
              "    </tr>\n",
              "    <tr>\n",
              "      <th>7</th>\n",
              "      <td>00436515-870c-4b36-a041-de91049b9ab4</td>\n",
              "      <td>Lung Opacity</td>\n",
              "      <td>562.0</td>\n",
              "      <td>152.0</td>\n",
              "      <td>256.0</td>\n",
              "      <td>453.0</td>\n",
              "      <td>1</td>\n",
              "      <td>True</td>\n",
              "    </tr>\n",
              "    <tr>\n",
              "      <th>8</th>\n",
              "      <td>00569f44-917d-4c86-a842-81832af98c30</td>\n",
              "      <td>No Lung Opacity / Not Normal</td>\n",
              "      <td>NaN</td>\n",
              "      <td>NaN</td>\n",
              "      <td>NaN</td>\n",
              "      <td>NaN</td>\n",
              "      <td>0</td>\n",
              "      <td>False</td>\n",
              "    </tr>\n",
              "    <tr>\n",
              "      <th>9</th>\n",
              "      <td>006cec2e-6ce2-4549-bffa-eadfcd1e9970</td>\n",
              "      <td>No Lung Opacity / Not Normal</td>\n",
              "      <td>NaN</td>\n",
              "      <td>NaN</td>\n",
              "      <td>NaN</td>\n",
              "      <td>NaN</td>\n",
              "      <td>0</td>\n",
              "      <td>False</td>\n",
              "    </tr>\n",
              "  </tbody>\n",
              "</table>\n",
              "</div>"
            ],
            "text/plain": [
              "                              patientId  ... duplicate\n",
              "0  0004cfab-14fd-4e49-80ba-63a80b6bddd6  ...     False\n",
              "1  00313ee0-9eaa-42f4-b0ab-c148ed3241cd  ...     False\n",
              "2  00322d4d-1c29-4943-afc9-b6754be640eb  ...     False\n",
              "3  003d8fa0-6bf1-40ed-b54c-ac657f8495c5  ...     False\n",
              "4  00436515-870c-4b36-a041-de91049b9ab4  ...      True\n",
              "5  00436515-870c-4b36-a041-de91049b9ab4  ...      True\n",
              "6  00436515-870c-4b36-a041-de91049b9ab4  ...      True\n",
              "7  00436515-870c-4b36-a041-de91049b9ab4  ...      True\n",
              "8  00569f44-917d-4c86-a842-81832af98c30  ...     False\n",
              "9  006cec2e-6ce2-4549-bffa-eadfcd1e9970  ...     False\n",
              "\n",
              "[10 rows x 8 columns]"
            ]
          },
          "metadata": {
            "tags": []
          },
          "execution_count": 26
        }
      ]
    },
    {
      "cell_type": "code",
      "metadata": {
        "id": "i2tzHJsUaxjR",
        "colab_type": "code",
        "outputId": "3c3d4035-a600-4eae-95a0-7c82d95bf495",
        "colab": {
          "base_uri": "https://localhost:8080/",
          "height": 204
        }
      },
      "source": [
        "pneumonia_patients=train_class_df[train_class_df.Target != 0]\n",
        "# Sort by patientId\n",
        "pneumonia_patients.groupby(['patientId'], sort=False)\n",
        "pneumonia_patients.head()"
      ],
      "execution_count": 27,
      "outputs": [
        {
          "output_type": "execute_result",
          "data": {
            "text/html": [
              "<div>\n",
              "<style scoped>\n",
              "    .dataframe tbody tr th:only-of-type {\n",
              "        vertical-align: middle;\n",
              "    }\n",
              "\n",
              "    .dataframe tbody tr th {\n",
              "        vertical-align: top;\n",
              "    }\n",
              "\n",
              "    .dataframe thead th {\n",
              "        text-align: right;\n",
              "    }\n",
              "</style>\n",
              "<table border=\"1\" class=\"dataframe\">\n",
              "  <thead>\n",
              "    <tr style=\"text-align: right;\">\n",
              "      <th></th>\n",
              "      <th>patientId</th>\n",
              "      <th>class</th>\n",
              "      <th>x</th>\n",
              "      <th>y</th>\n",
              "      <th>width</th>\n",
              "      <th>height</th>\n",
              "      <th>Target</th>\n",
              "      <th>duplicate</th>\n",
              "    </tr>\n",
              "  </thead>\n",
              "  <tbody>\n",
              "    <tr>\n",
              "      <th>4</th>\n",
              "      <td>00436515-870c-4b36-a041-de91049b9ab4</td>\n",
              "      <td>Lung Opacity</td>\n",
              "      <td>264.0</td>\n",
              "      <td>152.0</td>\n",
              "      <td>213.0</td>\n",
              "      <td>379.0</td>\n",
              "      <td>1</td>\n",
              "      <td>True</td>\n",
              "    </tr>\n",
              "    <tr>\n",
              "      <th>5</th>\n",
              "      <td>00436515-870c-4b36-a041-de91049b9ab4</td>\n",
              "      <td>Lung Opacity</td>\n",
              "      <td>562.0</td>\n",
              "      <td>152.0</td>\n",
              "      <td>256.0</td>\n",
              "      <td>453.0</td>\n",
              "      <td>1</td>\n",
              "      <td>True</td>\n",
              "    </tr>\n",
              "    <tr>\n",
              "      <th>6</th>\n",
              "      <td>00436515-870c-4b36-a041-de91049b9ab4</td>\n",
              "      <td>Lung Opacity</td>\n",
              "      <td>264.0</td>\n",
              "      <td>152.0</td>\n",
              "      <td>213.0</td>\n",
              "      <td>379.0</td>\n",
              "      <td>1</td>\n",
              "      <td>True</td>\n",
              "    </tr>\n",
              "    <tr>\n",
              "      <th>7</th>\n",
              "      <td>00436515-870c-4b36-a041-de91049b9ab4</td>\n",
              "      <td>Lung Opacity</td>\n",
              "      <td>562.0</td>\n",
              "      <td>152.0</td>\n",
              "      <td>256.0</td>\n",
              "      <td>453.0</td>\n",
              "      <td>1</td>\n",
              "      <td>True</td>\n",
              "    </tr>\n",
              "    <tr>\n",
              "      <th>10</th>\n",
              "      <td>00704310-78a8-4b38-8475-49f4573b2dbb</td>\n",
              "      <td>Lung Opacity</td>\n",
              "      <td>323.0</td>\n",
              "      <td>577.0</td>\n",
              "      <td>160.0</td>\n",
              "      <td>104.0</td>\n",
              "      <td>1</td>\n",
              "      <td>True</td>\n",
              "    </tr>\n",
              "  </tbody>\n",
              "</table>\n",
              "</div>"
            ],
            "text/plain": [
              "                               patientId         class  ...  Target  duplicate\n",
              "4   00436515-870c-4b36-a041-de91049b9ab4  Lung Opacity  ...       1       True\n",
              "5   00436515-870c-4b36-a041-de91049b9ab4  Lung Opacity  ...       1       True\n",
              "6   00436515-870c-4b36-a041-de91049b9ab4  Lung Opacity  ...       1       True\n",
              "7   00436515-870c-4b36-a041-de91049b9ab4  Lung Opacity  ...       1       True\n",
              "10  00704310-78a8-4b38-8475-49f4573b2dbb  Lung Opacity  ...       1       True\n",
              "\n",
              "[5 rows x 8 columns]"
            ]
          },
          "metadata": {
            "tags": []
          },
          "execution_count": 27
        }
      ]
    },
    {
      "cell_type": "code",
      "metadata": {
        "id": "UIS8YYixchJ5",
        "colab_type": "code",
        "outputId": "72801a5c-a599-40e4-c898-ca952fb51ff0",
        "colab": {
          "base_uri": "https://localhost:8080/",
          "height": 34
        }
      },
      "source": [
        "pneumonia_patients.shape"
      ],
      "execution_count": 28,
      "outputs": [
        {
          "output_type": "execute_result",
          "data": {
            "text/plain": [
              "(16957, 8)"
            ]
          },
          "metadata": {
            "tags": []
          },
          "execution_count": 28
        }
      ]
    },
    {
      "cell_type": "code",
      "metadata": {
        "id": "BQZL990CW9a1",
        "colab_type": "code",
        "outputId": "0cb7f19d-f3c6-4d5f-a70c-f7ec781cc201",
        "colab": {
          "base_uri": "https://localhost:8080/",
          "height": 51
        }
      },
      "source": [
        "pneumonia_patients['class'].value_counts()"
      ],
      "execution_count": 29,
      "outputs": [
        {
          "output_type": "execute_result",
          "data": {
            "text/plain": [
              "Lung Opacity    16957\n",
              "Name: class, dtype: int64"
            ]
          },
          "metadata": {
            "tags": []
          },
          "execution_count": 29
        }
      ]
    },
    {
      "cell_type": "code",
      "metadata": {
        "id": "EnR6q0sfcc_J",
        "colab_type": "code",
        "outputId": "8df29ef1-ba66-44f3-d4ba-905b57d17a35",
        "colab": {
          "base_uri": "https://localhost:8080/",
          "height": 34
        }
      },
      "source": [
        "any(pneumonia_patients['patientId'].duplicated())"
      ],
      "execution_count": 30,
      "outputs": [
        {
          "output_type": "execute_result",
          "data": {
            "text/plain": [
              "True"
            ]
          },
          "metadata": {
            "tags": []
          },
          "execution_count": 30
        }
      ]
    },
    {
      "cell_type": "code",
      "metadata": {
        "id": "APC2sqf53yJD",
        "colab_type": "code",
        "colab": {}
      },
      "source": [
        "gt=train_class_df.groupby('patientId',as_index=False)['Target'].max()"
      ],
      "execution_count": 0,
      "outputs": []
    },
    {
      "cell_type": "code",
      "metadata": {
        "id": "6puiR4hRPIpU",
        "colab_type": "code",
        "colab": {}
      },
      "source": [
        ""
      ],
      "execution_count": 0,
      "outputs": []
    },
    {
      "cell_type": "code",
      "metadata": {
        "id": "M3hNu9VN-fC3",
        "colab_type": "code",
        "outputId": "63280b7a-041a-4b3c-e764-0835fc857403",
        "colab": {
          "base_uri": "https://localhost:8080/",
          "height": 34
        }
      },
      "source": [
        "gt.shape"
      ],
      "execution_count": 32,
      "outputs": [
        {
          "output_type": "execute_result",
          "data": {
            "text/plain": [
              "(26684, 2)"
            ]
          },
          "metadata": {
            "tags": []
          },
          "execution_count": 32
        }
      ]
    },
    {
      "cell_type": "code",
      "metadata": {
        "id": "z_hVa3dmAcsG",
        "colab_type": "code",
        "outputId": "7ac0d844-b7c3-4eec-ab7c-2b49318582d4",
        "colab": {
          "base_uri": "https://localhost:8080/",
          "height": 359
        }
      },
      "source": [
        "gt.sample(10)"
      ],
      "execution_count": 33,
      "outputs": [
        {
          "output_type": "execute_result",
          "data": {
            "text/html": [
              "<div>\n",
              "<style scoped>\n",
              "    .dataframe tbody tr th:only-of-type {\n",
              "        vertical-align: middle;\n",
              "    }\n",
              "\n",
              "    .dataframe tbody tr th {\n",
              "        vertical-align: top;\n",
              "    }\n",
              "\n",
              "    .dataframe thead th {\n",
              "        text-align: right;\n",
              "    }\n",
              "</style>\n",
              "<table border=\"1\" class=\"dataframe\">\n",
              "  <thead>\n",
              "    <tr style=\"text-align: right;\">\n",
              "      <th></th>\n",
              "      <th>patientId</th>\n",
              "      <th>Target</th>\n",
              "    </tr>\n",
              "  </thead>\n",
              "  <tbody>\n",
              "    <tr>\n",
              "      <th>2644</th>\n",
              "      <td>2bcd9659-31d3-4e71-aca6-6b7defbb5b3d</td>\n",
              "      <td>0</td>\n",
              "    </tr>\n",
              "    <tr>\n",
              "      <th>11904</th>\n",
              "      <td>7eb0abcb-860e-4745-b311-28657770c038</td>\n",
              "      <td>1</td>\n",
              "    </tr>\n",
              "    <tr>\n",
              "      <th>6336</th>\n",
              "      <td>4ef41ff0-2671-4b4d-8492-90aad883e126</td>\n",
              "      <td>0</td>\n",
              "    </tr>\n",
              "    <tr>\n",
              "      <th>9742</th>\n",
              "      <td>6bf5b78a-635b-48f2-b767-460711927d7f</td>\n",
              "      <td>0</td>\n",
              "    </tr>\n",
              "    <tr>\n",
              "      <th>974</th>\n",
              "      <td>0bf374b1-dd39-4549-b573-6e69af4dd0e9</td>\n",
              "      <td>0</td>\n",
              "    </tr>\n",
              "    <tr>\n",
              "      <th>24379</th>\n",
              "      <td>ec3bdec5-13df-49c0-862a-c8dd8124bfce</td>\n",
              "      <td>0</td>\n",
              "    </tr>\n",
              "    <tr>\n",
              "      <th>8776</th>\n",
              "      <td>6448b83f-acd4-4ec5-94ca-fa76bd04a9cd</td>\n",
              "      <td>0</td>\n",
              "    </tr>\n",
              "    <tr>\n",
              "      <th>12994</th>\n",
              "      <td>88d25c7b-029a-484e-b860-284e164422cf</td>\n",
              "      <td>1</td>\n",
              "    </tr>\n",
              "    <tr>\n",
              "      <th>5721</th>\n",
              "      <td>499d40ec-e646-4e4b-a864-a95f47b10413</td>\n",
              "      <td>0</td>\n",
              "    </tr>\n",
              "    <tr>\n",
              "      <th>10399</th>\n",
              "      <td>7181705d-bd1b-4896-94e6-0cc4d7562d56</td>\n",
              "      <td>1</td>\n",
              "    </tr>\n",
              "  </tbody>\n",
              "</table>\n",
              "</div>"
            ],
            "text/plain": [
              "                                  patientId  Target\n",
              "2644   2bcd9659-31d3-4e71-aca6-6b7defbb5b3d       0\n",
              "11904  7eb0abcb-860e-4745-b311-28657770c038       1\n",
              "6336   4ef41ff0-2671-4b4d-8492-90aad883e126       0\n",
              "9742   6bf5b78a-635b-48f2-b767-460711927d7f       0\n",
              "974    0bf374b1-dd39-4549-b573-6e69af4dd0e9       0\n",
              "24379  ec3bdec5-13df-49c0-862a-c8dd8124bfce       0\n",
              "8776   6448b83f-acd4-4ec5-94ca-fa76bd04a9cd       0\n",
              "12994  88d25c7b-029a-484e-b860-284e164422cf       1\n",
              "5721   499d40ec-e646-4e4b-a864-a95f47b10413       0\n",
              "10399  7181705d-bd1b-4896-94e6-0cc4d7562d56       1"
            ]
          },
          "metadata": {
            "tags": []
          },
          "execution_count": 33
        }
      ]
    },
    {
      "cell_type": "code",
      "metadata": {
        "id": "fN1qWU7iRckX",
        "colab_type": "code",
        "outputId": "ed5c482f-3bb4-4d22-d55c-02dd2ed00d9b",
        "colab": {
          "base_uri": "https://localhost:8080/",
          "height": 34
        }
      },
      "source": [
        "type(gt)"
      ],
      "execution_count": 34,
      "outputs": [
        {
          "output_type": "execute_result",
          "data": {
            "text/plain": [
              "pandas.core.frame.DataFrame"
            ]
          },
          "metadata": {
            "tags": []
          },
          "execution_count": 34
        }
      ]
    },
    {
      "cell_type": "code",
      "metadata": {
        "id": "Fy0UxkIpY5l5",
        "colab_type": "code",
        "outputId": "7b5352e0-f45f-4061-d80c-1235a2579ea4",
        "colab": {
          "base_uri": "https://localhost:8080/",
          "height": 68
        }
      },
      "source": [
        "gt['Target'].value_counts()"
      ],
      "execution_count": 35,
      "outputs": [
        {
          "output_type": "execute_result",
          "data": {
            "text/plain": [
              "0    20672\n",
              "1     6012\n",
              "Name: Target, dtype: int64"
            ]
          },
          "metadata": {
            "tags": []
          },
          "execution_count": 35
        }
      ]
    },
    {
      "cell_type": "code",
      "metadata": {
        "id": "tSYS1yRIS6lh",
        "colab_type": "code",
        "outputId": "904be824-112a-4a79-c5b8-624310dd9130",
        "colab": {
          "base_uri": "https://localhost:8080/",
          "height": 34
        }
      },
      "source": [
        "train_class_df['patientId'].nunique()"
      ],
      "execution_count": 36,
      "outputs": [
        {
          "output_type": "execute_result",
          "data": {
            "text/plain": [
              "26684"
            ]
          },
          "metadata": {
            "tags": []
          },
          "execution_count": 36
        }
      ]
    },
    {
      "cell_type": "code",
      "metadata": {
        "id": "FobbVZaZ-Qp2",
        "colab_type": "code",
        "outputId": "514fd1b7-83ab-4ac6-acac-e974ff969af5",
        "colab": {
          "base_uri": "https://localhost:8080/",
          "height": 34
        }
      },
      "source": [
        "train_class_df.shape"
      ],
      "execution_count": 37,
      "outputs": [
        {
          "output_type": "execute_result",
          "data": {
            "text/plain": [
              "(37629, 8)"
            ]
          },
          "metadata": {
            "tags": []
          },
          "execution_count": 37
        }
      ]
    },
    {
      "cell_type": "code",
      "metadata": {
        "id": "43fzIu_wTxNJ",
        "colab_type": "code",
        "outputId": "fc19b7d0-93a4-41a1-ec89-23d42da3666d",
        "colab": {
          "base_uri": "https://localhost:8080/",
          "height": 34
        }
      },
      "source": [
        "detailed_class_df.shape"
      ],
      "execution_count": 38,
      "outputs": [
        {
          "output_type": "execute_result",
          "data": {
            "text/plain": [
              "(30227, 2)"
            ]
          },
          "metadata": {
            "tags": []
          },
          "execution_count": 38
        }
      ]
    },
    {
      "cell_type": "code",
      "metadata": {
        "id": "ZbbwWXRdT3LG",
        "colab_type": "code",
        "outputId": "2c177a18-1ceb-4935-dc6c-3e01b4eb0dc3",
        "colab": {
          "base_uri": "https://localhost:8080/",
          "height": 34
        }
      },
      "source": [
        "bbox_df.shape"
      ],
      "execution_count": 39,
      "outputs": [
        {
          "output_type": "execute_result",
          "data": {
            "text/plain": [
              "(30227, 7)"
            ]
          },
          "metadata": {
            "tags": []
          },
          "execution_count": 39
        }
      ]
    },
    {
      "cell_type": "markdown",
      "metadata": {
        "colab_type": "text",
        "id": "5agu796Sa9e_"
      },
      "source": [
        "Lets check if any null values in both the dataframes"
      ]
    },
    {
      "cell_type": "code",
      "metadata": {
        "colab_type": "code",
        "id": "u5nya-HZasUV",
        "outputId": "dc48c382-f034-4ad8-9904-a176b8cee876",
        "colab": {
          "base_uri": "https://localhost:8080/",
          "height": 68
        }
      },
      "source": [
        "print(detailed_class_df.isna().sum())"
      ],
      "execution_count": 40,
      "outputs": [
        {
          "output_type": "stream",
          "text": [
            "patientId    0\n",
            "class        0\n",
            "dtype: int64\n"
          ],
          "name": "stdout"
        }
      ]
    },
    {
      "cell_type": "code",
      "metadata": {
        "colab_type": "code",
        "id": "thnU5YxfbG16",
        "outputId": "541d907a-d40a-494a-a660-e66a4f87c87e",
        "colab": {
          "base_uri": "https://localhost:8080/",
          "height": 153
        }
      },
      "source": [
        "print(bbox_df.isna().sum())"
      ],
      "execution_count": 41,
      "outputs": [
        {
          "output_type": "stream",
          "text": [
            "patientId        0\n",
            "x            20672\n",
            "y            20672\n",
            "width        20672\n",
            "height       20672\n",
            "Target           0\n",
            "duplicate        0\n",
            "dtype: int64\n"
          ],
          "name": "stdout"
        }
      ]
    },
    {
      "cell_type": "code",
      "metadata": {
        "id": "NGV-DrK0YWbO",
        "colab_type": "code",
        "outputId": "802384b2-48c9-492b-cd83-fabf58882ae2",
        "colab": {
          "base_uri": "https://localhost:8080/",
          "height": 34
        }
      },
      "source": [
        "import os\n",
        "# Keras\n",
        "from keras.preprocessing.image import ImageDataGenerator, load_img\n",
        "from keras.models import Sequential\n",
        "from keras.layers import Conv2D, MaxPooling2D\n",
        "from keras.layers import Activation, Dropout, Flatten, Dense\n",
        "from keras import backend as K"
      ],
      "execution_count": 42,
      "outputs": [
        {
          "output_type": "stream",
          "text": [
            "Using TensorFlow backend.\n"
          ],
          "name": "stderr"
        }
      ]
    },
    {
      "cell_type": "code",
      "metadata": {
        "id": "Sv5lbSiwYX2s",
        "colab_type": "code",
        "colab": {}
      },
      "source": [
        "train_directory=\"/content/drive/My Drive/Colab Notebooks/train/\"\n",
        "validate_samples = 2560"
      ],
      "execution_count": 0,
      "outputs": []
    },
    {
      "cell_type": "markdown",
      "metadata": {
        "id": "KAn793CRpfGK",
        "colab_type": "text"
      },
      "source": [
        ""
      ]
    },
    {
      "cell_type": "code",
      "metadata": {
        "id": "XTLmhpC1Zone",
        "colab_type": "code",
        "outputId": "c3d15f0f-2611-4d3b-9d18-63fa22011778",
        "colab": {
          "base_uri": "https://localhost:8080/",
          "height": 181
        }
      },
      "source": [
        "filenames = os.listdir(train_directory)\n",
        "print(len(filenames))"
      ],
      "execution_count": 44,
      "outputs": [
        {
          "output_type": "error",
          "ename": "OSError",
          "evalue": "ignored",
          "traceback": [
            "\u001b[0;31m---------------------------------------------------------------------------\u001b[0m",
            "\u001b[0;31mOSError\u001b[0m                                   Traceback (most recent call last)",
            "\u001b[0;32m<ipython-input-44-f9748fde8c10>\u001b[0m in \u001b[0;36m<module>\u001b[0;34m()\u001b[0m\n\u001b[0;32m----> 1\u001b[0;31m \u001b[0mfilenames\u001b[0m \u001b[0;34m=\u001b[0m \u001b[0mos\u001b[0m\u001b[0;34m.\u001b[0m\u001b[0mlistdir\u001b[0m\u001b[0;34m(\u001b[0m\u001b[0mtrain_directory\u001b[0m\u001b[0;34m)\u001b[0m\u001b[0;34m\u001b[0m\u001b[0;34m\u001b[0m\u001b[0m\n\u001b[0m\u001b[1;32m      2\u001b[0m \u001b[0mprint\u001b[0m\u001b[0;34m(\u001b[0m\u001b[0mlen\u001b[0m\u001b[0;34m(\u001b[0m\u001b[0mfilenames\u001b[0m\u001b[0;34m)\u001b[0m\u001b[0;34m)\u001b[0m\u001b[0;34m\u001b[0m\u001b[0;34m\u001b[0m\u001b[0m\n",
            "\u001b[0;31mOSError\u001b[0m: [Errno 5] Input/output error: '/content/drive/My Drive/Colab Notebooks/train/'"
          ]
        }
      ]
    },
    {
      "cell_type": "code",
      "metadata": {
        "id": "-0gJlzlKZDp0",
        "colab_type": "code",
        "colab": {}
      },
      "source": [
        "\n",
        "train_filenames= filenames[validate_samples:]\n",
        "#validate_filenames= filenames[:validate_samples]\n",
        "train_filenames_lenght=len(train_filenames)\n",
        "#validate_filenames_lenght=len(validate_filenames)"
      ],
      "execution_count": 0,
      "outputs": []
    },
    {
      "cell_type": "code",
      "metadata": {
        "id": "XpbFEMegcye8",
        "colab_type": "code",
        "colab": {}
      },
      "source": [
        ""
      ],
      "execution_count": 0,
      "outputs": []
    },
    {
      "cell_type": "code",
      "metadata": {
        "id": "rBYfMDTKcydr",
        "colab_type": "code",
        "colab": {}
      },
      "source": [
        "#converting dicom to png images\n",
        "import cv2\n",
        "import os\n",
        "import pydicom\n",
        "\n",
        "inputdir = '/content/drive/My Drive/Colab Notebooks/train/'\n",
        "outdir = '/content/drive/My Drive/Colab Notebooks/pneumonia/'\n",
        "\n",
        "if(os.path.exists(outdir)== False):\n",
        "  print('Creating out dir')\n",
        "  os.mkdir(outdir)\n",
        "\n",
        "\n"
      ],
      "execution_count": 0,
      "outputs": []
    },
    {
      "cell_type": "code",
      "metadata": {
        "id": "SJ3E-ZTn8YAL",
        "colab_type": "code",
        "colab": {}
      },
      "source": [
        "for f in list_pneumonia_patients :   # remove \"[:10]\" to convert all images \n",
        "    ds = pydicom.read_file(inputdir + f+'.dcm') # read dicom image\n",
        "    img = ds.pixel_array # get image array\n",
        "    name = inputdir + f+'.dcm'\n",
        "    print(name)\n",
        "    newname= outdir+f+'.png'\n",
        "    print(newname)\n",
        "    \n",
        "    status =cv2.imwrite(newname,img) # write png image\n",
        "    print(\"Image written to file-system : \",status)"
      ],
      "execution_count": 0,
      "outputs": []
    },
    {
      "cell_type": "code",
      "metadata": {
        "id": "0nCOKYd6cycM",
        "colab_type": "code",
        "colab": {}
      },
      "source": [
        "outdir = '/content/drive/My Drive/Colab Notebooks/normal/'\n",
        "\n",
        "if(os.path.exists(outdir)== False):\n",
        "  print('Creating out dir')\n",
        "  os.mkdir(outdir)\n",
        "\n",
        "for f in list_normal_patients :   # remove \"[:10]\" to convert all images \n",
        "    ds = pydicom.read_file(inputdir + f+'.dcm') # read dicom image\n",
        "    img = ds.pixel_array # get image array\n",
        "    name = inputdir + f+'.dcm'\n",
        "    print(name)\n",
        "    newname= outdir+f+'.png'\n",
        "    print(newname)\n",
        "    status=cv2.imwrite(newname,img) # write png image\n",
        "    print(\"Image written to file-system : \",status)"
      ],
      "execution_count": 0,
      "outputs": []
    },
    {
      "cell_type": "code",
      "metadata": {
        "id": "uKgr88GDcyab",
        "colab_type": "code",
        "colab": {}
      },
      "source": [
        "from keras.preprocessing.image import  img_to_array, load_img\n",
        "WIDTH = 128\n",
        "HEIGHT = 128\n",
        "DEPTH = 3"
      ],
      "execution_count": 0,
      "outputs": []
    },
    {
      "cell_type": "code",
      "metadata": {
        "id": "XMr9grTzcyLo",
        "colab_type": "code",
        "colab": {}
      },
      "source": [
        "import os\n",
        "import cv2 \n",
        "\n",
        "data = []\n",
        "labels = []\n",
        "\n",
        "patientID=[]\n",
        "filename=[]\n",
        "\n",
        "trainDir = '/content/drive/My Drive/Colab Notebooks/training/'\n",
        "#outdir = '/content/drive/My Drive/Colab Notebooks/pneumonia/'\n",
        "#trainDir= '/content/drive/My Drive/Colab Notebooks/data'\n",
        "# loop over the input images\n",
        "dirs = os.listdir(trainDir) \n",
        "for dir in dirs:\n",
        "    absDirPath = os.path.join(os.path.sep,trainDir, dir)\n",
        "    images = os.listdir(absDirPath)\n",
        "    for imageFileName in images:\n",
        "        \n",
        "        # load the image, pre-process it, and store it in the data list\n",
        "        imageFullPath = os.path.join(trainDir, dir, imageFileName)\n",
        "        #print(imageFullPath)\n",
        "        img = load_img(imageFullPath)\n",
        "        arr = img_to_array(img)  #Numpy array with shape (233,233,3)\n",
        "        arr = cv2.resize(arr, (HEIGHT,WIDTH)) #Numpy array with shape (HEIGHT, WIDTH,3)\n",
        "        #print(arr.shape)\n",
        "        data.append(arr)\n",
        "        patientID.append(imageFileName.split('/')[-1].split('.')[0])\n",
        "        filename.append(imageFullPath)\n",
        "        #label = classes_to_int(dir)\n",
        "        if(dir== 'pneumonia'):\n",
        "          label=1\n",
        "        else:\n",
        "          label=0\n",
        "        #print(label)\n",
        "        labels.append(label)"
      ],
      "execution_count": 0,
      "outputs": []
    },
    {
      "cell_type": "code",
      "metadata": {
        "id": "neVMqhn85W_3",
        "colab_type": "code",
        "outputId": "d2bf9257-54c7-4076-fd0e-a4e559028ac2",
        "colab": {
          "base_uri": "https://localhost:8080/",
          "height": 102
        }
      },
      "source": [
        "print(len(images))\n",
        "print('Number of images :-',len(data))\n",
        "print('Number of Labels',len(labels))\n",
        "print('Number of patientID :-',len(patientID))\n",
        "print(len(filename))"
      ],
      "execution_count": 47,
      "outputs": [
        {
          "output_type": "stream",
          "text": [
            "2460\n",
            "Number of images :- 4169\n",
            "Number of Labels 4169\n",
            "Number of patientID :- 4169\n",
            "4169\n"
          ],
          "name": "stdout"
        }
      ]
    },
    {
      "cell_type": "code",
      "metadata": {
        "id": "5mnMXt-C6IYE",
        "colab_type": "code",
        "colab": {}
      },
      "source": [
        "out_df = pd.DataFrame({'patientId':patientID , \n",
        "                       'images':data,\n",
        "                        'Labels': labels,\n",
        "                         'Filenames':filename})"
      ],
      "execution_count": 0,
      "outputs": []
    },
    {
      "cell_type": "code",
      "metadata": {
        "id": "_DrEggWYImsR",
        "colab_type": "code",
        "outputId": "30fee3aa-96df-43b4-8cb4-a02f8ea03b72",
        "colab": {
          "base_uri": "https://localhost:8080/",
          "height": 119
        }
      },
      "source": [
        "out_df['images'].head(5)"
      ],
      "execution_count": 49,
      "outputs": [
        {
          "output_type": "execute_result",
          "data": {
            "text/plain": [
              "0    [[[152.0, 152.0, 152.0], [174.75, 174.75, 174....\n",
              "1    [[[0.0, 0.0, 0.0], [0.0, 0.0, 0.0], [0.0, 0.0,...\n",
              "2    [[[13.5, 13.5, 13.5], [11.5, 11.5, 11.5], [12....\n",
              "3    [[[161.75, 161.75, 161.75], [150.5, 150.5, 150...\n",
              "4    [[[3.75, 3.75, 3.75], [4.0, 4.0, 4.0], [3.25, ...\n",
              "Name: images, dtype: object"
            ]
          },
          "metadata": {
            "tags": []
          },
          "execution_count": 49
        }
      ]
    },
    {
      "cell_type": "code",
      "metadata": {
        "id": "Fgb56JlZ71Tk",
        "colab_type": "code",
        "outputId": "95287349-942e-4c53-9d93-3c2b6a9f8f15",
        "colab": {
          "base_uri": "https://localhost:8080/",
          "height": 193
        }
      },
      "source": [
        "out_df.head(3)"
      ],
      "execution_count": 50,
      "outputs": [
        {
          "output_type": "execute_result",
          "data": {
            "text/html": [
              "<div>\n",
              "<style scoped>\n",
              "    .dataframe tbody tr th:only-of-type {\n",
              "        vertical-align: middle;\n",
              "    }\n",
              "\n",
              "    .dataframe tbody tr th {\n",
              "        vertical-align: top;\n",
              "    }\n",
              "\n",
              "    .dataframe thead th {\n",
              "        text-align: right;\n",
              "    }\n",
              "</style>\n",
              "<table border=\"1\" class=\"dataframe\">\n",
              "  <thead>\n",
              "    <tr style=\"text-align: right;\">\n",
              "      <th></th>\n",
              "      <th>patientId</th>\n",
              "      <th>images</th>\n",
              "      <th>Labels</th>\n",
              "      <th>Filenames</th>\n",
              "    </tr>\n",
              "  </thead>\n",
              "  <tbody>\n",
              "    <tr>\n",
              "      <th>0</th>\n",
              "      <td>3a146de9-9044-4abc-b15c-e7e0d18a0704</td>\n",
              "      <td>[[[152.0, 152.0, 152.0], [174.75, 174.75, 174....</td>\n",
              "      <td>1</td>\n",
              "      <td>/content/drive/My Drive/Colab Notebooks/traini...</td>\n",
              "    </tr>\n",
              "    <tr>\n",
              "      <th>1</th>\n",
              "      <td>bc9683bf-595d-497e-8c99-ac9baed1a2eb</td>\n",
              "      <td>[[[0.0, 0.0, 0.0], [0.0, 0.0, 0.0], [0.0, 0.0,...</td>\n",
              "      <td>1</td>\n",
              "      <td>/content/drive/My Drive/Colab Notebooks/traini...</td>\n",
              "    </tr>\n",
              "    <tr>\n",
              "      <th>2</th>\n",
              "      <td>bab8d182-b9fe-4db9-88b5-042153c4406e</td>\n",
              "      <td>[[[13.5, 13.5, 13.5], [11.5, 11.5, 11.5], [12....</td>\n",
              "      <td>1</td>\n",
              "      <td>/content/drive/My Drive/Colab Notebooks/traini...</td>\n",
              "    </tr>\n",
              "  </tbody>\n",
              "</table>\n",
              "</div>"
            ],
            "text/plain": [
              "                              patientId  ...                                          Filenames\n",
              "0  3a146de9-9044-4abc-b15c-e7e0d18a0704  ...  /content/drive/My Drive/Colab Notebooks/traini...\n",
              "1  bc9683bf-595d-497e-8c99-ac9baed1a2eb  ...  /content/drive/My Drive/Colab Notebooks/traini...\n",
              "2  bab8d182-b9fe-4db9-88b5-042153c4406e  ...  /content/drive/My Drive/Colab Notebooks/traini...\n",
              "\n",
              "[3 rows x 4 columns]"
            ]
          },
          "metadata": {
            "tags": []
          },
          "execution_count": 50
        }
      ]
    },
    {
      "cell_type": "code",
      "metadata": {
        "id": "FzCXJ__oIZc7",
        "colab_type": "code",
        "colab": {}
      },
      "source": [
        "TrainX = np.array(data, dtype=\"float\") / 255.0\n",
        "Y_labels = np.array(labels)"
      ],
      "execution_count": 0,
      "outputs": []
    },
    {
      "cell_type": "code",
      "metadata": {
        "id": "e1Aj7UVxJP1x",
        "colab_type": "code",
        "colab": {}
      },
      "source": [
        "# partition the data into training and validation splits \n",
        "\n",
        "from sklearn.model_selection import train_test_split\n",
        "\n",
        "(x_train, valX, y_train, valY) = train_test_split(TrainX,Y_labels,test_size=0.20, random_state=10)"
      ],
      "execution_count": 0,
      "outputs": []
    },
    {
      "cell_type": "code",
      "metadata": {
        "id": "3QMwjtDYC1G2",
        "colab_type": "code",
        "outputId": "95eabefe-dd64-436e-c977-9d813e53dc60",
        "colab": {
          "base_uri": "https://localhost:8080/",
          "height": 119
        }
      },
      "source": [
        "out_df['Filenames'].head(5)"
      ],
      "execution_count": 53,
      "outputs": [
        {
          "output_type": "execute_result",
          "data": {
            "text/plain": [
              "0    /content/drive/My Drive/Colab Notebooks/traini...\n",
              "1    /content/drive/My Drive/Colab Notebooks/traini...\n",
              "2    /content/drive/My Drive/Colab Notebooks/traini...\n",
              "3    /content/drive/My Drive/Colab Notebooks/traini...\n",
              "4    /content/drive/My Drive/Colab Notebooks/traini...\n",
              "Name: Filenames, dtype: object"
            ]
          },
          "metadata": {
            "tags": []
          },
          "execution_count": 53
        }
      ]
    },
    {
      "cell_type": "code",
      "metadata": {
        "id": "5QcG7tKt9Dao",
        "colab_type": "code",
        "colab": {}
      },
      "source": [
        "detailed_class_df.dtypes"
      ],
      "execution_count": 0,
      "outputs": []
    },
    {
      "cell_type": "code",
      "metadata": {
        "id": "60pnniAh8yN2",
        "colab_type": "code",
        "colab": {}
      },
      "source": [
        "#out_df.merge(detailed_class_df,left_on='patientId', right_on'patientId')"
      ],
      "execution_count": 0,
      "outputs": []
    },
    {
      "cell_type": "code",
      "metadata": {
        "id": "nEkTu1DwcyGX",
        "colab_type": "code",
        "outputId": "82dbafeb-17fd-4d60-d648-3e1f0008554b",
        "colab": {
          "base_uri": "https://localhost:8080/",
          "height": 34
        }
      },
      "source": [
        "from keras.preprocessing.image import ImageDataGenerator\n",
        "\n",
        "datagen=ImageDataGenerator(rescale=1./255)\n",
        "train_generator=datagen.flow_from_dataframe(dataframe=out_df, x_col=\"Filenames\", y_col=\"Labels\", \n",
        "                                            class_mode=\"other\", target_size=(32,32), batch_size=32)"
      ],
      "execution_count": 54,
      "outputs": [
        {
          "output_type": "stream",
          "text": [
            "Found 4169 validated image filenames.\n"
          ],
          "name": "stdout"
        }
      ]
    },
    {
      "cell_type": "code",
      "metadata": {
        "id": "0jXEnYTyCLeF",
        "colab_type": "code",
        "outputId": "8f87cd59-df67-4761-f931-1067ebfcab7e",
        "colab": {
          "base_uri": "https://localhost:8080/",
          "height": 714
        }
      },
      "source": [
        "from keras import backend as k\n",
        "from keras.models import Sequential\n",
        "from keras.layers.convolutional import Conv2D, MaxPooling2D\n",
        "from keras.layers.core import Activation, Flatten, Dense\n",
        "from keras.optimizers import Adam\n",
        "# initialize the model\n",
        "\n",
        "import sys\n",
        "\n",
        "sys.stdout.flush()\n",
        "k.clear_session()\n",
        "\n",
        "inputShape = (WIDTH, HEIGHT, DEPTH)\n",
        "EPOCHS = 40\n",
        "INIT_LR = 1e-3\n",
        "BS = 32\n",
        "\n",
        "model = Sequential()\n",
        "model.add(Conv2D(1024, (3, 3), padding=\"same\", input_shape=inputShape)) \n",
        "model.add(Activation(\"relu\"))\n",
        "#model.add(MaxPooling2D(pool_size=(2, 2), strides=(2, 2)))\n",
        "model.add(MaxPooling2D(pool_size=(2, 2)))\n",
        "\n",
        "model.add(Conv2D(512, (3, 3), padding=\"same\"))\n",
        "model.add(Activation(\"relu\"))\n",
        "# model.add(MaxPooling2D(pool_size=(2, 2), strides=(2, 2)))\n",
        "model.add(MaxPooling2D(pool_size=(2, 2)))\n",
        "\n",
        "model.add(Conv2D(256, (3, 3), padding=\"same\"))\n",
        "model.add(Activation(\"relu\"))\n",
        "#  model.add(MaxPooling2D(pool_size=(2, 2), strides=(2, 2)))\n",
        "model.add(MaxPooling2D(pool_size=(2, 2)))\n",
        "\n",
        "model.add(Conv2D(128, (3, 3), padding=\"same\"))\n",
        "model.add(Activation(\"relu\"))\n",
        "#  model.add(MaxPooling2D(pool_size=(2, 2), strides=(2, 2)))\n",
        "model.add(MaxPooling2D(pool_size=(2, 2)))\n",
        "\n",
        "model.add(Flatten())\n",
        "model.add(Dense(units=500))\n",
        "model.add(Activation(\"relu\"))\n",
        "\n",
        "# softmax classifier\n",
        "model.add(Dense(units=1))\n",
        "model.add(Activation(\"sigmoid\"))\n",
        "   \n",
        "opt = Adam(lr=INIT_LR, decay=INIT_LR / EPOCHS)\n",
        "model.compile(loss=\"binary_crossentropy\", optimizer=opt, metrics=[\"accuracy\"])\n",
        "model.summary()"
      ],
      "execution_count": 61,
      "outputs": [
        {
          "output_type": "stream",
          "text": [
            "_________________________________________________________________\n",
            "Layer (type)                 Output Shape              Param #   \n",
            "=================================================================\n",
            "conv2d_1 (Conv2D)            (None, 128, 128, 1024)    28672     \n",
            "_________________________________________________________________\n",
            "activation_1 (Activation)    (None, 128, 128, 1024)    0         \n",
            "_________________________________________________________________\n",
            "max_pooling2d_1 (MaxPooling2 (None, 64, 64, 1024)      0         \n",
            "_________________________________________________________________\n",
            "conv2d_2 (Conv2D)            (None, 64, 64, 512)       4719104   \n",
            "_________________________________________________________________\n",
            "activation_2 (Activation)    (None, 64, 64, 512)       0         \n",
            "_________________________________________________________________\n",
            "max_pooling2d_2 (MaxPooling2 (None, 32, 32, 512)       0         \n",
            "_________________________________________________________________\n",
            "conv2d_3 (Conv2D)            (None, 32, 32, 256)       1179904   \n",
            "_________________________________________________________________\n",
            "activation_3 (Activation)    (None, 32, 32, 256)       0         \n",
            "_________________________________________________________________\n",
            "max_pooling2d_3 (MaxPooling2 (None, 16, 16, 256)       0         \n",
            "_________________________________________________________________\n",
            "conv2d_4 (Conv2D)            (None, 16, 16, 128)       295040    \n",
            "_________________________________________________________________\n",
            "activation_4 (Activation)    (None, 16, 16, 128)       0         \n",
            "_________________________________________________________________\n",
            "max_pooling2d_4 (MaxPooling2 (None, 8, 8, 128)         0         \n",
            "_________________________________________________________________\n",
            "flatten_1 (Flatten)          (None, 8192)              0         \n",
            "_________________________________________________________________\n",
            "dense_1 (Dense)              (None, 500)               4096500   \n",
            "_________________________________________________________________\n",
            "activation_5 (Activation)    (None, 500)               0         \n",
            "_________________________________________________________________\n",
            "dense_2 (Dense)              (None, 1)                 501       \n",
            "_________________________________________________________________\n",
            "activation_6 (Activation)    (None, 1)                 0         \n",
            "=================================================================\n",
            "Total params: 10,319,721\n",
            "Trainable params: 10,319,721\n",
            "Non-trainable params: 0\n",
            "_________________________________________________________________\n"
          ],
          "name": "stdout"
        }
      ]
    },
    {
      "cell_type": "code",
      "metadata": {
        "id": "kFRR8UozCLJ7",
        "colab_type": "code",
        "outputId": "67f5396e-b1be-4a48-c704-cf357fa058c4",
        "colab": {
          "base_uri": "https://localhost:8080/",
          "height": 1397
        }
      },
      "source": [
        "# train the network\n",
        "\n",
        "sys.stdout.flush()\n",
        "\n",
        "H = model.fit_generator(datagen.flow(x_train, y_train, batch_size=BS), \n",
        "                        validation_data=(valX, valY), \n",
        "                        steps_per_epoch=len(x_train) // BS, \n",
        "                        epochs=EPOCHS, verbose=1)"
      ],
      "execution_count": 62,
      "outputs": [
        {
          "output_type": "stream",
          "text": [
            "Epoch 1/40\n",
            "104/104 [==============================] - 58s 559ms/step - loss: 0.6804 - acc: 0.5874 - val_loss: 0.6827 - val_acc: 0.5935\n",
            "Epoch 2/40\n",
            "104/104 [==============================] - 51s 486ms/step - loss: 0.6781 - acc: 0.5886 - val_loss: 0.6840 - val_acc: 0.5935\n",
            "Epoch 3/40\n",
            "104/104 [==============================] - 48s 460ms/step - loss: 0.6789 - acc: 0.5865 - val_loss: 0.6738 - val_acc: 0.5935\n",
            "Epoch 4/40\n",
            "104/104 [==============================] - 48s 459ms/step - loss: 0.6775 - acc: 0.5893 - val_loss: 0.6768 - val_acc: 0.5935\n",
            "Epoch 5/40\n",
            "104/104 [==============================] - 48s 458ms/step - loss: 0.6781 - acc: 0.5889 - val_loss: 0.6753 - val_acc: 0.5935\n",
            "Epoch 6/40\n",
            "104/104 [==============================] - 47s 455ms/step - loss: 0.6756 - acc: 0.5951 - val_loss: 0.6748 - val_acc: 0.5935\n",
            "Epoch 7/40\n",
            "104/104 [==============================] - 47s 454ms/step - loss: 0.6771 - acc: 0.5907 - val_loss: 0.6749 - val_acc: 0.5935\n",
            "Epoch 8/40\n",
            "104/104 [==============================] - 47s 455ms/step - loss: 0.6800 - acc: 0.5823 - val_loss: 0.6753 - val_acc: 0.5935\n",
            "Epoch 9/40\n",
            "104/104 [==============================] - 47s 453ms/step - loss: 0.6763 - acc: 0.5922 - val_loss: 0.6751 - val_acc: 0.5935\n",
            "Epoch 10/40\n",
            "104/104 [==============================] - 47s 454ms/step - loss: 0.6782 - acc: 0.5869 - val_loss: 0.6753 - val_acc: 0.5935\n",
            "Epoch 11/40\n",
            "104/104 [==============================] - 47s 454ms/step - loss: 0.6748 - acc: 0.5970 - val_loss: 0.6753 - val_acc: 0.5935\n",
            "Epoch 12/40\n",
            "104/104 [==============================] - 47s 454ms/step - loss: 0.6763 - acc: 0.5925 - val_loss: 0.6755 - val_acc: 0.5935\n",
            "Epoch 13/40\n",
            "104/104 [==============================] - 47s 454ms/step - loss: 0.6806 - acc: 0.5806 - val_loss: 0.6755 - val_acc: 0.5935\n",
            "Epoch 14/40\n",
            "104/104 [==============================] - 47s 454ms/step - loss: 0.6757 - acc: 0.5946 - val_loss: 0.6755 - val_acc: 0.5935\n",
            "Epoch 15/40\n",
            "104/104 [==============================] - 47s 453ms/step - loss: 0.6784 - acc: 0.5863 - val_loss: 0.6754 - val_acc: 0.5935\n",
            "Epoch 16/40\n",
            "104/104 [==============================] - 47s 454ms/step - loss: 0.6758 - acc: 0.5935 - val_loss: 0.6757 - val_acc: 0.5935\n",
            "Epoch 17/40\n",
            "104/104 [==============================] - 47s 455ms/step - loss: 0.6804 - acc: 0.5821 - val_loss: 0.6754 - val_acc: 0.5935\n",
            "Epoch 18/40\n",
            "104/104 [==============================] - 47s 454ms/step - loss: 0.6777 - acc: 0.5883 - val_loss: 0.6754 - val_acc: 0.5935\n",
            "Epoch 19/40\n",
            "104/104 [==============================] - 47s 454ms/step - loss: 0.6769 - acc: 0.5904 - val_loss: 0.6754 - val_acc: 0.5935\n",
            "Epoch 20/40\n",
            "104/104 [==============================] - 47s 454ms/step - loss: 0.6740 - acc: 0.5981 - val_loss: 0.6756 - val_acc: 0.5935\n",
            "Epoch 21/40\n",
            "104/104 [==============================] - 47s 455ms/step - loss: 0.6793 - acc: 0.5845 - val_loss: 0.6755 - val_acc: 0.5935\n",
            "Epoch 22/40\n",
            "104/104 [==============================] - 47s 454ms/step - loss: 0.6773 - acc: 0.5898 - val_loss: 0.6754 - val_acc: 0.5935\n",
            "Epoch 23/40\n",
            "104/104 [==============================] - 47s 454ms/step - loss: 0.6766 - acc: 0.5925 - val_loss: 0.6756 - val_acc: 0.5935\n",
            "Epoch 24/40\n",
            "104/104 [==============================] - 47s 455ms/step - loss: 0.6795 - acc: 0.5833 - val_loss: 0.6757 - val_acc: 0.5935\n",
            "Epoch 25/40\n",
            "104/104 [==============================] - 47s 455ms/step - loss: 0.6753 - acc: 0.5957 - val_loss: 0.6754 - val_acc: 0.5935\n",
            "Epoch 26/40\n",
            "104/104 [==============================] - 47s 454ms/step - loss: 0.6784 - acc: 0.5868 - val_loss: 0.6754 - val_acc: 0.5935\n",
            "Epoch 27/40\n",
            "104/104 [==============================] - 47s 454ms/step - loss: 0.6771 - acc: 0.5901 - val_loss: 0.6756 - val_acc: 0.5935\n",
            "Epoch 28/40\n",
            "104/104 [==============================] - 47s 454ms/step - loss: 0.6765 - acc: 0.5919 - val_loss: 0.6754 - val_acc: 0.5935\n",
            "Epoch 29/40\n",
            "104/104 [==============================] - 47s 454ms/step - loss: 0.6766 - acc: 0.5913 - val_loss: 0.6755 - val_acc: 0.5935\n",
            "Epoch 30/40\n",
            "104/104 [==============================] - 47s 453ms/step - loss: 0.6789 - acc: 0.5851 - val_loss: 0.6757 - val_acc: 0.5935\n",
            "Epoch 31/40\n",
            "104/104 [==============================] - 47s 455ms/step - loss: 0.6754 - acc: 0.5953 - val_loss: 0.6755 - val_acc: 0.5935\n",
            "Epoch 32/40\n",
            "104/104 [==============================] - 47s 455ms/step - loss: 0.6767 - acc: 0.5911 - val_loss: 0.6754 - val_acc: 0.5935\n",
            "Epoch 33/40\n",
            "104/104 [==============================] - 47s 454ms/step - loss: 0.6775 - acc: 0.5889 - val_loss: 0.6754 - val_acc: 0.5935\n",
            "Epoch 34/40\n",
            "104/104 [==============================] - 47s 454ms/step - loss: 0.6793 - acc: 0.5845 - val_loss: 0.6758 - val_acc: 0.5935\n",
            "Epoch 35/40\n",
            "104/104 [==============================] - 47s 454ms/step - loss: 0.6784 - acc: 0.5863 - val_loss: 0.6756 - val_acc: 0.5935\n",
            "Epoch 36/40\n",
            "104/104 [==============================] - 47s 455ms/step - loss: 0.6754 - acc: 0.5953 - val_loss: 0.6755 - val_acc: 0.5935\n",
            "Epoch 37/40\n",
            "104/104 [==============================] - 47s 455ms/step - loss: 0.6784 - acc: 0.5868 - val_loss: 0.6754 - val_acc: 0.5935\n",
            "Epoch 38/40\n",
            "104/104 [==============================] - 47s 455ms/step - loss: 0.6775 - acc: 0.5893 - val_loss: 0.6755 - val_acc: 0.5935\n",
            "Epoch 39/40\n",
            "104/104 [==============================] - 47s 455ms/step - loss: 0.6794 - acc: 0.5842 - val_loss: 0.6759 - val_acc: 0.5935\n",
            "Epoch 40/40\n",
            "104/104 [==============================] - 47s 454ms/step - loss: 0.6772 - acc: 0.5898 - val_loss: 0.6756 - val_acc: 0.5935\n"
          ],
          "name": "stdout"
        }
      ]
    },
    {
      "cell_type": "code",
      "metadata": {
        "id": "1un7AhPsCK17",
        "colab_type": "code",
        "colab": {
          "base_uri": "https://localhost:8080/",
          "height": 573
        },
        "outputId": "6a2f8e45-15e7-4244-db58-c6a5c7b38b26"
      },
      "source": [
        "import matplotlib.pyplot as plt\n",
        "\n",
        "\n",
        "\n",
        "# Plot training & validation accuracy values\n",
        "plt.plot(H.history['acc'])\n",
        "plt.plot(H.history['val_acc'])\n",
        "plt.title('Model accuracy')\n",
        "plt.ylabel('Accuracy')\n",
        "plt.xlabel('Epoch')\n",
        "plt.legend(['Train', 'Test'], loc='upper left')\n",
        "plt.show()\n",
        "\n",
        "# Plot training & validation loss values\n",
        "plt.plot(H.history['loss'])\n",
        "plt.plot(H.history['val_loss'])\n",
        "plt.title('Model loss')\n",
        "plt.ylabel('Loss')\n",
        "plt.xlabel('Epoch')\n",
        "plt.legend(['Train', 'Test'], loc='upper left')\n",
        "plt.show()"
      ],
      "execution_count": 63,
      "outputs": [
        {
          "output_type": "display_data",
          "data": {
            "image/png": "[encoded data removed]",
            "text/plain": [
              "<Figure size 432x288 with 1 Axes>"
            ]
          },
          "metadata": {
            "tags": []
          }
        },
        {
          "output_type": "display_data",
          "data": {
            "image/png": "[encoded data removed]",
            "text/plain": [
              "<Figure size 432x288 with 1 Axes>"
            ]
          },
          "metadata": {
            "tags": []
          }
        }
      ]
    },
    {
      "cell_type": "code",
      "metadata": {
        "id": "79HlVeYDCKiE",
        "colab_type": "code",
        "colab": {
          "base_uri": "https://localhost:8080/",
          "height": 34
        },
        "outputId": "5e201e39-ab3b-43a9-cbd9-642dabe1654d"
      },
      "source": [
        "pred_Y = model.predict(valX, \n",
        "                          batch_size = BS, \n",
        "                          verbose = True)"
      ],
      "execution_count": 64,
      "outputs": [
        {
          "output_type": "stream",
          "text": [
            "834/834 [==============================] - 4s 5ms/step\n"
          ],
          "name": "stdout"
        }
      ]
    },
    {
      "cell_type": "code",
      "metadata": {
        "id": "YabyWMeUrjWw",
        "colab_type": "code",
        "colab": {
          "base_uri": "https://localhost:8080/",
          "height": 34
        },
        "outputId": "7a2dae8b-9bf2-4dd0-d3b3-6093da954534"
      },
      "source": [
        "type(pred_Y)"
      ],
      "execution_count": 69,
      "outputs": [
        {
          "output_type": "execute_result",
          "data": {
            "text/plain": [
              "numpy.ndarray"
            ]
          },
          "metadata": {
            "tags": []
          },
          "execution_count": 69
        }
      ]
    },
    {
      "cell_type": "code",
      "metadata": {
        "id": "RLqzonrUshFA",
        "colab_type": "code",
        "colab": {
          "base_uri": "https://localhost:8080/",
          "height": 34
        },
        "outputId": "f0a9e400-835b-44d5-eddd-f27802cd9ca7"
      },
      "source": [
        "pred_Y[0]"
      ],
      "execution_count": 78,
      "outputs": [
        {
          "output_type": "execute_result",
          "data": {
            "text/plain": [
              "array([0.416304], dtype=float32)"
            ]
          },
          "metadata": {
            "tags": []
          },
          "execution_count": 78
        }
      ]
    },
    {
      "cell_type": "code",
      "metadata": {
        "id": "T_y7yziPsCCt",
        "colab_type": "code",
        "colab": {}
      },
      "source": [
        "preds=[]\n",
        "for i in pred_Y:\n",
        "  if i  >= 0.4:\n",
        "    value=1\n",
        "    preds.append(value)\n",
        "      \n",
        "    \n",
        "  else :\n",
        "    value=0\n",
        "    preds.append(value)"
      ],
      "execution_count": 0,
      "outputs": []
    },
    {
      "cell_type": "code",
      "metadata": {
        "id": "RvjI8aKGCKOV",
        "colab_type": "code",
        "colab": {
          "base_uri": "https://localhost:8080/",
          "height": 394
        },
        "outputId": "93422ef8-22f9-4c62-9031-68639eace574"
      },
      "source": [
        "\n",
        "from sklearn.metrics import confusion_matrix,classification_report\n",
        "print(\"\\nConfusion_Marix is :\\n\",confusion_matrix(valY, preds))\n",
        "print(\"\\nClassification_Report is :\\n\",classification_report(valY, preds))"
      ],
      "execution_count": 81,
      "outputs": [
        {
          "output_type": "stream",
          "text": [
            "\n",
            "Confusion_Marix is :\n",
            " [[  0 495]\n",
            " [  0 339]]\n",
            "\n",
            "Classification_Report is :\n",
            "               precision    recall  f1-score   support\n",
            "\n",
            "           0       0.00      0.00      0.00       495\n",
            "           1       0.41      1.00      0.58       339\n",
            "\n",
            "    accuracy                           0.41       834\n",
            "   macro avg       0.20      0.50      0.29       834\n",
            "weighted avg       0.17      0.41      0.23       834\n",
            "\n"
          ],
          "name": "stdout"
        },
        {
          "output_type": "stream",
          "text": [
            "/usr/local/lib/python3.6/dist-packages/sklearn/metrics/classification.py:1437: UndefinedMetricWarning: Precision and F-score are ill-defined and being set to 0.0 in labels with no predicted samples.\n",
            "  'precision', 'predicted', average, warn_for)\n",
            "/usr/local/lib/python3.6/dist-packages/sklearn/metrics/classification.py:1437: UndefinedMetricWarning: Precision and F-score are ill-defined and being set to 0.0 in labels with no predicted samples.\n",
            "  'precision', 'predicted', average, warn_for)\n",
            "/usr/local/lib/python3.6/dist-packages/sklearn/metrics/classification.py:1437: UndefinedMetricWarning: Precision and F-score are ill-defined and being set to 0.0 in labels with no predicted samples.\n",
            "  'precision', 'predicted', average, warn_for)\n"
          ],
          "name": "stderr"
        }
      ]
    },
    {
      "cell_type": "code",
      "metadata": {
        "id": "Cu891UeECJ7B",
        "colab_type": "code",
        "colab": {}
      },
      "source": [
        "print(classification_report(np.argmax(valY, -1), \n",
        "                            np.argmax(pred_Y,-1), target_names = class_enc.classes_))"
      ],
      "execution_count": 0,
      "outputs": []
    },
    {
      "cell_type": "code",
      "metadata": {
        "id": "dKQzi8DVCJng",
        "colab_type": "code",
        "colab": {}
      },
      "source": [
        ""
      ],
      "execution_count": 0,
      "outputs": []
    },
    {
      "cell_type": "markdown",
      "metadata": {
        "colab_type": "text",
        "id": "1Ec_pwiv_sW7"
      },
      "source": [
        ""
      ]
    },
    {
      "cell_type": "code",
      "metadata": {
        "colab_type": "code",
        "id": "8i3sTLg1DvZj",
        "colab": {}
      },
      "source": [
        ""
      ],
      "execution_count": 0,
      "outputs": []
    }
  ]
}