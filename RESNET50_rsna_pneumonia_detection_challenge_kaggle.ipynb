{
  "nbformat": 4,
  "nbformat_minor": 0,
  "metadata": {
    "colab": {
      "name": "RESNET50_rsna_pneumonia_detection_challenge_kaggle.ipynb",
      "version": "0.3.2",
      "provenance": [],
      "collapsed_sections": [],
      "toc_visible": true
    },
    "kernelspec": {
      "name": "python3",
      "display_name": "Python 3"
    },
    "accelerator": "GPU"
  },
  "cells": [
    {
      "cell_type": "markdown",
      "metadata": {
        "id": "KBeAf8WgaeSk",
        "colab_type": "text"
      },
      "source": [
        "## Intro to deep learning for medical imaging by [MD.ai](https://www.md.ai)\n",
        "\n",
        "## Lesson 3. RSNA Pneumonia Detection Challenge (Kaggel API)\n",
        "\n",
        "The [Radiological Society of North America](http://www.rsna.org/) Pneumonia Detection Challenge: https://www.kaggle.com/c/rsna-pneumonia-detection-challenge\n",
        "\n",
        "This notebook covers the basics of parsing the competition dataset, training using a detector basd on the [Mask-RCNN algorithm](https://arxiv.org/abs/1703.06870) for object detection and instance segmentation.  \n",
        "\n",
        "This notebook is developed by [MD.ai](https://www.md.ai), the platform for medical AI. \n",
        "This notebook requires Google's [TensorFlow](https://www.tensorflow.org/) machine learning framework.\n",
        "\n",
        "**Intro to deep learning for medical imaging lessons**\n",
        "\n",
        "- Lesson 1. Classification of chest vs. adominal X-rays using TensorFlow/Keras [Github](https://github.com/mdai/ml-lessons/blob/master/lesson1-xray-images-classification.ipynb) [Annotator](https://public.md.ai/annotator/project/PVq9raBJ)\n",
        "\n",
        "- Lesson 2. Lung X-Rays Semantic Segmentation using UNets. [Github](https://github.com/mdai/ml-lessons/blob/master/lesson2-lung-xrays-segmentation.ipynb)\n",
        "[Annotator](https://public.md.ai/annotator/project/aGq4k6NW/workspace) \n",
        "\n",
        "- Lesson 3. RSNA Pneumonia detection using Kaggle data format [Github](https://github.com/mdai/ml-lessons/blob/master/lesson3-rsna-pneumonia-detection-kaggle.ipynb) [Annotator](https://public.md.ai/annotator/project/LxR6zdR2/workspace) \n",
        "  \n",
        "- Lesson 3. RSNA Pneumonia detection using MD.ai python client library [Github](https://github.com/mdai/ml-lessons/blob/master/lesson3-rsna-pneumonia-detection-mdai-client-lib.ipynb) [Annotator](https://public.md.ai/annotator/project/LxR6zdR2/workspace) \n",
        "\n",
        "*Copyright 2018 MD.ai, Inc.   \n",
        "Licensed under the Apache License, Version 2.0*"
      ]
    },
    {
      "cell_type": "code",
      "metadata": {
        "id": "tA57TGos4mtN",
        "colab_type": "code",
        "outputId": "4bc76c28-c6c5-4f3f-d5b1-25167ee72c05",
        "colab": {
          "base_uri": "https://localhost:8080/",
          "height": 35
        }
      },
      "source": [
        "# install dependencies not included by Colab\n",
        "# use pip3 to ensure compatibility w/ Google Deep Learning Images \n",
        "!pip3 install -q pydicom \n",
        "!pip3 install -q tqdm \n",
        "!pip3 install -q imgaug "
      ],
      "execution_count": 0,
      "outputs": [
        {
          "output_type": "stream",
          "text": [
            "\u001b[K     |████████████████████████████████| 7.0MB 1.2MB/s \n",
            "\u001b[?25h"
          ],
          "name": "stdout"
        }
      ]
    },
    {
      "cell_type": "code",
      "metadata": {
        "id": "4kjcC6QqywWl",
        "colab_type": "code",
        "colab": {}
      },
      "source": [
        "import os \n",
        "import sys\n",
        "\n",
        "import random\n",
        "import math\n",
        "import numpy as np\n",
        "import cv2\n",
        "import matplotlib.pyplot as plt\n",
        "import json\n",
        "import pydicom\n",
        "from imgaug import augmenters as iaa\n",
        "from tqdm import tqdm\n",
        "import pandas as pd \n",
        "import glob "
      ],
      "execution_count": 0,
      "outputs": []
    },
    {
      "cell_type": "markdown",
      "metadata": {
        "id": "eCXdW8QfjB81",
        "colab_type": "text"
      },
      "source": [
        "### First: Install Kaggle API for download competition data."
      ]
    },
    {
      "cell_type": "code",
      "metadata": {
        "id": "m3XCS28Oqw8Q",
        "colab_type": "code",
        "colab": {}
      },
      "source": [
        "# Install Kaggle API for download competition data\n",
        "!pip3 install -q kaggle"
      ],
      "execution_count": 0,
      "outputs": []
    },
    {
      "cell_type": "markdown",
      "metadata": {
        "id": "5h0Pm-DP7KX5",
        "colab_type": "text"
      },
      "source": [
        "### Next: You must accept the user agreement on the competition website! Then follow [instructions to obtain your Kaggle Credentials.](https://github.com/Kaggle/kaggle-api#api-credentials)  \n",
        "If you are unable to download the competition dataset, check to see if you have accepted the **user agreement** on the competition website. "
      ]
    },
    {
      "cell_type": "code",
      "metadata": {
        "id": "PvGVpsN0tZqj",
        "colab_type": "code",
        "colab": {}
      },
      "source": [
        "# enter your Kaggle credentionals here\n",
        "os.environ['KAGGLE_USERNAME']=\"\"\n",
        "os.environ['KAGGLE_KEY']=\"\""
      ],
      "execution_count": 0,
      "outputs": []
    },
    {
      "cell_type": "code",
      "metadata": {
        "id": "9uFAJwAEz2Lh",
        "colab_type": "code",
        "outputId": "60cdf766-813e-4abf-c6a3-eeb3e4d0abeb",
        "colab": {
          "base_uri": "https://localhost:8080/",
          "height": 128
        }
      },
      "source": [
        "from google.colab import drive\n",
        "drive.mount('/content/drive')"
      ],
      "execution_count": 0,
      "outputs": [
        {
          "output_type": "stream",
          "text": [
            "Go to this URL in a browser: https://accounts.google.com/o/oauth2/auth?client_id=947318989803-6bn6qk8qdgf4n4g3pfee6491hc0brc4i.apps.googleusercontent.com&redirect_uri=urn%3Aietf%3Awg%3Aoauth%3A2.0%3Aoob&scope=email%20https%3A%2F%2Fwww.googleapis.com%2Fauth%2Fdocs.test%20https%3A%2F%2Fwww.googleapis.com%2Fauth%2Fdrive%20https%3A%2F%2Fwww.googleapis.com%2Fauth%2Fdrive.photos.readonly%20https%3A%2F%2Fwww.googleapis.com%2Fauth%2Fpeopleapi.readonly&response_type=code\n",
            "\n",
            "Enter your authorization code:\n",
            "··········\n",
            "Mounted at /content/drive\n"
          ],
          "name": "stdout"
        }
      ]
    },
    {
      "cell_type": "code",
      "metadata": {
        "id": "yP0XLJx_x_6o",
        "colab_type": "code",
        "colab": {}
      },
      "source": [
        "# Root directory of the project\n",
        "ROOT_DIR = os.path.abspath('/content/drive/My Drive/RSNA')\n",
        "\n",
        "# Directory to save logs and trained model\n",
        "MODEL_DIR = os.path.join(ROOT_DIR, 'logs')\n",
        "\n",
        "if not os.path.exists(ROOT_DIR):\n",
        "    os.makedirs(ROOT_DIR)\n",
        "os.chdir(ROOT_DIR)"
      ],
      "execution_count": 0,
      "outputs": []
    },
    {
      "cell_type": "code",
      "metadata": {
        "id": "kdEZnDqjr7tp",
        "colab_type": "code",
        "outputId": "192166c5-13e5-41b7-8800-cc96bcd7edf0",
        "colab": {
          "base_uri": "https://localhost:8080/",
          "height": 341
        }
      },
      "source": [
        "# If you are unable to download the competition dataset, check to see if you have \n",
        "# accepted the user agreement on the competition website. \n",
        "!kaggle competitions download -c rsna-pneumonia-detection-challenge"
      ],
      "execution_count": 0,
      "outputs": [
        {
          "output_type": "stream",
          "text": [
            "Downloading GCP%20Credits%20Request%20Link%20-%20RSNA.txt to /content/lesson3-data\r\n",
            "\r  0%|                                                | 0.00/55.0 [00:00<?, ?B/s]\r\n",
            "100%|████████████████████████████████████████| 55.0/55.0 [00:00<00:00, 41.6kB/s]\n",
            "Downloading stage_1_detailed_class_info.csv.zip to /content/lesson3-data\n",
            "  0%|                                                | 0.00/561k [00:00<?, ?B/s]\n",
            "100%|████████████████████████████████████████| 561k/561k [00:00<00:00, 79.6MB/s]\n",
            "Downloading stage_1_sample_submission.csv to /content/lesson3-data\n",
            "  0%|                                               | 0.00/51.8k [00:00<?, ?B/s]\n",
            "100%|██████████████████████████████████████| 51.8k/51.8k [00:00<00:00, 39.2MB/s]\n",
            "Downloading stage_1_train_labels.csv.zip to /content/lesson3-data\n",
            "  0%|                                                | 0.00/634k [00:00<?, ?B/s]\n",
            "100%|████████████████████████████████████████| 634k/634k [00:00<00:00, 99.7MB/s]\n",
            "Downloading stage_1_test_images.zip to /content/lesson3-data\n",
            "100%|████████████████████████████████████████| 126M/126M [00:01<00:00, 69.3MB/s]\n",
            "\n",
            "Downloading stage_1_train_images.zip to /content/lesson3-data\n",
            "100%|█████████████████████████████████████▉| 3.16G/3.17G [00:50<00:00, 64.6MB/s]\n",
            "100%|██████████████████████████████████████| 3.17G/3.17G [00:50<00:00, 67.3MB/s]\n"
          ],
          "name": "stdout"
        }
      ]
    },
    {
      "cell_type": "markdown",
      "metadata": {
        "id": "femDm6VVev6m",
        "colab_type": "text"
      },
      "source": [
        "### Data is downloaded as zip files. Unzip the test and train datasets as well as the csv of  annotations."
      ]
    },
    {
      "cell_type": "code",
      "metadata": {
        "id": "kHjgAwQyx_4H",
        "colab_type": "code",
        "outputId": "419fdbb9-596e-4e7f-c4c3-c8f14cb19fae",
        "colab": {
          "base_uri": "https://localhost:8080/",
          "height": 72
        }
      },
      "source": [
        "# unzipping takes a few minutes\n",
        "!unzip -q -o stage_1_test_images.zip -d stage_1_test_images\n",
        "!unzip -q -o stage_1_train_images.zip -d stage_1_train_images\n",
        "!unzip -q -o stage_1_train_labels.csv.zip"
      ],
      "execution_count": 0,
      "outputs": [
        {
          "output_type": "stream",
          "text": [
            "unzip:  cannot find or open stage_1_test_images.zip, stage_1_test_images.zip.zip or stage_1_test_images.zip.ZIP.\n",
            "unzip:  cannot find or open stage_1_train_images.zip, stage_1_train_images.zip.zip or stage_1_train_images.zip.ZIP.\n",
            "unzip:  cannot find or open stage_1_train_labels.csv.zip, stage_1_train_labels.csv.zip.zip or stage_1_train_labels.csv.zip.ZIP.\n"
          ],
          "name": "stdout"
        }
      ]
    },
    {
      "cell_type": "markdown",
      "metadata": {
        "id": "KLTUyeTMTe4u",
        "colab_type": "text"
      },
      "source": [
        "###  MD.ai Annotator \n",
        "\n",
        "Additionally, If you are interested in augmenting the existing annotations, you can use the MD.ai annotator to view DICOM images, and create annotatios to be exported.  \n",
        "MD.ai annotator project URL for the Kaggle dataset: https://public.md.ai/annotator/project/LxR6zdR2/workspace\n",
        "\n",
        "**Annotator features**\n",
        "- The annotator can be used to view DICOM images and create image and exam level annotations.\n",
        "- You can apply the annotator to filter by label, adjudicate annotations, and assign annotation tasks to your team.\n",
        "- Notebooks can be built directly within the annotator for rapid model development.\n",
        "- The data wrangling is abstracted away by the interface and by our MD.ai library.\n",
        "- Simplifies image annotation in order to widen the participation in the futrue of medical image deep learning.\n",
        "\n",
        "The annotator allows you to create initial annotations, build and run models, modify/finetune the annotations based on predicted values, and repeat.  \n",
        "The MD.ai python client library implements functions to easily download images and annotations and to prepare the datasets used to train the model for classification. See the following example notebook for parsing annotations and training using MD.ai annotator: \n",
        "https://github.com/mdai/ml-lessons/blob/master/lesson3-rsna-pneumonia-detection-mdai-client-lib.ipynb  \n",
        "- MD.ai URL: https://www.md.ai  \n",
        "- MD.ai documentation URL: https://docs.md.ai/"
      ]
    },
    {
      "cell_type": "markdown",
      "metadata": {
        "id": "kdYzLq1zfKL4",
        "colab_type": "text"
      },
      "source": [
        "### Install Matterport's Mask-RCNN model from github.\n",
        "See the [Matterport's implementation of Mask-RCNN](https://github.com/matterport/Mask_RCNN)."
      ]
    },
    {
      "cell_type": "code",
      "metadata": {
        "id": "KgllzLnDr7kF",
        "colab_type": "code",
        "outputId": "38f9c5aa-a445-4897-d768-03ec9f1e30c6",
        "colab": {
          "base_uri": "https://localhost:8080/",
          "height": 163
        }
      },
      "source": [
        "os.chdir(ROOT_DIR)\n",
        "!git clone https://github.com/matterport/Mask_RCNN.git\n",
        "os.chdir('Mask_RCNN')\n",
        "!python setup.py -q install"
      ],
      "execution_count": 0,
      "outputs": [
        {
          "output_type": "stream",
          "text": [
            "Cloning into 'Mask_RCNN'...\n",
            "remote: Enumerating objects: 956, done.\u001b[K\n",
            "remote: Total 956 (delta 0), reused 0 (delta 0), pack-reused 956\u001b[K\n",
            "Receiving objects: 100% (956/956), 119.40 MiB | 20.21 MiB/s, done.\n",
            "Resolving deltas: 100% (568/568), done.\n",
            "Checking out files: 100% (76/76), done.\n",
            "WARNING:root:Fail load requirements file, so using default ones.\n",
            "zip_safe flag not set; analyzing archive contents...\n"
          ],
          "name": "stdout"
        }
      ]
    },
    {
      "cell_type": "code",
      "metadata": {
        "id": "-KZXyWwhzOVU",
        "colab_type": "code",
        "outputId": "a5b08931-faf2-442f-d5d9-d31deebf6e1d",
        "colab": {
          "base_uri": "https://localhost:8080/",
          "height": 35
        }
      },
      "source": [
        "# Import Mask RCNN\n",
        "sys.path.append(os.path.join(ROOT_DIR, 'Mask_RCNN'))  # To find local version of the library\n",
        "from mrcnn.config import Config\n",
        "from mrcnn import utils\n",
        "import mrcnn.model as modellib\n",
        "from mrcnn import visualize\n",
        "from mrcnn.model import log"
      ],
      "execution_count": 0,
      "outputs": [
        {
          "output_type": "stream",
          "text": [
            "Using TensorFlow backend.\n"
          ],
          "name": "stderr"
        }
      ]
    },
    {
      "cell_type": "code",
      "metadata": {
        "id": "FghMmiMjzOX2",
        "colab_type": "code",
        "colab": {}
      },
      "source": [
        "train_dicom_dir = \"/content/drive/My Drive/RSNA/train_extracted/\"\n",
        "test_dicom_dir =\"/content/drive/My Drive/RSNA/test_extracted/\""
      ],
      "execution_count": 0,
      "outputs": []
    },
    {
      "cell_type": "markdown",
      "metadata": {
        "id": "gj-tvDvEaDiC",
        "colab_type": "text"
      },
      "source": [
        "### Some setup functions and classes for Mask-RCNN\n",
        "\n",
        "- dicom_fps is a list of the dicom image path and filenames \n",
        "- image_annotions is a dictionary of the annotations keyed by the filenames\n",
        "- parsing the dataset returns a list of the image filenames and the annotations dictionary"
      ]
    },
    {
      "cell_type": "code",
      "metadata": {
        "id": "ivqC4cnszOaM",
        "colab_type": "code",
        "colab": {}
      },
      "source": [
        "def get_dicom_fps(dicom_dir):\n",
        "    dicom_fps = glob.glob(dicom_dir+'/'+'*.dcm')\n",
        "    return list(set(dicom_fps))\n",
        "\n",
        "def parse_dataset(dicom_dir, anns): \n",
        "    image_fps = get_dicom_fps(dicom_dir)\n",
        "    image_annotations = {fp: [] for fp in image_fps}\n",
        "    for index, row in anns.iterrows(): \n",
        "        fp = os.path.join(dicom_dir, row['patientId']+'.dcm')\n",
        "        image_annotations[fp].append(row)\n",
        "    return image_fps, image_annotations "
      ],
      "execution_count": 0,
      "outputs": []
    },
    {
      "cell_type": "code",
      "metadata": {
        "id": "_SfzTa-1zOck",
        "colab_type": "code",
        "outputId": "6a21d9e5-a7fc-422a-9739-b7b425d82419",
        "colab": {
          "base_uri": "https://localhost:8080/",
          "height": 963
        }
      },
      "source": [
        "# The following parameters have been selected to reduce running time for demonstration purposes \n",
        "# These are not optimal \n",
        "\n",
        "class DetectorConfig(Config):\n",
        "    \"\"\"Configuration for training pneumonia detection on the RSNA pneumonia dataset.\n",
        "    Overrides values in the base Config class.\n",
        "    \"\"\"\n",
        "    \n",
        "    # Give the configuration a recognizable name  \n",
        "    NAME = 'pneumonia'\n",
        "    \n",
        "    # Train on 1 GPU and 8 images per GPU. We can put multiple images on each\n",
        "    # GPU because the images are small. Batch size is 8 (GPUs * images/GPU).\n",
        "    GPU_COUNT = 1\n",
        "    IMAGES_PER_GPU = 8 \n",
        "    \n",
        "    BACKBONE = 'resnet50'\n",
        "    \n",
        "    NUM_CLASSES = 2  # background + 1 pneumonia classes\n",
        "    \n",
        "    # Use small images for faster training. Set the limits of the small side\n",
        "    # the large side, and that determines the image shape.\n",
        "    IMAGE_MIN_DIM = 128\n",
        "    IMAGE_MAX_DIM = 128\n",
        "    \n",
        "    RPN_ANCHOR_SCALES = (32, 64)\n",
        "    \n",
        "    TRAIN_ROIS_PER_IMAGE = 16\n",
        "    \n",
        "    MAX_GT_INSTANCES = 3\n",
        "    \n",
        "    DETECTION_MAX_INSTANCES = 3\n",
        "    DETECTION_MIN_CONFIDENCE = 0.9\n",
        "    DETECTION_NMS_THRESHOLD = 0.1\n",
        "    \n",
        "    RPN_TRAIN_ANCHORS_PER_IMAGE = 16\n",
        "    STEPS_PER_EPOCH = 100 \n",
        "    TOP_DOWN_PYRAMID_SIZE = 32\n",
        "    STEPS_PER_EPOCH = 100\n",
        "    \n",
        "    \n",
        "config = DetectorConfig()\n",
        "config.display()"
      ],
      "execution_count": 0,
      "outputs": [
        {
          "output_type": "stream",
          "text": [
            "\n",
            "Configurations:\n",
            "BACKBONE                       resnet50\n",
            "BACKBONE_STRIDES               [4, 8, 16, 32, 64]\n",
            "BATCH_SIZE                     8\n",
            "BBOX_STD_DEV                   [0.1 0.1 0.2 0.2]\n",
            "COMPUTE_BACKBONE_SHAPE         None\n",
            "DETECTION_MAX_INSTANCES        3\n",
            "DETECTION_MIN_CONFIDENCE       0.9\n",
            "DETECTION_NMS_THRESHOLD        0.1\n",
            "FPN_CLASSIF_FC_LAYERS_SIZE     1024\n",
            "GPU_COUNT                      1\n",
            "GRADIENT_CLIP_NORM             5.0\n",
            "IMAGES_PER_GPU                 8\n",
            "IMAGE_CHANNEL_COUNT            3\n",
            "IMAGE_MAX_DIM                  128\n",
            "IMAGE_META_SIZE                14\n",
            "IMAGE_MIN_DIM                  128\n",
            "IMAGE_MIN_SCALE                0\n",
            "IMAGE_RESIZE_MODE              square\n",
            "IMAGE_SHAPE                    [128 128   3]\n",
            "LEARNING_MOMENTUM              0.9\n",
            "LEARNING_RATE                  0.001\n",
            "LOSS_WEIGHTS                   {'rpn_class_loss': 1.0, 'rpn_bbox_loss': 1.0, 'mrcnn_class_loss': 1.0, 'mrcnn_bbox_loss': 1.0, 'mrcnn_mask_loss': 1.0}\n",
            "MASK_POOL_SIZE                 14\n",
            "MASK_SHAPE                     [28, 28]\n",
            "MAX_GT_INSTANCES               3\n",
            "MEAN_PIXEL                     [123.7 116.8 103.9]\n",
            "MINI_MASK_SHAPE                (56, 56)\n",
            "NAME                           pneumonia\n",
            "NUM_CLASSES                    2\n",
            "POOL_SIZE                      7\n",
            "POST_NMS_ROIS_INFERENCE        1000\n",
            "POST_NMS_ROIS_TRAINING         2000\n",
            "PRE_NMS_LIMIT                  6000\n",
            "ROI_POSITIVE_RATIO             0.33\n",
            "RPN_ANCHOR_RATIOS              [0.5, 1, 2]\n",
            "RPN_ANCHOR_SCALES              (32, 64)\n",
            "RPN_ANCHOR_STRIDE              1\n",
            "RPN_BBOX_STD_DEV               [0.1 0.1 0.2 0.2]\n",
            "RPN_NMS_THRESHOLD              0.7\n",
            "RPN_TRAIN_ANCHORS_PER_IMAGE    16\n",
            "STEPS_PER_EPOCH                100\n",
            "TOP_DOWN_PYRAMID_SIZE          32\n",
            "TRAIN_BN                       False\n",
            "TRAIN_ROIS_PER_IMAGE           16\n",
            "USE_MINI_MASK                  True\n",
            "USE_RPN_ROIS                   True\n",
            "VALIDATION_STEPS               50\n",
            "WEIGHT_DECAY                   0.0001\n",
            "\n",
            "\n"
          ],
          "name": "stdout"
        }
      ]
    },
    {
      "cell_type": "code",
      "metadata": {
        "id": "8EBVA1M60yAj",
        "colab_type": "code",
        "colab": {}
      },
      "source": [
        "class DetectorDataset(utils.Dataset):\n",
        "    \"\"\"Dataset class for training pneumonia detection on the RSNA pneumonia dataset.\n",
        "    \"\"\"\n",
        "\n",
        "    def __init__(self, image_fps, image_annotations, orig_height, orig_width):\n",
        "        super().__init__(self)\n",
        "        \n",
        "        # Add classes\n",
        "        self.add_class('pneumonia', 1, 'Lung Opacity')\n",
        "   \n",
        "        # add images \n",
        "        for i, fp in enumerate(image_fps):\n",
        "            annotations = image_annotations[fp]\n",
        "            self.add_image('pneumonia', image_id=i, path=fp, \n",
        "                           annotations=annotations, orig_height=orig_height, orig_width=orig_width)\n",
        "            \n",
        "    def image_reference(self, image_id):\n",
        "        info = self.image_info[image_id]\n",
        "        return info['path']\n",
        "\n",
        "    def load_image(self, image_id):\n",
        "        info = self.image_info[image_id]\n",
        "        fp = info['path']\n",
        "        ds = pydicom.read_file(fp)\n",
        "        image = ds.pixel_array\n",
        "        # If grayscale. Convert to RGB for consistency.\n",
        "        if len(image.shape) != 3 or image.shape[2] != 3:\n",
        "            image = np.stack((image,) * 3, -1)\n",
        "        return image\n",
        "\n",
        "    def load_mask(self, image_id):\n",
        "        info = self.image_info[image_id]\n",
        "        annotations = info['annotations']\n",
        "        count = len(annotations)\n",
        "        if count == 0:\n",
        "            mask = np.zeros((info['orig_height'], info['orig_width'], 1), dtype=np.uint8)\n",
        "            class_ids = np.zeros((1,), dtype=np.int32)\n",
        "        else:\n",
        "            mask = np.zeros((info['orig_height'], info['orig_width'], count), dtype=np.uint8)\n",
        "            class_ids = np.zeros((count,), dtype=np.int32)\n",
        "            for i, a in enumerate(annotations):\n",
        "                if a['Target'] == 1:\n",
        "                    x = int(a['x'])\n",
        "                    y = int(a['y'])\n",
        "                    w = int(a['width'])\n",
        "                    h = int(a['height'])\n",
        "                    mask_instance = mask[:, :, i].copy()\n",
        "                    cv2.rectangle(mask_instance, (x, y), (x+w, y+h), 255, -1)\n",
        "                    mask[:, :, i] = mask_instance\n",
        "                    class_ids[i] = 1\n",
        "        return mask.astype(np.bool), class_ids.astype(np.int32)"
      ],
      "execution_count": 0,
      "outputs": []
    },
    {
      "cell_type": "markdown",
      "metadata": {
        "id": "9RlMo04ckd98",
        "colab_type": "text"
      },
      "source": [
        "### Examine the annotation data, parse the dataset, and view dicom fields"
      ]
    },
    {
      "cell_type": "code",
      "metadata": {
        "id": "EdhUEFDr0yDA",
        "colab_type": "code",
        "outputId": "32dc1b5d-b02d-4f9c-a42a-1c2b60e744fc",
        "colab": {
          "base_uri": "https://localhost:8080/",
          "height": 228
        }
      },
      "source": [
        "# training dataset\n",
        "anns = pd.read_csv('/content/drive/My Drive/RSNA/stage_2_train_labels.csv')\n",
        "anns.head(6)"
      ],
      "execution_count": 0,
      "outputs": [
        {
          "output_type": "execute_result",
          "data": {
            "text/html": [
              "<div>\n",
              "<style scoped>\n",
              "    .dataframe tbody tr th:only-of-type {\n",
              "        vertical-align: middle;\n",
              "    }\n",
              "\n",
              "    .dataframe tbody tr th {\n",
              "        vertical-align: top;\n",
              "    }\n",
              "\n",
              "    .dataframe thead th {\n",
              "        text-align: right;\n",
              "    }\n",
              "</style>\n",
              "<table border=\"1\" class=\"dataframe\">\n",
              "  <thead>\n",
              "    <tr style=\"text-align: right;\">\n",
              "      <th></th>\n",
              "      <th>patientId</th>\n",
              "      <th>x</th>\n",
              "      <th>y</th>\n",
              "      <th>width</th>\n",
              "      <th>height</th>\n",
              "      <th>Target</th>\n",
              "    </tr>\n",
              "  </thead>\n",
              "  <tbody>\n",
              "    <tr>\n",
              "      <th>0</th>\n",
              "      <td>0004cfab-14fd-4e49-80ba-63a80b6bddd6</td>\n",
              "      <td>NaN</td>\n",
              "      <td>NaN</td>\n",
              "      <td>NaN</td>\n",
              "      <td>NaN</td>\n",
              "      <td>0</td>\n",
              "    </tr>\n",
              "    <tr>\n",
              "      <th>1</th>\n",
              "      <td>00313ee0-9eaa-42f4-b0ab-c148ed3241cd</td>\n",
              "      <td>NaN</td>\n",
              "      <td>NaN</td>\n",
              "      <td>NaN</td>\n",
              "      <td>NaN</td>\n",
              "      <td>0</td>\n",
              "    </tr>\n",
              "    <tr>\n",
              "      <th>2</th>\n",
              "      <td>00322d4d-1c29-4943-afc9-b6754be640eb</td>\n",
              "      <td>NaN</td>\n",
              "      <td>NaN</td>\n",
              "      <td>NaN</td>\n",
              "      <td>NaN</td>\n",
              "      <td>0</td>\n",
              "    </tr>\n",
              "    <tr>\n",
              "      <th>3</th>\n",
              "      <td>003d8fa0-6bf1-40ed-b54c-ac657f8495c5</td>\n",
              "      <td>NaN</td>\n",
              "      <td>NaN</td>\n",
              "      <td>NaN</td>\n",
              "      <td>NaN</td>\n",
              "      <td>0</td>\n",
              "    </tr>\n",
              "    <tr>\n",
              "      <th>4</th>\n",
              "      <td>00436515-870c-4b36-a041-de91049b9ab4</td>\n",
              "      <td>264.0</td>\n",
              "      <td>152.0</td>\n",
              "      <td>213.0</td>\n",
              "      <td>379.0</td>\n",
              "      <td>1</td>\n",
              "    </tr>\n",
              "    <tr>\n",
              "      <th>5</th>\n",
              "      <td>00436515-870c-4b36-a041-de91049b9ab4</td>\n",
              "      <td>562.0</td>\n",
              "      <td>152.0</td>\n",
              "      <td>256.0</td>\n",
              "      <td>453.0</td>\n",
              "      <td>1</td>\n",
              "    </tr>\n",
              "  </tbody>\n",
              "</table>\n",
              "</div>"
            ],
            "text/plain": [
              "                              patientId      x      y  width  height  Target\n",
              "0  0004cfab-14fd-4e49-80ba-63a80b6bddd6    NaN    NaN    NaN     NaN       0\n",
              "1  00313ee0-9eaa-42f4-b0ab-c148ed3241cd    NaN    NaN    NaN     NaN       0\n",
              "2  00322d4d-1c29-4943-afc9-b6754be640eb    NaN    NaN    NaN     NaN       0\n",
              "3  003d8fa0-6bf1-40ed-b54c-ac657f8495c5    NaN    NaN    NaN     NaN       0\n",
              "4  00436515-870c-4b36-a041-de91049b9ab4  264.0  152.0  213.0   379.0       1\n",
              "5  00436515-870c-4b36-a041-de91049b9ab4  562.0  152.0  256.0   453.0       1"
            ]
          },
          "metadata": {
            "tags": []
          },
          "execution_count": 19
        }
      ]
    },
    {
      "cell_type": "code",
      "metadata": {
        "id": "Mxz-pNbt5txY",
        "colab_type": "code",
        "colab": {}
      },
      "source": [
        "image_fps, image_annotations = parse_dataset(train_dicom_dir, anns=anns)"
      ],
      "execution_count": 0,
      "outputs": []
    },
    {
      "cell_type": "code",
      "metadata": {
        "id": "YPqjEIXWRhSf",
        "colab_type": "code",
        "colab": {}
      },
      "source": [
        "ds = pydicom.read_file(image_fps[0]) # read dicom image from filepath \n",
        "image = ds.pixel_array # get image array"
      ],
      "execution_count": 0,
      "outputs": []
    },
    {
      "cell_type": "code",
      "metadata": {
        "id": "81lovwF2Ro5R",
        "colab_type": "code",
        "outputId": "08d09524-8235-436b-e981-676cabeba6c7",
        "colab": {
          "base_uri": "https://localhost:8080/",
          "height": 654
        }
      },
      "source": [
        "# show dicom fields \n",
        "ds"
      ],
      "execution_count": 0,
      "outputs": [
        {
          "output_type": "execute_result",
          "data": {
            "text/plain": [
              "(0008, 0005) Specific Character Set              CS: 'ISO_IR 100'\n",
              "(0008, 0016) SOP Class UID                       UI: Secondary Capture Image Storage\n",
              "(0008, 0018) SOP Instance UID                    UI: 1.2.276.0.7230010.3.1.4.8323329.20677.1517874429.215329\n",
              "(0008, 0020) Study Date                          DA: '19010101'\n",
              "(0008, 0030) Study Time                          TM: '000000.00'\n",
              "(0008, 0050) Accession Number                    SH: ''\n",
              "(0008, 0060) Modality                            CS: 'CR'\n",
              "(0008, 0064) Conversion Type                     CS: 'WSD'\n",
              "(0008, 0090) Referring Physician's Name          PN: ''\n",
              "(0008, 103e) Series Description                  LO: 'view: AP'\n",
              "(0010, 0010) Patient's Name                      PN: 'dff644ef-d0ad-4ae9-8645-7dfa57e523fa'\n",
              "(0010, 0020) Patient ID                          LO: 'dff644ef-d0ad-4ae9-8645-7dfa57e523fa'\n",
              "(0010, 0030) Patient's Birth Date                DA: ''\n",
              "(0010, 0040) Patient's Sex                       CS: 'M'\n",
              "(0010, 1010) Patient's Age                       AS: '26'\n",
              "(0018, 0015) Body Part Examined                  CS: 'CHEST'\n",
              "(0018, 5101) View Position                       CS: 'AP'\n",
              "(0020, 000d) Study Instance UID                  UI: 1.2.276.0.7230010.3.1.2.8323329.20677.1517874429.215328\n",
              "(0020, 000e) Series Instance UID                 UI: 1.2.276.0.7230010.3.1.3.8323329.20677.1517874429.215327\n",
              "(0020, 0010) Study ID                            SH: ''\n",
              "(0020, 0011) Series Number                       IS: \"1\"\n",
              "(0020, 0013) Instance Number                     IS: \"1\"\n",
              "(0020, 0020) Patient Orientation                 CS: ''\n",
              "(0028, 0002) Samples per Pixel                   US: 1\n",
              "(0028, 0004) Photometric Interpretation          CS: 'MONOCHROME2'\n",
              "(0028, 0010) Rows                                US: 1024\n",
              "(0028, 0011) Columns                             US: 1024\n",
              "(0028, 0030) Pixel Spacing                       DS: ['0.139', '0.139']\n",
              "(0028, 0100) Bits Allocated                      US: 8\n",
              "(0028, 0101) Bits Stored                         US: 8\n",
              "(0028, 0102) High Bit                            US: 7\n",
              "(0028, 0103) Pixel Representation                US: 0\n",
              "(0028, 2110) Lossy Image Compression             CS: '01'\n",
              "(0028, 2114) Lossy Image Compression Method      CS: 'ISO_10918_1'\n",
              "(7fe0, 0010) Pixel Data                          OB: Array of 147394 bytes"
            ]
          },
          "metadata": {
            "tags": []
          },
          "execution_count": 31
        }
      ]
    },
    {
      "cell_type": "code",
      "metadata": {
        "id": "gYNSd1AhRqOV",
        "colab_type": "code",
        "colab": {}
      },
      "source": [
        "# Original DICOM image size: 1024 x 1024\n",
        "ORIG_SIZE = 1024"
      ],
      "execution_count": 0,
      "outputs": []
    },
    {
      "cell_type": "markdown",
      "metadata": {
        "id": "4FlRu8ML-ceg",
        "colab_type": "text"
      },
      "source": [
        "### Split the data into training and validation datasets\n",
        "**Note: We have only used only a portion of the images for demonstration purposes. See comments below.**\n",
        " \n",
        " - To use all the images do: image_fps_list = list(image_fps)\n",
        " - Or change the number of images from 100 to a custom number"
      ]
    },
    {
      "cell_type": "code",
      "metadata": {
        "id": "7jByVCZt-ZOC",
        "colab_type": "code",
        "outputId": "6f2391c4-7549-4085-ce12-89c6e69531ef",
        "colab": {
          "base_uri": "https://localhost:8080/",
          "height": 35
        }
      },
      "source": [
        "######################################################################\n",
        "# Modify this line to use more or fewer images for training/validation. \n",
        "# To use all images, do: image_fps_list = list(image_fps)\n",
        "image_fps_list = list(image_fps[:1200]) \n",
        "#####################################################################\n",
        "\n",
        "# split dataset into training vs. validation dataset \n",
        "# split ratio is set to 0.9 vs. 0.1 (train vs. validation, respectively)\n",
        "sorted(image_fps_list)\n",
        "random.seed(42)\n",
        "random.shuffle(image_fps_list)\n",
        "\n",
        "validation_split = 0.1\n",
        "split_index = int((1 - validation_split) * len(image_fps_list))\n",
        "\n",
        "image_fps_train = image_fps_list[:split_index]\n",
        "image_fps_val = image_fps_list[split_index:]\n",
        "\n",
        "print(len(image_fps_train), len(image_fps_val))"
      ],
      "execution_count": 0,
      "outputs": [
        {
          "output_type": "stream",
          "text": [
            "1080 120\n"
          ],
          "name": "stdout"
        }
      ]
    },
    {
      "cell_type": "markdown",
      "metadata": {
        "id": "9KUvacUbgiEX",
        "colab_type": "text"
      },
      "source": [
        "### Create and prepare the training dataset using the DetectorDataset class."
      ]
    },
    {
      "cell_type": "code",
      "metadata": {
        "id": "jwMkhotP0yFf",
        "colab_type": "code",
        "colab": {}
      },
      "source": [
        "# prepare the training dataset\n",
        "dataset_train = DetectorDataset(image_fps_train, image_annotations, ORIG_SIZE, ORIG_SIZE)\n",
        "dataset_train.prepare()"
      ],
      "execution_count": 0,
      "outputs": []
    },
    {
      "cell_type": "markdown",
      "metadata": {
        "id": "wPDQ9EVDgxa6",
        "colab_type": "text"
      },
      "source": [
        "### Let's look at a sample annotation. We see a bounding box with (x, y) of the the top left corner as well as the width and height."
      ]
    },
    {
      "cell_type": "code",
      "metadata": {
        "id": "0xEc47Jz59x5",
        "colab_type": "code",
        "outputId": "0f3ad938-274a-4fea-c163-c2ef91bdc354",
        "colab": {
          "base_uri": "https://localhost:8080/",
          "height": 145
        }
      },
      "source": [
        "# Show annotation(s) for a DICOM image \n",
        "test_fp = random.choice(image_fps_train)\n",
        "image_annotations[test_fp]"
      ],
      "execution_count": 0,
      "outputs": [
        {
          "output_type": "execute_result",
          "data": {
            "text/plain": [
              "[patientId    67f87ec9-821b-4159-ac5e-edd2249dad5a\n",
              " x                                             NaN\n",
              " y                                             NaN\n",
              " width                                         NaN\n",
              " height                                        NaN\n",
              " Target                                          0\n",
              " Name: 9510, dtype: object]"
            ]
          },
          "metadata": {
            "tags": []
          },
          "execution_count": 30
        }
      ]
    },
    {
      "cell_type": "code",
      "metadata": {
        "id": "K1TkWuGP0yHl",
        "colab_type": "code",
        "colab": {}
      },
      "source": [
        "# prepare the validation dataset\n",
        "dataset_val = DetectorDataset(image_fps_val, image_annotations, ORIG_SIZE, ORIG_SIZE)\n",
        "dataset_val.prepare()"
      ],
      "execution_count": 0,
      "outputs": []
    },
    {
      "cell_type": "markdown",
      "metadata": {
        "id": "pEXEt8fygWuC",
        "colab_type": "text"
      },
      "source": [
        "### Display a random image with bounding boxes"
      ]
    },
    {
      "cell_type": "code",
      "metadata": {
        "id": "4xwsrf9G1lHR",
        "colab_type": "code",
        "outputId": "f51bc560-9c7a-4a0e-a27d-089c3d8255da",
        "colab": {
          "base_uri": "https://localhost:8080/",
          "height": 360
        }
      },
      "source": [
        "# Load and display random samples and their bounding boxes\n",
        "# Suggestion: Run this a few times to see different examples. \n",
        "\n",
        "image_id = random.choice(dataset_train.image_ids)\n",
        "image_fp = dataset_train.image_reference(image_id)\n",
        "image = dataset_train.load_image(image_id)\n",
        "mask, class_ids = dataset_train.load_mask(image_id)\n",
        "\n",
        "print(image.shape)\n",
        "\n",
        "plt.figure(figsize=(10, 10))\n",
        "plt.subplot(1, 2, 1)\n",
        "plt.imshow(image[:, :, 0], cmap='gray')\n",
        "plt.axis('off')\n",
        "\n",
        "plt.subplot(1, 2, 2)\n",
        "masked = np.zeros(image.shape[:2])\n",
        "for i in range(mask.shape[2]):\n",
        "    masked += image[:, :, 0] * mask[:, :, i]\n",
        "plt.imshow(masked, cmap='gray')\n",
        "plt.axis('off')\n",
        "\n",
        "print(image_fp)\n",
        "print(class_ids)"
      ],
      "execution_count": 0,
      "outputs": [
        {
          "output_type": "stream",
          "text": [
            "(1024, 1024, 3)\n",
            "/content/drive/My Drive/RSNA/train_extracted/9e9ccd67-62ad-4dd5-95ff-ff96aaf2f4a5.dcm\n",
            "[0]\n"
          ],
          "name": "stdout"
        },
        {
          "output_type": "display_data",
          "data": {
            "image/png": "[encoded data removed]",
            "text/plain": [
              "<Figure size 720x720 with 2 Axes>"
            ]
          },
          "metadata": {
            "tags": []
          }
        }
      ]
    },
    {
      "cell_type": "code",
      "metadata": {
        "id": "geTvh0sU1lJo",
        "colab_type": "code",
        "outputId": "c6e60ee4-ae3b-4733-c351-a7af82e39c76",
        "colab": {
          "base_uri": "https://localhost:8080/",
          "height": 455
        }
      },
      "source": [
        "model = modellib.MaskRCNN(mode='training', config=config, model_dir=MODEL_DIR)"
      ],
      "execution_count": 0,
      "outputs": [
        {
          "output_type": "stream",
          "text": [
            "WARNING: Logging before flag parsing goes to stderr.\n",
            "W0616 12:15:23.728253 139990065215360 deprecation_wrapper.py:119] From /usr/local/lib/python3.6/dist-packages/keras/backend/tensorflow_backend.py:517: The name tf.placeholder is deprecated. Please use tf.compat.v1.placeholder instead.\n",
            "\n",
            "W0616 12:15:23.772685 139990065215360 deprecation_wrapper.py:119] From /usr/local/lib/python3.6/dist-packages/keras/backend/tensorflow_backend.py:74: The name tf.get_default_graph is deprecated. Please use tf.compat.v1.get_default_graph instead.\n",
            "\n",
            "W0616 12:15:23.799646 139990065215360 deprecation_wrapper.py:119] From /usr/local/lib/python3.6/dist-packages/keras/backend/tensorflow_backend.py:4138: The name tf.random_uniform is deprecated. Please use tf.random.uniform instead.\n",
            "\n",
            "W0616 12:15:23.835494 139990065215360 deprecation_wrapper.py:119] From /usr/local/lib/python3.6/dist-packages/keras/backend/tensorflow_backend.py:1919: The name tf.nn.fused_batch_norm is deprecated. Please use tf.compat.v1.nn.fused_batch_norm instead.\n",
            "\n",
            "W0616 12:15:23.840610 139990065215360 deprecation_wrapper.py:119] From /usr/local/lib/python3.6/dist-packages/keras/backend/tensorflow_backend.py:3976: The name tf.nn.max_pool is deprecated. Please use tf.nn.max_pool2d instead.\n",
            "\n",
            "W0616 12:15:25.214333 139990065215360 deprecation_wrapper.py:119] From /usr/local/lib/python3.6/dist-packages/keras/backend/tensorflow_backend.py:2018: The name tf.image.resize_nearest_neighbor is deprecated. Please use tf.compat.v1.image.resize_nearest_neighbor instead.\n",
            "\n",
            "W0616 12:15:26.546047 139990065215360 deprecation.py:323] From /usr/local/lib/python3.6/dist-packages/tensorflow/python/ops/array_ops.py:1354: add_dispatch_support.<locals>.wrapper (from tensorflow.python.ops.array_ops) is deprecated and will be removed in a future version.\n",
            "Instructions for updating:\n",
            "Use tf.where in 2.0, which has the same broadcast rule as np.where\n",
            "W0616 12:15:26.694110 139990065215360 deprecation_wrapper.py:119] From /content/drive/My Drive/RSNA/Mask_RCNN/mrcnn/model.py:553: The name tf.random_shuffle is deprecated. Please use tf.random.shuffle instead.\n",
            "\n",
            "W0616 12:15:26.762909 139990065215360 deprecation_wrapper.py:119] From /content/drive/My Drive/RSNA/Mask_RCNN/mrcnn/utils.py:202: The name tf.log is deprecated. Please use tf.math.log instead.\n",
            "\n",
            "W0616 12:15:26.788085 139990065215360 deprecation.py:506] From /content/drive/My Drive/RSNA/Mask_RCNN/mrcnn/model.py:600: calling crop_and_resize_v1 (from tensorflow.python.ops.image_ops_impl) with box_ind is deprecated and will be removed in a future version.\n",
            "Instructions for updating:\n",
            "box_ind is deprecated, use box_indices instead\n"
          ],
          "name": "stderr"
        }
      ]
    },
    {
      "cell_type": "markdown",
      "metadata": {
        "id": "ustAIH78hZI_",
        "colab_type": "text"
      },
      "source": [
        "### Image Augmentation. Try finetuning some variables to custom values"
      ]
    },
    {
      "cell_type": "code",
      "metadata": {
        "id": "STZnQTE61lME",
        "colab_type": "code",
        "colab": {}
      },
      "source": [
        "# Image augmentation \n",
        "augmentation = iaa.SomeOf((0, 1), [\n",
        "    iaa.Fliplr(0.5),\n",
        "    iaa.Affine(\n",
        "        scale={\"x\": (0.8, 1.2), \"y\": (0.8, 1.2)},\n",
        "        translate_percent={\"x\": (-0.2, 0.2), \"y\": (-0.2, 0.2)},\n",
        "        rotate=(-25, 25),\n",
        "        shear=(-8, 8)\n",
        "    ),\n",
        "    iaa.Multiply((0.9, 1.1))\n",
        "])"
      ],
      "execution_count": 0,
      "outputs": []
    },
    {
      "cell_type": "markdown",
      "metadata": {
        "id": "M4kt7LKuc78e",
        "colab_type": "text"
      },
      "source": [
        "### Now it's time to train the model. Note that training even a basic model can take a few hours. \n",
        "\n",
        "Note: the following model is for demonstration purpose only. We have limited the training to one epoch, and have set nominal values for the Detector Configuration to reduce run-time. \n",
        "\n",
        "- dataset_train and dataset_val are derived from DetectorDataset \n",
        "- DetectorDataset loads images from image filenames and  masks from the annotation data\n",
        "- model is Mask-RCNN"
      ]
    },
    {
      "cell_type": "code",
      "metadata": {
        "id": "RVgNhHjl1lOS",
        "colab_type": "code",
        "outputId": "59878ddf-698e-4d2d-b902-0c7704ed3f46",
        "colab": {
          "base_uri": "https://localhost:8080/",
          "height": 4383
        }
      },
      "source": [
        "NUM_EPOCHS = 50\n",
        "\n",
        "# Train Mask-RCNN Model \n",
        "import warnings \n",
        "warnings.filterwarnings(\"ignore\")\n",
        "model.train(dataset_train, dataset_val, \n",
        "            learning_rate=config.LEARNING_RATE, \n",
        "            epochs=NUM_EPOCHS, \n",
        "            layers='all',\n",
        "            augmentation=augmentation)"
      ],
      "execution_count": 0,
      "outputs": [
        {
          "output_type": "stream",
          "text": [
            "\n",
            "Starting at epoch 0. LR=0.001\n",
            "\n",
            "Checkpoint Path: /content/drive/My Drive/RSNA/logs/pneumonia20190616T1215/mask_rcnn_pneumonia_{epoch:04d}.h5\n",
            "Selecting layers to train\n",
            "conv1                  (Conv2D)\n",
            "bn_conv1               (BatchNorm)\n",
            "res2a_branch2a         (Conv2D)\n",
            "bn2a_branch2a          (BatchNorm)\n",
            "res2a_branch2b         (Conv2D)\n",
            "bn2a_branch2b          (BatchNorm)\n",
            "res2a_branch2c         (Conv2D)\n",
            "res2a_branch1          (Conv2D)\n",
            "bn2a_branch2c          (BatchNorm)\n",
            "bn2a_branch1           (BatchNorm)\n",
            "res2b_branch2a         (Conv2D)\n",
            "bn2b_branch2a          (BatchNorm)\n",
            "res2b_branch2b         (Conv2D)\n",
            "bn2b_branch2b          (BatchNorm)\n",
            "res2b_branch2c         (Conv2D)\n",
            "bn2b_branch2c          (BatchNorm)\n",
            "res2c_branch2a         (Conv2D)\n",
            "bn2c_branch2a          (BatchNorm)\n",
            "res2c_branch2b         (Conv2D)\n",
            "bn2c_branch2b          (BatchNorm)\n",
            "res2c_branch2c         (Conv2D)\n",
            "bn2c_branch2c          (BatchNorm)\n",
            "res3a_branch2a         (Conv2D)\n",
            "bn3a_branch2a          (BatchNorm)\n",
            "res3a_branch2b         (Conv2D)\n",
            "bn3a_branch2b          (BatchNorm)\n",
            "res3a_branch2c         (Conv2D)\n",
            "res3a_branch1          (Conv2D)\n",
            "bn3a_branch2c          (BatchNorm)\n",
            "bn3a_branch1           (BatchNorm)\n",
            "res3b_branch2a         (Conv2D)\n",
            "bn3b_branch2a          (BatchNorm)\n",
            "res3b_branch2b         (Conv2D)\n",
            "bn3b_branch2b          (BatchNorm)\n",
            "res3b_branch2c         (Conv2D)\n",
            "bn3b_branch2c          (BatchNorm)\n",
            "res3c_branch2a         (Conv2D)\n",
            "bn3c_branch2a          (BatchNorm)\n",
            "res3c_branch2b         (Conv2D)\n",
            "bn3c_branch2b          (BatchNorm)\n",
            "res3c_branch2c         (Conv2D)\n",
            "bn3c_branch2c          (BatchNorm)\n",
            "res3d_branch2a         (Conv2D)\n",
            "bn3d_branch2a          (BatchNorm)\n",
            "res3d_branch2b         (Conv2D)\n",
            "bn3d_branch2b          (BatchNorm)\n",
            "res3d_branch2c         (Conv2D)\n",
            "bn3d_branch2c          (BatchNorm)\n",
            "res4a_branch2a         (Conv2D)\n",
            "bn4a_branch2a          (BatchNorm)\n",
            "res4a_branch2b         (Conv2D)\n",
            "bn4a_branch2b          (BatchNorm)\n",
            "res4a_branch2c         (Conv2D)\n",
            "res4a_branch1          (Conv2D)\n",
            "bn4a_branch2c          (BatchNorm)\n",
            "bn4a_branch1           (BatchNorm)\n",
            "res4b_branch2a         (Conv2D)\n",
            "bn4b_branch2a          (BatchNorm)\n",
            "res4b_branch2b         (Conv2D)\n",
            "bn4b_branch2b          (BatchNorm)\n",
            "res4b_branch2c         (Conv2D)\n",
            "bn4b_branch2c          (BatchNorm)\n",
            "res4c_branch2a         (Conv2D)\n",
            "bn4c_branch2a          (BatchNorm)\n",
            "res4c_branch2b         (Conv2D)\n",
            "bn4c_branch2b          (BatchNorm)\n",
            "res4c_branch2c         (Conv2D)\n",
            "bn4c_branch2c          (BatchNorm)\n",
            "res4d_branch2a         (Conv2D)\n",
            "bn4d_branch2a          (BatchNorm)\n",
            "res4d_branch2b         (Conv2D)\n",
            "bn4d_branch2b          (BatchNorm)\n",
            "res4d_branch2c         (Conv2D)\n",
            "bn4d_branch2c          (BatchNorm)\n",
            "res4e_branch2a         (Conv2D)\n",
            "bn4e_branch2a          (BatchNorm)\n",
            "res4e_branch2b         (Conv2D)\n",
            "bn4e_branch2b          (BatchNorm)\n",
            "res4e_branch2c         (Conv2D)\n",
            "bn4e_branch2c          (BatchNorm)\n",
            "res4f_branch2a         (Conv2D)\n",
            "bn4f_branch2a          (BatchNorm)\n",
            "res4f_branch2b         (Conv2D)\n",
            "bn4f_branch2b          (BatchNorm)\n",
            "res4f_branch2c         (Conv2D)\n",
            "bn4f_branch2c          (BatchNorm)\n",
            "res5a_branch2a         (Conv2D)\n",
            "bn5a_branch2a          (BatchNorm)\n",
            "res5a_branch2b         (Conv2D)\n",
            "bn5a_branch2b          (BatchNorm)\n",
            "res5a_branch2c         (Conv2D)\n",
            "res5a_branch1          (Conv2D)\n",
            "bn5a_branch2c          (BatchNorm)\n",
            "bn5a_branch1           (BatchNorm)\n",
            "res5b_branch2a         (Conv2D)\n",
            "bn5b_branch2a          (BatchNorm)\n",
            "res5b_branch2b         (Conv2D)\n",
            "bn5b_branch2b          (BatchNorm)\n",
            "res5b_branch2c         (Conv2D)\n",
            "bn5b_branch2c          (BatchNorm)\n",
            "res5c_branch2a         (Conv2D)\n",
            "bn5c_branch2a          (BatchNorm)\n",
            "res5c_branch2b         (Conv2D)\n",
            "bn5c_branch2b          (BatchNorm)\n",
            "res5c_branch2c         (Conv2D)\n",
            "bn5c_branch2c          (BatchNorm)\n",
            "fpn_c5p5               (Conv2D)\n",
            "fpn_c4p4               (Conv2D)\n",
            "fpn_c3p3               (Conv2D)\n",
            "fpn_c2p2               (Conv2D)\n",
            "fpn_p5                 (Conv2D)\n",
            "fpn_p2                 (Conv2D)\n",
            "fpn_p3                 (Conv2D)\n",
            "fpn_p4                 (Conv2D)\n",
            "In model:  rpn_model\n",
            "    rpn_conv_shared        (Conv2D)\n",
            "    rpn_class_raw          (Conv2D)\n",
            "    rpn_bbox_pred          (Conv2D)\n",
            "mrcnn_mask_conv1       (TimeDistributed)\n",
            "mrcnn_mask_bn1         (TimeDistributed)\n",
            "mrcnn_mask_conv2       (TimeDistributed)\n",
            "mrcnn_mask_bn2         (TimeDistributed)\n",
            "mrcnn_class_conv1      (TimeDistributed)\n",
            "mrcnn_class_bn1        (TimeDistributed)\n",
            "mrcnn_mask_conv3       (TimeDistributed)\n",
            "mrcnn_mask_bn3         (TimeDistributed)\n",
            "mrcnn_class_conv2      (TimeDistributed)\n",
            "mrcnn_class_bn2        (TimeDistributed)\n",
            "mrcnn_mask_conv4       (TimeDistributed)\n",
            "mrcnn_mask_bn4         (TimeDistributed)\n",
            "mrcnn_bbox_fc          (TimeDistributed)\n",
            "mrcnn_mask_deconv      (TimeDistributed)\n",
            "mrcnn_class_logits     (TimeDistributed)\n",
            "mrcnn_mask             (TimeDistributed)\n",
            "Epoch 1/50\n",
            "100/100 [==============================] - 419s 4s/step - loss: 1.9869 - rpn_class_loss: 0.2127 - rpn_bbox_loss: 0.5558 - mrcnn_class_loss: 0.2278 - mrcnn_bbox_loss: 0.4972 - mrcnn_mask_loss: 0.4934 - val_loss: 2.4124 - val_rpn_class_loss: 0.2940 - val_rpn_bbox_loss: 0.8576 - val_mrcnn_class_loss: 0.2411 - val_mrcnn_bbox_loss: 0.5293 - val_mrcnn_mask_loss: 0.4906\n",
            "Epoch 2/50\n",
            "100/100 [==============================] - 287s 3s/step - loss: 1.9864 - rpn_class_loss: 0.2327 - rpn_bbox_loss: 0.5357 - mrcnn_class_loss: 0.2516 - mrcnn_bbox_loss: 0.4771 - mrcnn_mask_loss: 0.4893 - val_loss: 2.3525 - val_rpn_class_loss: 0.2651 - val_rpn_bbox_loss: 0.7706 - val_mrcnn_class_loss: 0.2864 - val_mrcnn_bbox_loss: 0.5186 - val_mrcnn_mask_loss: 0.5118\n",
            "Epoch 3/50\n",
            "100/100 [==============================] - 282s 3s/step - loss: 1.9535 - rpn_class_loss: 0.2328 - rpn_bbox_loss: 0.5321 - mrcnn_class_loss: 0.2384 - mrcnn_bbox_loss: 0.4663 - mrcnn_mask_loss: 0.4837 - val_loss: 2.3694 - val_rpn_class_loss: 0.3411 - val_rpn_bbox_loss: 0.7620 - val_mrcnn_class_loss: 0.2511 - val_mrcnn_bbox_loss: 0.5224 - val_mrcnn_mask_loss: 0.4928\n",
            "Epoch 4/50\n",
            "100/100 [==============================] - 284s 3s/step - loss: 1.9240 - rpn_class_loss: 0.2051 - rpn_bbox_loss: 0.5412 - mrcnn_class_loss: 0.2310 - mrcnn_bbox_loss: 0.4648 - mrcnn_mask_loss: 0.4818 - val_loss: 2.2015 - val_rpn_class_loss: 0.2290 - val_rpn_bbox_loss: 0.6983 - val_mrcnn_class_loss: 0.2473 - val_mrcnn_bbox_loss: 0.5279 - val_mrcnn_mask_loss: 0.4989\n",
            "Epoch 5/50\n",
            "100/100 [==============================] - 280s 3s/step - loss: 1.8047 - rpn_class_loss: 0.1916 - rpn_bbox_loss: 0.4892 - mrcnn_class_loss: 0.2173 - mrcnn_bbox_loss: 0.4429 - mrcnn_mask_loss: 0.4637 - val_loss: 2.1840 - val_rpn_class_loss: 0.2862 - val_rpn_bbox_loss: 0.6428 - val_mrcnn_class_loss: 0.2476 - val_mrcnn_bbox_loss: 0.5237 - val_mrcnn_mask_loss: 0.4838\n",
            "Epoch 6/50\n",
            "100/100 [==============================] - 280s 3s/step - loss: 1.7483 - rpn_class_loss: 0.1848 - rpn_bbox_loss: 0.4532 - mrcnn_class_loss: 0.2216 - mrcnn_bbox_loss: 0.4271 - mrcnn_mask_loss: 0.4616 - val_loss: 2.3393 - val_rpn_class_loss: 0.2280 - val_rpn_bbox_loss: 0.9009 - val_mrcnn_class_loss: 0.1967 - val_mrcnn_bbox_loss: 0.5239 - val_mrcnn_mask_loss: 0.4898\n",
            "Epoch 7/50\n",
            "100/100 [==============================] - 286s 3s/step - loss: 1.7066 - rpn_class_loss: 0.1809 - rpn_bbox_loss: 0.4578 - mrcnn_class_loss: 0.2047 - mrcnn_bbox_loss: 0.4059 - mrcnn_mask_loss: 0.4573 - val_loss: 2.0873 - val_rpn_class_loss: 0.2094 - val_rpn_bbox_loss: 0.6685 - val_mrcnn_class_loss: 0.2333 - val_mrcnn_bbox_loss: 0.4992 - val_mrcnn_mask_loss: 0.4769\n",
            "Epoch 8/50\n",
            "100/100 [==============================] - 280s 3s/step - loss: 1.7263 - rpn_class_loss: 0.1766 - rpn_bbox_loss: 0.4550 - mrcnn_class_loss: 0.2278 - mrcnn_bbox_loss: 0.4068 - mrcnn_mask_loss: 0.4601 - val_loss: 2.3396 - val_rpn_class_loss: 0.3376 - val_rpn_bbox_loss: 0.6681 - val_mrcnn_class_loss: 0.3095 - val_mrcnn_bbox_loss: 0.5392 - val_mrcnn_mask_loss: 0.4852\n",
            "Epoch 9/50\n",
            "100/100 [==============================] - 282s 3s/step - loss: 1.6307 - rpn_class_loss: 0.1681 - rpn_bbox_loss: 0.4140 - mrcnn_class_loss: 0.2119 - mrcnn_bbox_loss: 0.3883 - mrcnn_mask_loss: 0.4484 - val_loss: 2.1995 - val_rpn_class_loss: 0.2451 - val_rpn_bbox_loss: 0.6993 - val_mrcnn_class_loss: 0.2639 - val_mrcnn_bbox_loss: 0.5113 - val_mrcnn_mask_loss: 0.4798\n",
            "Epoch 10/50\n",
            "100/100 [==============================] - 292s 3s/step - loss: 1.6464 - rpn_class_loss: 0.1625 - rpn_bbox_loss: 0.4395 - mrcnn_class_loss: 0.2088 - mrcnn_bbox_loss: 0.3887 - mrcnn_mask_loss: 0.4468 - val_loss: 2.1139 - val_rpn_class_loss: 0.2041 - val_rpn_bbox_loss: 0.6391 - val_mrcnn_class_loss: 0.2650 - val_mrcnn_bbox_loss: 0.5388 - val_mrcnn_mask_loss: 0.4669\n",
            "Epoch 11/50\n",
            "100/100 [==============================] - 283s 3s/step - loss: 1.6173 - rpn_class_loss: 0.1638 - rpn_bbox_loss: 0.4248 - mrcnn_class_loss: 0.2007 - mrcnn_bbox_loss: 0.3755 - mrcnn_mask_loss: 0.4526 - val_loss: 2.1436 - val_rpn_class_loss: 0.1960 - val_rpn_bbox_loss: 0.6992 - val_mrcnn_class_loss: 0.2647 - val_mrcnn_bbox_loss: 0.5226 - val_mrcnn_mask_loss: 0.4611\n",
            "Epoch 12/50\n",
            "100/100 [==============================] - 285s 3s/step - loss: 1.6060 - rpn_class_loss: 0.1721 - rpn_bbox_loss: 0.4137 - mrcnn_class_loss: 0.2020 - mrcnn_bbox_loss: 0.3761 - mrcnn_mask_loss: 0.4421 - val_loss: 2.1971 - val_rpn_class_loss: 0.2198 - val_rpn_bbox_loss: 0.6777 - val_mrcnn_class_loss: 0.2845 - val_mrcnn_bbox_loss: 0.5457 - val_mrcnn_mask_loss: 0.4694\n",
            "Epoch 13/50\n",
            "100/100 [==============================] - 280s 3s/step - loss: 1.5888 - rpn_class_loss: 0.1560 - rpn_bbox_loss: 0.4128 - mrcnn_class_loss: 0.1979 - mrcnn_bbox_loss: 0.3780 - mrcnn_mask_loss: 0.4441 - val_loss: 2.2372 - val_rpn_class_loss: 0.2607 - val_rpn_bbox_loss: 0.7104 - val_mrcnn_class_loss: 0.2705 - val_mrcnn_bbox_loss: 0.5179 - val_mrcnn_mask_loss: 0.4777\n",
            "Epoch 14/50\n",
            "100/100 [==============================] - 284s 3s/step - loss: 1.5545 - rpn_class_loss: 0.1563 - rpn_bbox_loss: 0.4016 - mrcnn_class_loss: 0.2004 - mrcnn_bbox_loss: 0.3617 - mrcnn_mask_loss: 0.4344 - val_loss: 2.1673 - val_rpn_class_loss: 0.2162 - val_rpn_bbox_loss: 0.6657 - val_mrcnn_class_loss: 0.2778 - val_mrcnn_bbox_loss: 0.5425 - val_mrcnn_mask_loss: 0.4651\n",
            "Epoch 15/50\n",
            "100/100 [==============================] - 276s 3s/step - loss: 1.5675 - rpn_class_loss: 0.1577 - rpn_bbox_loss: 0.4206 - mrcnn_class_loss: 0.1918 - mrcnn_bbox_loss: 0.3608 - mrcnn_mask_loss: 0.4366 - val_loss: 2.2004 - val_rpn_class_loss: 0.2262 - val_rpn_bbox_loss: 0.6977 - val_mrcnn_class_loss: 0.2387 - val_mrcnn_bbox_loss: 0.5576 - val_mrcnn_mask_loss: 0.4801\n",
            "Epoch 16/50\n",
            "100/100 [==============================] - 283s 3s/step - loss: 1.4797 - rpn_class_loss: 0.1600 - rpn_bbox_loss: 0.3700 - mrcnn_class_loss: 0.1891 - mrcnn_bbox_loss: 0.3329 - mrcnn_mask_loss: 0.4278 - val_loss: 2.2395 - val_rpn_class_loss: 0.2659 - val_rpn_bbox_loss: 0.6605 - val_mrcnn_class_loss: 0.2784 - val_mrcnn_bbox_loss: 0.5558 - val_mrcnn_mask_loss: 0.4789\n",
            "Epoch 17/50\n",
            "100/100 [==============================] - 280s 3s/step - loss: 1.5324 - rpn_class_loss: 0.1645 - rpn_bbox_loss: 0.3743 - mrcnn_class_loss: 0.2063 - mrcnn_bbox_loss: 0.3465 - mrcnn_mask_loss: 0.4409 - val_loss: 2.2536 - val_rpn_class_loss: 0.2757 - val_rpn_bbox_loss: 0.6750 - val_mrcnn_class_loss: 0.3096 - val_mrcnn_bbox_loss: 0.5331 - val_mrcnn_mask_loss: 0.4602\n",
            "Epoch 18/50\n",
            "100/100 [==============================] - 288s 3s/step - loss: 1.4405 - rpn_class_loss: 0.1281 - rpn_bbox_loss: 0.3603 - mrcnn_class_loss: 0.1944 - mrcnn_bbox_loss: 0.3333 - mrcnn_mask_loss: 0.4245 - val_loss: 2.0883 - val_rpn_class_loss: 0.2237 - val_rpn_bbox_loss: 0.6349 - val_mrcnn_class_loss: 0.2723 - val_mrcnn_bbox_loss: 0.4912 - val_mrcnn_mask_loss: 0.4661\n",
            "Epoch 19/50\n",
            "100/100 [==============================] - 287s 3s/step - loss: 1.4348 - rpn_class_loss: 0.1368 - rpn_bbox_loss: 0.3553 - mrcnn_class_loss: 0.1898 - mrcnn_bbox_loss: 0.3288 - mrcnn_mask_loss: 0.4241 - val_loss: 2.2706 - val_rpn_class_loss: 0.2434 - val_rpn_bbox_loss: 0.7003 - val_mrcnn_class_loss: 0.2777 - val_mrcnn_bbox_loss: 0.5791 - val_mrcnn_mask_loss: 0.4701\n",
            "Epoch 20/50\n",
            "100/100 [==============================] - 281s 3s/step - loss: 1.3922 - rpn_class_loss: 0.1282 - rpn_bbox_loss: 0.3268 - mrcnn_class_loss: 0.1897 - mrcnn_bbox_loss: 0.3228 - mrcnn_mask_loss: 0.4248 - val_loss: 2.0375 - val_rpn_class_loss: 0.1907 - val_rpn_bbox_loss: 0.6675 - val_mrcnn_class_loss: 0.2372 - val_mrcnn_bbox_loss: 0.4937 - val_mrcnn_mask_loss: 0.4484\n",
            "Epoch 21/50\n",
            "100/100 [==============================] - 291s 3s/step - loss: 1.3819 - rpn_class_loss: 0.1380 - rpn_bbox_loss: 0.3236 - mrcnn_class_loss: 0.1792 - mrcnn_bbox_loss: 0.3199 - mrcnn_mask_loss: 0.4212 - val_loss: 2.2152 - val_rpn_class_loss: 0.2474 - val_rpn_bbox_loss: 0.6990 - val_mrcnn_class_loss: 0.2593 - val_mrcnn_bbox_loss: 0.5469 - val_mrcnn_mask_loss: 0.4626\n",
            "Epoch 22/50\n",
            "100/100 [==============================] - 282s 3s/step - loss: 1.3580 - rpn_class_loss: 0.1268 - rpn_bbox_loss: 0.3249 - mrcnn_class_loss: 0.1785 - mrcnn_bbox_loss: 0.3092 - mrcnn_mask_loss: 0.4187 - val_loss: 2.1450 - val_rpn_class_loss: 0.2036 - val_rpn_bbox_loss: 0.6668 - val_mrcnn_class_loss: 0.2801 - val_mrcnn_bbox_loss: 0.5358 - val_mrcnn_mask_loss: 0.4588\n",
            "Epoch 23/50\n",
            "100/100 [==============================] - 275s 3s/step - loss: 1.3427 - rpn_class_loss: 0.1150 - rpn_bbox_loss: 0.3205 - mrcnn_class_loss: 0.1800 - mrcnn_bbox_loss: 0.3097 - mrcnn_mask_loss: 0.4174 - val_loss: 2.1421 - val_rpn_class_loss: 0.2405 - val_rpn_bbox_loss: 0.7146 - val_mrcnn_class_loss: 0.2265 - val_mrcnn_bbox_loss: 0.5090 - val_mrcnn_mask_loss: 0.4514\n",
            "Epoch 24/50\n",
            "100/100 [==============================] - 284s 3s/step - loss: 1.3477 - rpn_class_loss: 0.1270 - rpn_bbox_loss: 0.3320 - mrcnn_class_loss: 0.1796 - mrcnn_bbox_loss: 0.2925 - mrcnn_mask_loss: 0.4165 - val_loss: 2.1389 - val_rpn_class_loss: 0.2313 - val_rpn_bbox_loss: 0.6917 - val_mrcnn_class_loss: 0.2649 - val_mrcnn_bbox_loss: 0.4876 - val_mrcnn_mask_loss: 0.4634\n",
            "Epoch 25/50\n",
            "100/100 [==============================] - 285s 3s/step - loss: 1.3073 - rpn_class_loss: 0.1294 - rpn_bbox_loss: 0.3197 - mrcnn_class_loss: 0.1677 - mrcnn_bbox_loss: 0.2862 - mrcnn_mask_loss: 0.4042 - val_loss: 2.2704 - val_rpn_class_loss: 0.3117 - val_rpn_bbox_loss: 0.6671 - val_mrcnn_class_loss: 0.2977 - val_mrcnn_bbox_loss: 0.5030 - val_mrcnn_mask_loss: 0.4909\n",
            "Epoch 26/50\n",
            "100/100 [==============================] - 277s 3s/step - loss: 1.2378 - rpn_class_loss: 0.1004 - rpn_bbox_loss: 0.2954 - mrcnn_class_loss: 0.1635 - mrcnn_bbox_loss: 0.2714 - mrcnn_mask_loss: 0.4072 - val_loss: 2.2523 - val_rpn_class_loss: 0.2949 - val_rpn_bbox_loss: 0.6491 - val_mrcnn_class_loss: 0.3127 - val_mrcnn_bbox_loss: 0.5143 - val_mrcnn_mask_loss: 0.4814\n",
            "Epoch 27/50\n",
            "100/100 [==============================] - 284s 3s/step - loss: 1.3100 - rpn_class_loss: 0.1338 - rpn_bbox_loss: 0.2936 - mrcnn_class_loss: 0.1824 - mrcnn_bbox_loss: 0.2864 - mrcnn_mask_loss: 0.4139 - val_loss: 2.2337 - val_rpn_class_loss: 0.2224 - val_rpn_bbox_loss: 0.7233 - val_mrcnn_class_loss: 0.2897 - val_mrcnn_bbox_loss: 0.5465 - val_mrcnn_mask_loss: 0.4517\n",
            "Epoch 28/50\n",
            "100/100 [==============================] - 276s 3s/step - loss: 1.2102 - rpn_class_loss: 0.1108 - rpn_bbox_loss: 0.2768 - mrcnn_class_loss: 0.1585 - mrcnn_bbox_loss: 0.2648 - mrcnn_mask_loss: 0.3994 - val_loss: 2.1476 - val_rpn_class_loss: 0.2158 - val_rpn_bbox_loss: 0.6353 - val_mrcnn_class_loss: 0.3083 - val_mrcnn_bbox_loss: 0.5290 - val_mrcnn_mask_loss: 0.4591\n",
            "Epoch 29/50\n",
            "100/100 [==============================] - 283s 3s/step - loss: 1.2028 - rpn_class_loss: 0.1080 - rpn_bbox_loss: 0.2711 - mrcnn_class_loss: 0.1637 - mrcnn_bbox_loss: 0.2615 - mrcnn_mask_loss: 0.3985 - val_loss: 2.1614 - val_rpn_class_loss: 0.2068 - val_rpn_bbox_loss: 0.6532 - val_mrcnn_class_loss: 0.2714 - val_mrcnn_bbox_loss: 0.5471 - val_mrcnn_mask_loss: 0.4828\n",
            "Epoch 30/50\n",
            "100/100 [==============================] - 280s 3s/step - loss: 1.1263 - rpn_class_loss: 0.0936 - rpn_bbox_loss: 0.2402 - mrcnn_class_loss: 0.1508 - mrcnn_bbox_loss: 0.2453 - mrcnn_mask_loss: 0.3963 - val_loss: 2.3758 - val_rpn_class_loss: 0.3706 - val_rpn_bbox_loss: 0.6590 - val_mrcnn_class_loss: 0.3582 - val_mrcnn_bbox_loss: 0.4953 - val_mrcnn_mask_loss: 0.4927\n",
            "Epoch 31/50\n",
            "100/100 [==============================] - 281s 3s/step - loss: 1.1586 - rpn_class_loss: 0.1011 - rpn_bbox_loss: 0.2497 - mrcnn_class_loss: 0.1638 - mrcnn_bbox_loss: 0.2531 - mrcnn_mask_loss: 0.3908 - val_loss: 1.9671 - val_rpn_class_loss: 0.1798 - val_rpn_bbox_loss: 0.5977 - val_mrcnn_class_loss: 0.2333 - val_mrcnn_bbox_loss: 0.4928 - val_mrcnn_mask_loss: 0.4635\n",
            "Epoch 32/50\n",
            "100/100 [==============================] - 281s 3s/step - loss: 1.1161 - rpn_class_loss: 0.0987 - rpn_bbox_loss: 0.2472 - mrcnn_class_loss: 0.1564 - mrcnn_bbox_loss: 0.2261 - mrcnn_mask_loss: 0.3876 - val_loss: 2.1309 - val_rpn_class_loss: 0.2374 - val_rpn_bbox_loss: 0.6182 - val_mrcnn_class_loss: 0.3036 - val_mrcnn_bbox_loss: 0.5038 - val_mrcnn_mask_loss: 0.4678\n",
            "Epoch 33/50\n",
            "100/100 [==============================] - 281s 3s/step - loss: 1.0405 - rpn_class_loss: 0.0856 - rpn_bbox_loss: 0.2187 - mrcnn_class_loss: 0.1378 - mrcnn_bbox_loss: 0.2171 - mrcnn_mask_loss: 0.3813 - val_loss: 2.2573 - val_rpn_class_loss: 0.2108 - val_rpn_bbox_loss: 0.6737 - val_mrcnn_class_loss: 0.3075 - val_mrcnn_bbox_loss: 0.5797 - val_mrcnn_mask_loss: 0.4856\n",
            "Epoch 34/50\n",
            "100/100 [==============================] - 278s 3s/step - loss: 1.0664 - rpn_class_loss: 0.0902 - rpn_bbox_loss: 0.2182 - mrcnn_class_loss: 0.1504 - mrcnn_bbox_loss: 0.2216 - mrcnn_mask_loss: 0.3859 - val_loss: 2.2340 - val_rpn_class_loss: 0.2546 - val_rpn_bbox_loss: 0.6512 - val_mrcnn_class_loss: 0.2983 - val_mrcnn_bbox_loss: 0.5511 - val_mrcnn_mask_loss: 0.4788\n",
            "Epoch 35/50\n",
            "100/100 [==============================] - 277s 3s/step - loss: 1.0262 - rpn_class_loss: 0.0737 - rpn_bbox_loss: 0.2235 - mrcnn_class_loss: 0.1407 - mrcnn_bbox_loss: 0.2110 - mrcnn_mask_loss: 0.3773 - val_loss: 2.1778 - val_rpn_class_loss: 0.1689 - val_rpn_bbox_loss: 0.6186 - val_mrcnn_class_loss: 0.2585 - val_mrcnn_bbox_loss: 0.6331 - val_mrcnn_mask_loss: 0.4988\n",
            "Epoch 36/50\n",
            "100/100 [==============================] - 285s 3s/step - loss: 1.1046 - rpn_class_loss: 0.1022 - rpn_bbox_loss: 0.2449 - mrcnn_class_loss: 0.1522 - mrcnn_bbox_loss: 0.2271 - mrcnn_mask_loss: 0.3782 - val_loss: 2.1658 - val_rpn_class_loss: 0.2416 - val_rpn_bbox_loss: 0.6294 - val_mrcnn_class_loss: 0.2955 - val_mrcnn_bbox_loss: 0.5268 - val_mrcnn_mask_loss: 0.4724\n",
            "Epoch 37/50\n",
            "100/100 [==============================] - 275s 3s/step - loss: 1.0923 - rpn_class_loss: 0.0955 - rpn_bbox_loss: 0.2369 - mrcnn_class_loss: 0.1458 - mrcnn_bbox_loss: 0.2315 - mrcnn_mask_loss: 0.3826 - val_loss: 2.2341 - val_rpn_class_loss: 0.2459 - val_rpn_bbox_loss: 0.6650 - val_mrcnn_class_loss: 0.3193 - val_mrcnn_bbox_loss: 0.5292 - val_mrcnn_mask_loss: 0.4748\n",
            "Epoch 38/50\n",
            "100/100 [==============================] - 284s 3s/step - loss: 1.0089 - rpn_class_loss: 0.0763 - rpn_bbox_loss: 0.2181 - mrcnn_class_loss: 0.1341 - mrcnn_bbox_loss: 0.2119 - mrcnn_mask_loss: 0.3685 - val_loss: 2.4738 - val_rpn_class_loss: 0.3587 - val_rpn_bbox_loss: 0.6741 - val_mrcnn_class_loss: 0.3794 - val_mrcnn_bbox_loss: 0.5370 - val_mrcnn_mask_loss: 0.5246\n",
            "Epoch 39/50\n",
            "100/100 [==============================] - 282s 3s/step - loss: 0.9758 - rpn_class_loss: 0.0772 - rpn_bbox_loss: 0.2132 - mrcnn_class_loss: 0.1376 - mrcnn_bbox_loss: 0.1891 - mrcnn_mask_loss: 0.3587 - val_loss: 2.4539 - val_rpn_class_loss: 0.3602 - val_rpn_bbox_loss: 0.6440 - val_mrcnn_class_loss: 0.3996 - val_mrcnn_bbox_loss: 0.5417 - val_mrcnn_mask_loss: 0.5084\n",
            "Epoch 40/50\n",
            "100/100 [==============================] - 281s 3s/step - loss: 1.0127 - rpn_class_loss: 0.0794 - rpn_bbox_loss: 0.2205 - mrcnn_class_loss: 0.1352 - mrcnn_bbox_loss: 0.2112 - mrcnn_mask_loss: 0.3663 - val_loss: 2.2069 - val_rpn_class_loss: 0.2218 - val_rpn_bbox_loss: 0.6267 - val_mrcnn_class_loss: 0.3054 - val_mrcnn_bbox_loss: 0.5721 - val_mrcnn_mask_loss: 0.4810\n",
            "Epoch 41/50\n",
            "100/100 [==============================] - 279s 3s/step - loss: 0.9945 - rpn_class_loss: 0.0810 - rpn_bbox_loss: 0.2168 - mrcnn_class_loss: 0.1384 - mrcnn_bbox_loss: 0.2022 - mrcnn_mask_loss: 0.3561 - val_loss: 2.3492 - val_rpn_class_loss: 0.3375 - val_rpn_bbox_loss: 0.6878 - val_mrcnn_class_loss: 0.3248 - val_mrcnn_bbox_loss: 0.4868 - val_mrcnn_mask_loss: 0.5123\n",
            "Epoch 42/50\n",
            "100/100 [==============================] - 279s 3s/step - loss: 0.9381 - rpn_class_loss: 0.0707 - rpn_bbox_loss: 0.1882 - mrcnn_class_loss: 0.1327 - mrcnn_bbox_loss: 0.1878 - mrcnn_mask_loss: 0.3587 - val_loss: 2.6986 - val_rpn_class_loss: 0.5505 - val_rpn_bbox_loss: 0.6894 - val_mrcnn_class_loss: 0.3880 - val_mrcnn_bbox_loss: 0.5496 - val_mrcnn_mask_loss: 0.5210\n",
            "Epoch 43/50\n",
            "100/100 [==============================] - 277s 3s/step - loss: 0.9732 - rpn_class_loss: 0.0723 - rpn_bbox_loss: 0.1954 - mrcnn_class_loss: 0.1461 - mrcnn_bbox_loss: 0.1959 - mrcnn_mask_loss: 0.3634 - val_loss: 2.6868 - val_rpn_class_loss: 0.4576 - val_rpn_bbox_loss: 0.6817 - val_mrcnn_class_loss: 0.4734 - val_mrcnn_bbox_loss: 0.5316 - val_mrcnn_mask_loss: 0.5425\n",
            "Epoch 44/50\n",
            "100/100 [==============================] - 283s 3s/step - loss: 0.9687 - rpn_class_loss: 0.0819 - rpn_bbox_loss: 0.2021 - mrcnn_class_loss: 0.1397 - mrcnn_bbox_loss: 0.1926 - mrcnn_mask_loss: 0.3525 - val_loss: 2.3796 - val_rpn_class_loss: 0.3854 - val_rpn_bbox_loss: 0.6274 - val_mrcnn_class_loss: 0.3368 - val_mrcnn_bbox_loss: 0.5095 - val_mrcnn_mask_loss: 0.5204\n",
            "Epoch 45/50\n",
            "100/100 [==============================] - 274s 3s/step - loss: 0.9524 - rpn_class_loss: 0.0747 - rpn_bbox_loss: 0.2075 - mrcnn_class_loss: 0.1358 - mrcnn_bbox_loss: 0.1874 - mrcnn_mask_loss: 0.3470 - val_loss: 2.2486 - val_rpn_class_loss: 0.2892 - val_rpn_bbox_loss: 0.6408 - val_mrcnn_class_loss: 0.3251 - val_mrcnn_bbox_loss: 0.5096 - val_mrcnn_mask_loss: 0.4840\n",
            "Epoch 46/50\n",
            "100/100 [==============================] - 285s 3s/step - loss: 0.9503 - rpn_class_loss: 0.0754 - rpn_bbox_loss: 0.2003 - mrcnn_class_loss: 0.1303 - mrcnn_bbox_loss: 0.1930 - mrcnn_mask_loss: 0.3512 - val_loss: 2.2471 - val_rpn_class_loss: 0.2164 - val_rpn_bbox_loss: 0.6660 - val_mrcnn_class_loss: 0.2809 - val_mrcnn_bbox_loss: 0.5750 - val_mrcnn_mask_loss: 0.5088\n",
            "Epoch 47/50\n",
            "100/100 [==============================] - 287s 3s/step - loss: 0.8748 - rpn_class_loss: 0.0731 - rpn_bbox_loss: 0.1685 - mrcnn_class_loss: 0.1214 - mrcnn_bbox_loss: 0.1713 - mrcnn_mask_loss: 0.3406 - val_loss: 2.3994 - val_rpn_class_loss: 0.3130 - val_rpn_bbox_loss: 0.6597 - val_mrcnn_class_loss: 0.3341 - val_mrcnn_bbox_loss: 0.5731 - val_mrcnn_mask_loss: 0.5196\n",
            "Epoch 48/50\n",
            "100/100 [==============================] - 278s 3s/step - loss: 0.8432 - rpn_class_loss: 0.0633 - rpn_bbox_loss: 0.1638 - mrcnn_class_loss: 0.1170 - mrcnn_bbox_loss: 0.1614 - mrcnn_mask_loss: 0.3377 - val_loss: 2.3790 - val_rpn_class_loss: 0.2952 - val_rpn_bbox_loss: 0.6082 - val_mrcnn_class_loss: 0.3948 - val_mrcnn_bbox_loss: 0.5613 - val_mrcnn_mask_loss: 0.5195\n",
            "Epoch 49/50\n",
            "100/100 [==============================] - 276s 3s/step - loss: 0.8568 - rpn_class_loss: 0.0623 - rpn_bbox_loss: 0.1611 - mrcnn_class_loss: 0.1200 - mrcnn_bbox_loss: 0.1658 - mrcnn_mask_loss: 0.3476 - val_loss: 2.4510 - val_rpn_class_loss: 0.3652 - val_rpn_bbox_loss: 0.6027 - val_mrcnn_class_loss: 0.4824 - val_mrcnn_bbox_loss: 0.5048 - val_mrcnn_mask_loss: 0.4959\n",
            "Epoch 50/50\n",
            "100/100 [==============================] - 277s 3s/step - loss: 0.8768 - rpn_class_loss: 0.0714 - rpn_bbox_loss: 0.1800 - mrcnn_class_loss: 0.1255 - mrcnn_bbox_loss: 0.1672 - mrcnn_mask_loss: 0.3327 - val_loss: 2.6178 - val_rpn_class_loss: 0.3583 - val_rpn_bbox_loss: 0.7171 - val_mrcnn_class_loss: 0.4614 - val_mrcnn_bbox_loss: 0.5735 - val_mrcnn_mask_loss: 0.5075\n"
          ],
          "name": "stdout"
        }
      ]
    },
    {
      "cell_type": "markdown",
      "metadata": {
        "id": "I-mJBmmwK30W",
        "colab_type": "text"
      },
      "source": [
        ""
      ]
    },
    {
      "cell_type": "code",
      "metadata": {
        "id": "eraRlzgPmmIZ",
        "colab_type": "code",
        "outputId": "fa826bb3-81b6-47a5-872f-2e404dfb375f",
        "colab": {
          "base_uri": "https://localhost:8080/",
          "height": 35
        }
      },
      "source": [
        "# select trained model \n",
        "dir_names = next(os.walk(model.model_dir))[1]\n",
        "key = config.NAME.lower()\n",
        "dir_names = filter(lambda f: f.startswith(key), dir_names)\n",
        "dir_names = sorted(dir_names)\n",
        "\n",
        "if not dir_names:\n",
        "    import errno\n",
        "    raise FileNotFoundError(\n",
        "        errno.ENOENT,\n",
        "        \"Could not find model directory under {}\".format(self.model_dir))\n",
        "    \n",
        "fps = []\n",
        "# Pick last directory\n",
        "for d in dir_names: \n",
        "    dir_name = os.path.join(model.model_dir, d)\n",
        "    # Find the last checkpoint\n",
        "    checkpoints = next(os.walk(dir_name))[2]\n",
        "    checkpoints = filter(lambda f: f.startswith(\"mask_rcnn\"), checkpoints)\n",
        "    checkpoints = sorted(checkpoints)\n",
        "    if not checkpoints:\n",
        "        print('No weight files in {}'.format(dir_name))\n",
        "    else: \n",
        "      \n",
        "      checkpoint = os.path.join(dir_name, checkpoints[-1])\n",
        "      fps.append(checkpoint)\n",
        "\n",
        "model_path = sorted(fps)[-1]\n",
        "print('Found model {}'.format(model_path))"
      ],
      "execution_count": 0,
      "outputs": [
        {
          "output_type": "stream",
          "text": [
            "Found model /content/drive/My Drive/RSNA/logs/pneumonia20190616T1215/mask_rcnn_pneumonia_0050.h5\n"
          ],
          "name": "stdout"
        }
      ]
    },
    {
      "cell_type": "code",
      "metadata": {
        "id": "TgpT9AzC2Bgz",
        "colab_type": "code",
        "outputId": "789a5949-566c-4439-8490-686b24229c33",
        "colab": {
          "base_uri": "https://localhost:8080/",
          "height": 165
        }
      },
      "source": [
        "class InferenceConfig(DetectorConfig):\n",
        "    GPU_COUNT = 1\n",
        "    IMAGES_PER_GPU = 1\n",
        "\n",
        "inference_config = InferenceConfig()\n",
        "\n",
        "# Recreate the model in inference mode\n",
        "model = modellib.MaskRCNN(mode='inference', \n",
        "                          config=inference_config,\n",
        "                          model_dir=MODEL_DIR)\n",
        "\n",
        "# Load trained weights (fill in path to trained weights here)\n",
        "assert model_path != \"\", \"Provide path to trained weights\"\n",
        "print(\"Loading weights from \", model_path)\n",
        "model.load_weights(model_path, by_name=True)"
      ],
      "execution_count": 0,
      "outputs": [
        {
          "output_type": "stream",
          "text": [
            "W0616 16:53:59.115591 139990065215360 deprecation_wrapper.py:119] From /content/drive/My Drive/RSNA/Mask_RCNN/mrcnn/model.py:720: The name tf.sets.set_intersection is deprecated. Please use tf.sets.intersection instead.\n",
            "\n",
            "W0616 16:53:59.215141 139990065215360 deprecation.py:323] From /content/drive/My Drive/RSNA/Mask_RCNN/mrcnn/model.py:772: to_float (from tensorflow.python.ops.math_ops) is deprecated and will be removed in a future version.\n",
            "Instructions for updating:\n",
            "Use `tf.cast` instead.\n"
          ],
          "name": "stderr"
        },
        {
          "output_type": "stream",
          "text": [
            "Loading weights from  /content/drive/My Drive/RSNA/logs/pneumonia20190616T1215/mask_rcnn_pneumonia_0050.h5\n",
            "Re-starting from epoch 50\n"
          ],
          "name": "stdout"
        }
      ]
    },
    {
      "cell_type": "code",
      "metadata": {
        "id": "9mTBig7D2BjU",
        "colab_type": "code",
        "colab": {}
      },
      "source": [
        "# set color for class\n",
        "def get_colors_for_class_ids(class_ids):\n",
        "    colors = []\n",
        "    for class_id in class_ids:\n",
        "        if class_id == 1:\n",
        "            colors.append((.941, .204, .204))\n",
        "    return colors"
      ],
      "execution_count": 0,
      "outputs": []
    },
    {
      "cell_type": "markdown",
      "metadata": {
        "id": "A8EiL2LOiCr_",
        "colab_type": "text"
      },
      "source": [
        "### How does the predicted box compared to the expected value? Let's use the validation dataset to check. \n",
        "\n",
        "Note that we trained only one epoch for **demonstration purposes ONLY**. You might be able to improve performance running more epochs. "
      ]
    },
    {
      "cell_type": "code",
      "metadata": {
        "id": "irheTbrW2Bl0",
        "colab_type": "code",
        "outputId": "fbdb61bc-45ce-44a5-d507-0921a8925b9e",
        "colab": {
          "base_uri": "https://localhost:8080/",
          "height": 1338
        }
      },
      "source": [
        "# Show few example of ground truth vs. predictions on the validation dataset \n",
        "dataset = dataset_val\n",
        "fig = plt.figure(figsize=(10, 30))\n",
        "\n",
        "for i in range(4):\n",
        "\n",
        "    image_id = random.choice(dataset.image_ids)\n",
        "    \n",
        "    original_image, image_meta, gt_class_id, gt_bbox, gt_mask =\\\n",
        "        modellib.load_image_gt(dataset_val, inference_config, \n",
        "                               image_id, use_mini_mask=False)\n",
        "        \n",
        "    plt.subplot(6, 2, 2*i + 1)\n",
        "    visualize.display_instances(original_image, gt_bbox, gt_mask, gt_class_id, \n",
        "                                dataset.class_names,\n",
        "                                colors=get_colors_for_class_ids(gt_class_id), ax=fig.axes[-1])\n",
        "    \n",
        "    plt.subplot(6, 2, 2*i + 2)\n",
        "    results = model.detect([original_image]) #, verbose=1)\n",
        "    r = results[0]\n",
        "    visualize.display_instances(original_image, r['rois'], r['masks'], r['class_ids'], \n",
        "                                dataset.class_names, r['scores'], \n",
        "                                colors=get_colors_for_class_ids(r['class_ids']), ax=fig.axes[-1])"
      ],
      "execution_count": 0,
      "outputs": [
        {
          "output_type": "stream",
          "text": [
            "\n",
            "*** No instances to display *** \n",
            "\n",
            "\n",
            "*** No instances to display *** \n",
            "\n",
            "\n",
            "*** No instances to display *** \n",
            "\n",
            "\n",
            "*** No instances to display *** \n",
            "\n"
          ],
          "name": "stdout"
        },
        {
          "output_type": "display_data",
          "data": {
            "image/png": "[encoded data removed]",
            "text/plain": [
              "<Figure size 720x2160 with 8 Axes>"
            ]
          },
          "metadata": {
            "tags": []
          }
        }
      ]
    },
    {
      "cell_type": "code",
      "metadata": {
        "id": "qRWBVJKYNdWM",
        "colab_type": "code",
        "colab": {}
      },
      "source": [
        "# Get filenames of test dataset DICOM images\n",
        "test_image_fps = get_dicom_fps(test_dicom_dir)"
      ],
      "execution_count": 0,
      "outputs": []
    },
    {
      "cell_type": "markdown",
      "metadata": {
        "id": "WcV1cL_aiSc4",
        "colab_type": "text"
      },
      "source": [
        "### Final steps - Create the submission file"
      ]
    },
    {
      "cell_type": "code",
      "metadata": {
        "id": "C6UWVrbM2Bob",
        "colab_type": "code",
        "colab": {}
      },
      "source": [
        "# Make predictions on test images, write out sample submission \n",
        "def predict(image_fps, filepath='sample_submission.csv', min_conf=0.98): \n",
        "    \n",
        "    # assume square image\n",
        "    \n",
        "    with open(filepath, 'w') as file:\n",
        "      for image_id in tqdm(image_fps): \n",
        "        ds = pydicom.read_file(image_id)\n",
        "        image = ds.pixel_array\n",
        "          \n",
        "        # If grayscale. Convert to RGB for consistency.\n",
        "        if len(image.shape) != 3 or image.shape[2] != 3:\n",
        "            image = np.stack((image,) * 3, -1) \n",
        "            \n",
        "        patient_id = os.path.splitext(os.path.basename(image_id))[0]\n",
        "\n",
        "        results = model.detect([image])\n",
        "        r = results[0]\n",
        "\n",
        "        out_str = \"\"\n",
        "        out_str += patient_id \n",
        "        assert( len(r['rois']) == len(r['class_ids']) == len(r['scores']) )\n",
        "        if len(r['rois']) == 0: \n",
        "            pass\n",
        "        else: \n",
        "            num_instances = len(r['rois'])\n",
        "            out_str += \",\"\n",
        "            for i in range(num_instances): \n",
        "                if r['scores'][i] > min_conf: \n",
        "                    out_str += ' '\n",
        "                    out_str += str(round(r['scores'][i], 2))\n",
        "                    out_str += ' '\n",
        "\n",
        "                    # x1, y1, width, height \n",
        "                    x1 = r['rois'][i][1]\n",
        "                    y1 = r['rois'][i][0]\n",
        "                    width = r['rois'][i][3] - x1 \n",
        "                    height = r['rois'][i][2] - y1 \n",
        "                    bboxes_str = \"{} {} {} {}\".format(x1, y1, \\\n",
        "                                                      width, height)    \n",
        "                    out_str += bboxes_str\n",
        "\n",
        "        file.write(out_str+\"\\n\")"
      ],
      "execution_count": 0,
      "outputs": []
    },
    {
      "cell_type": "code",
      "metadata": {
        "id": "C5cBpNka2Bsv",
        "colab_type": "code",
        "outputId": "9e75d269-e862-48a3-df9e-8b466548bd74",
        "colab": {
          "base_uri": "https://localhost:8080/",
          "height": 35
        }
      },
      "source": [
        "# predict only the first 50 entries\n",
        "sample_submission_fp = 'sample_submission.csv'\n",
        "predict(test_image_fps[:50], filepath=sample_submission_fp)"
      ],
      "execution_count": 0,
      "outputs": [
        {
          "output_type": "stream",
          "text": [
            "100%|██████████| 50/50 [00:19<00:00,  2.57it/s]\n"
          ],
          "name": "stderr"
        }
      ]
    },
    {
      "cell_type": "code",
      "metadata": {
        "id": "_BjPE_Ee9rbA",
        "colab_type": "code",
        "outputId": "5c09defd-20c8-4c44-f5c0-93f52c1b55cb",
        "colab": {
          "base_uri": "https://localhost:8080/",
          "height": 1548
        }
      },
      "source": [
        "output = pd.read_csv(sample_submission_fp, names=['id', 'pred_string'])\n",
        "output.head(50)"
      ],
      "execution_count": 0,
      "outputs": [
        {
          "output_type": "execute_result",
          "data": {
            "text/html": [
              "<div>\n",
              "<style scoped>\n",
              "    .dataframe tbody tr th:only-of-type {\n",
              "        vertical-align: middle;\n",
              "    }\n",
              "\n",
              "    .dataframe tbody tr th {\n",
              "        vertical-align: top;\n",
              "    }\n",
              "\n",
              "    .dataframe thead th {\n",
              "        text-align: right;\n",
              "    }\n",
              "</style>\n",
              "<table border=\"1\" class=\"dataframe\">\n",
              "  <thead>\n",
              "    <tr style=\"text-align: right;\">\n",
              "      <th></th>\n",
              "      <th>id</th>\n",
              "      <th>pred_string</th>\n",
              "    </tr>\n",
              "  </thead>\n",
              "  <tbody>\n",
              "    <tr>\n",
              "      <th>0</th>\n",
              "      <td>2e99fed9-1d35-4c12-8f24-7d2be66e2a38</td>\n",
              "      <td>NaN</td>\n",
              "    </tr>\n",
              "    <tr>\n",
              "      <th>1</th>\n",
              "      <td>24e16db4-65a9-4e5e-81d1-701c8fae06ba</td>\n",
              "      <td>NaN</td>\n",
              "    </tr>\n",
              "    <tr>\n",
              "      <th>2</th>\n",
              "      <td>1fd519c1-7a2f-47dc-8904-a5174fe7d2e6</td>\n",
              "      <td>NaN</td>\n",
              "    </tr>\n",
              "    <tr>\n",
              "      <th>3</th>\n",
              "      <td>1ee25bbb-a699-488d-90ee-3e09c16ea33f</td>\n",
              "      <td>NaN</td>\n",
              "    </tr>\n",
              "    <tr>\n",
              "      <th>4</th>\n",
              "      <td>c0562697-eddc-4aa8-8635-4010fb5ef989</td>\n",
              "      <td>NaN</td>\n",
              "    </tr>\n",
              "    <tr>\n",
              "      <th>5</th>\n",
              "      <td>0319220c-e0ec-4262-bafd-c5d650ff5e69</td>\n",
              "      <td>NaN</td>\n",
              "    </tr>\n",
              "    <tr>\n",
              "      <th>6</th>\n",
              "      <td>303c255f-fdf9-414e-8463-4b799f5839c4</td>\n",
              "      <td>NaN</td>\n",
              "    </tr>\n",
              "    <tr>\n",
              "      <th>7</th>\n",
              "      <td>00271e8e-aea8-4f0a-8a34-3025831f1079</td>\n",
              "      <td>1.0 573 598 206 241 0.99 177 526 195 262</td>\n",
              "    </tr>\n",
              "    <tr>\n",
              "      <th>8</th>\n",
              "      <td>0f418437-6440-4145-a7f7-b254a91f5240</td>\n",
              "      <td>NaN</td>\n",
              "    </tr>\n",
              "    <tr>\n",
              "      <th>9</th>\n",
              "      <td>02d4d116-415d-49cb-91bc-98b97c973ad3</td>\n",
              "      <td>1.0 533 376 247 374 0.98 134 452 217 321</td>\n",
              "    </tr>\n",
              "    <tr>\n",
              "      <th>10</th>\n",
              "      <td>0431b96a-9e84-4d8b-8e9c-b28c91e10f4a</td>\n",
              "      <td>0.99 659 576 206 204 0.98 190 469 178 219</td>\n",
              "    </tr>\n",
              "    <tr>\n",
              "      <th>11</th>\n",
              "      <td>c0ec3097-a14b-4ee2-9547-c0d2532f2e62</td>\n",
              "      <td>1.0 621 513 187 170</td>\n",
              "    </tr>\n",
              "    <tr>\n",
              "      <th>12</th>\n",
              "      <td>1392fd6b-b17b-4dba-b70a-c9543f9c8105</td>\n",
              "      <td>NaN</td>\n",
              "    </tr>\n",
              "    <tr>\n",
              "      <th>13</th>\n",
              "      <td>c00d549b-7fef-49c1-a400-39e4724496f4</td>\n",
              "      <td>NaN</td>\n",
              "    </tr>\n",
              "    <tr>\n",
              "      <th>14</th>\n",
              "      <td>0e9709fd-a769-4d60-8a06-29a41c7c8297</td>\n",
              "      <td>1.0 586 483 223 316</td>\n",
              "    </tr>\n",
              "    <tr>\n",
              "      <th>15</th>\n",
              "      <td>267147a0-2320-4a54-85e8-a3950f0672b8</td>\n",
              "      <td>0.99 227 335 180 384</td>\n",
              "    </tr>\n",
              "    <tr>\n",
              "      <th>16</th>\n",
              "      <td>23649ef2-dde7-4019-a356-75c7f064dbc5</td>\n",
              "      <td>NaN</td>\n",
              "    </tr>\n",
              "    <tr>\n",
              "      <th>17</th>\n",
              "      <td>2a0ad45a-78c5-4c3b-8190-677ad836460f</td>\n",
              "      <td>NaN</td>\n",
              "    </tr>\n",
              "    <tr>\n",
              "      <th>18</th>\n",
              "      <td>13a59fcc-de55-4502-b27d-82d3204d8a4c</td>\n",
              "      <td>NaN</td>\n",
              "    </tr>\n",
              "    <tr>\n",
              "      <th>19</th>\n",
              "      <td>2cb404ed-bb53-42fd-8d53-327073e317eb</td>\n",
              "      <td>NaN</td>\n",
              "    </tr>\n",
              "    <tr>\n",
              "      <th>20</th>\n",
              "      <td>0d6243f2-28a3-4b89-b461-de17dd77f1ca</td>\n",
              "      <td>NaN</td>\n",
              "    </tr>\n",
              "    <tr>\n",
              "      <th>21</th>\n",
              "      <td>263db843-751f-4cd1-b392-548fe40d2636</td>\n",
              "      <td>0.99 635 344 235 429 0.98 252 279 189 470</td>\n",
              "    </tr>\n",
              "    <tr>\n",
              "      <th>22</th>\n",
              "      <td>21111847-5b1d-416c-8561-5863463d214b</td>\n",
              "      <td>NaN</td>\n",
              "    </tr>\n",
              "    <tr>\n",
              "      <th>23</th>\n",
              "      <td>116d8744-60c9-4371-aad3-39c2375ae1f5</td>\n",
              "      <td>NaN</td>\n",
              "    </tr>\n",
              "    <tr>\n",
              "      <th>24</th>\n",
              "      <td>1513dc09-fc73-485f-8f71-4f2c69e15421</td>\n",
              "      <td>0.98 570 429 216 435</td>\n",
              "    </tr>\n",
              "    <tr>\n",
              "      <th>25</th>\n",
              "      <td>2357ad7f-fe2b-460d-a7db-8d58c027d4c4</td>\n",
              "      <td>0.98 607 471 210 275</td>\n",
              "    </tr>\n",
              "    <tr>\n",
              "      <th>26</th>\n",
              "      <td>02b7bd21-0ca3-48b0-b98c-dd85a7ad1c0f</td>\n",
              "      <td>NaN</td>\n",
              "    </tr>\n",
              "    <tr>\n",
              "      <th>27</th>\n",
              "      <td>2e89f38d-5f51-46ba-b887-c17a6f1e3741</td>\n",
              "      <td>NaN</td>\n",
              "    </tr>\n",
              "    <tr>\n",
              "      <th>28</th>\n",
              "      <td>2e00f7b7-ea1d-4da8-baa1-ffcbcc60be8d</td>\n",
              "      <td>NaN</td>\n",
              "    </tr>\n",
              "    <tr>\n",
              "      <th>29</th>\n",
              "      <td>255a63e8-8a5b-4832-a742-5fbb8ef7d2f4</td>\n",
              "      <td>NaN</td>\n",
              "    </tr>\n",
              "    <tr>\n",
              "      <th>30</th>\n",
              "      <td>297ef567-0d06-473e-831e-6fe0698a2d66</td>\n",
              "      <td>NaN</td>\n",
              "    </tr>\n",
              "    <tr>\n",
              "      <th>31</th>\n",
              "      <td>2c4a669c-c52b-40ab-a687-feda3e7d603b</td>\n",
              "      <td>NaN</td>\n",
              "    </tr>\n",
              "    <tr>\n",
              "      <th>32</th>\n",
              "      <td>0dde0556-d227-4e56-a703-7791fb290b64</td>\n",
              "      <td>NaN</td>\n",
              "    </tr>\n",
              "    <tr>\n",
              "      <th>33</th>\n",
              "      <td>23120326-96df-49d6-95e8-c9b0df966965</td>\n",
              "      <td>0.99 710 522 218 241</td>\n",
              "    </tr>\n",
              "    <tr>\n",
              "      <th>34</th>\n",
              "      <td>271dac12-ff4f-40a2-8d25-f89daba97f8b</td>\n",
              "      <td>NaN</td>\n",
              "    </tr>\n",
              "    <tr>\n",
              "      <th>35</th>\n",
              "      <td>1a0f4b00-5083-4a0c-a1e2-89e27468c9db</td>\n",
              "      <td>NaN</td>\n",
              "    </tr>\n",
              "    <tr>\n",
              "      <th>36</th>\n",
              "      <td>2f4562a7-ec65-4a86-8cc4-2fd276a62332</td>\n",
              "      <td>NaN</td>\n",
              "    </tr>\n",
              "    <tr>\n",
              "      <th>37</th>\n",
              "      <td>1f14fadb-ed1c-4b2e-88e7-9dd525c53542</td>\n",
              "      <td>NaN</td>\n",
              "    </tr>\n",
              "    <tr>\n",
              "      <th>38</th>\n",
              "      <td>2745b4cf-67c8-4f50-b4d5-9b44c073ea61</td>\n",
              "      <td>1.0 639 256 227 380</td>\n",
              "    </tr>\n",
              "    <tr>\n",
              "      <th>39</th>\n",
              "      <td>1e367b6c-f5e6-43dc-8992-d97554c7f2fb</td>\n",
              "      <td>NaN</td>\n",
              "    </tr>\n",
              "    <tr>\n",
              "      <th>40</th>\n",
              "      <td>12139f3f-8b65-4307-937a-bbb105408e82</td>\n",
              "      <td>NaN</td>\n",
              "    </tr>\n",
              "    <tr>\n",
              "      <th>41</th>\n",
              "      <td>c03b0ef6-cea0-48c9-94ab-cd028740b31f</td>\n",
              "      <td>1.0 122 401 277 328</td>\n",
              "    </tr>\n",
              "    <tr>\n",
              "      <th>42</th>\n",
              "      <td>19d67232-2d92-4486-b9bb-f8355f5d2a74</td>\n",
              "      <td>NaN</td>\n",
              "    </tr>\n",
              "    <tr>\n",
              "      <th>43</th>\n",
              "      <td>1b039597-aeb2-4409-b39d-df8729c46c56</td>\n",
              "      <td>0.99 272 317 182 356 0.99 645 295 220 547</td>\n",
              "    </tr>\n",
              "    <tr>\n",
              "      <th>44</th>\n",
              "      <td>10b10a7f-c03d-4b05-991e-ad12c4035e6b</td>\n",
              "      <td>0.99 235 500 145 156</td>\n",
              "    </tr>\n",
              "    <tr>\n",
              "      <th>45</th>\n",
              "      <td>12c380a9-97e9-475d-9e67-49e416fd6c00</td>\n",
              "      <td>0.98 278 249 293 539</td>\n",
              "    </tr>\n",
              "    <tr>\n",
              "      <th>46</th>\n",
              "      <td>0f047f94-8ff8-4a5a-93f7-2d0e3288b972</td>\n",
              "      <td>NaN</td>\n",
              "    </tr>\n",
              "    <tr>\n",
              "      <th>47</th>\n",
              "      <td>2c0a9525-08a8-4bb5-b26e-5b5ee15fa2eb</td>\n",
              "      <td>0.98 762 568 176 213</td>\n",
              "    </tr>\n",
              "    <tr>\n",
              "      <th>48</th>\n",
              "      <td>106bed89-d6a6-44b6-b871-24c2289b1546</td>\n",
              "      <td>0.99 633 550 184 217</td>\n",
              "    </tr>\n",
              "    <tr>\n",
              "      <th>49</th>\n",
              "      <td>11b01d48-9f9f-4c4f-b6e3-eb2df49e84b5</td>\n",
              "      <td>0.99 190 469 181 148</td>\n",
              "    </tr>\n",
              "  </tbody>\n",
              "</table>\n",
              "</div>"
            ],
            "text/plain": [
              "                                      id                                 pred_string\n",
              "0   2e99fed9-1d35-4c12-8f24-7d2be66e2a38                                         NaN\n",
              "1   24e16db4-65a9-4e5e-81d1-701c8fae06ba                                         NaN\n",
              "2   1fd519c1-7a2f-47dc-8904-a5174fe7d2e6                                         NaN\n",
              "3   1ee25bbb-a699-488d-90ee-3e09c16ea33f                                         NaN\n",
              "4   c0562697-eddc-4aa8-8635-4010fb5ef989                                         NaN\n",
              "5   0319220c-e0ec-4262-bafd-c5d650ff5e69                                         NaN\n",
              "6   303c255f-fdf9-414e-8463-4b799f5839c4                                         NaN\n",
              "7   00271e8e-aea8-4f0a-8a34-3025831f1079    1.0 573 598 206 241 0.99 177 526 195 262\n",
              "8   0f418437-6440-4145-a7f7-b254a91f5240                                         NaN\n",
              "9   02d4d116-415d-49cb-91bc-98b97c973ad3    1.0 533 376 247 374 0.98 134 452 217 321\n",
              "10  0431b96a-9e84-4d8b-8e9c-b28c91e10f4a   0.99 659 576 206 204 0.98 190 469 178 219\n",
              "11  c0ec3097-a14b-4ee2-9547-c0d2532f2e62                         1.0 621 513 187 170\n",
              "12  1392fd6b-b17b-4dba-b70a-c9543f9c8105                                         NaN\n",
              "13  c00d549b-7fef-49c1-a400-39e4724496f4                                         NaN\n",
              "14  0e9709fd-a769-4d60-8a06-29a41c7c8297                         1.0 586 483 223 316\n",
              "15  267147a0-2320-4a54-85e8-a3950f0672b8                        0.99 227 335 180 384\n",
              "16  23649ef2-dde7-4019-a356-75c7f064dbc5                                         NaN\n",
              "17  2a0ad45a-78c5-4c3b-8190-677ad836460f                                         NaN\n",
              "18  13a59fcc-de55-4502-b27d-82d3204d8a4c                                         NaN\n",
              "19  2cb404ed-bb53-42fd-8d53-327073e317eb                                         NaN\n",
              "20  0d6243f2-28a3-4b89-b461-de17dd77f1ca                                         NaN\n",
              "21  263db843-751f-4cd1-b392-548fe40d2636   0.99 635 344 235 429 0.98 252 279 189 470\n",
              "22  21111847-5b1d-416c-8561-5863463d214b                                         NaN\n",
              "23  116d8744-60c9-4371-aad3-39c2375ae1f5                                         NaN\n",
              "24  1513dc09-fc73-485f-8f71-4f2c69e15421                        0.98 570 429 216 435\n",
              "25  2357ad7f-fe2b-460d-a7db-8d58c027d4c4                        0.98 607 471 210 275\n",
              "26  02b7bd21-0ca3-48b0-b98c-dd85a7ad1c0f                                         NaN\n",
              "27  2e89f38d-5f51-46ba-b887-c17a6f1e3741                                         NaN\n",
              "28  2e00f7b7-ea1d-4da8-baa1-ffcbcc60be8d                                         NaN\n",
              "29  255a63e8-8a5b-4832-a742-5fbb8ef7d2f4                                         NaN\n",
              "30  297ef567-0d06-473e-831e-6fe0698a2d66                                         NaN\n",
              "31  2c4a669c-c52b-40ab-a687-feda3e7d603b                                         NaN\n",
              "32  0dde0556-d227-4e56-a703-7791fb290b64                                         NaN\n",
              "33  23120326-96df-49d6-95e8-c9b0df966965                        0.99 710 522 218 241\n",
              "34  271dac12-ff4f-40a2-8d25-f89daba97f8b                                         NaN\n",
              "35  1a0f4b00-5083-4a0c-a1e2-89e27468c9db                                         NaN\n",
              "36  2f4562a7-ec65-4a86-8cc4-2fd276a62332                                         NaN\n",
              "37  1f14fadb-ed1c-4b2e-88e7-9dd525c53542                                         NaN\n",
              "38  2745b4cf-67c8-4f50-b4d5-9b44c073ea61                         1.0 639 256 227 380\n",
              "39  1e367b6c-f5e6-43dc-8992-d97554c7f2fb                                         NaN\n",
              "40  12139f3f-8b65-4307-937a-bbb105408e82                                         NaN\n",
              "41  c03b0ef6-cea0-48c9-94ab-cd028740b31f                         1.0 122 401 277 328\n",
              "42  19d67232-2d92-4486-b9bb-f8355f5d2a74                                         NaN\n",
              "43  1b039597-aeb2-4409-b39d-df8729c46c56   0.99 272 317 182 356 0.99 645 295 220 547\n",
              "44  10b10a7f-c03d-4b05-991e-ad12c4035e6b                        0.99 235 500 145 156\n",
              "45  12c380a9-97e9-475d-9e67-49e416fd6c00                        0.98 278 249 293 539\n",
              "46  0f047f94-8ff8-4a5a-93f7-2d0e3288b972                                         NaN\n",
              "47  2c0a9525-08a8-4bb5-b26e-5b5ee15fa2eb                        0.98 762 568 176 213\n",
              "48  106bed89-d6a6-44b6-b871-24c2289b1546                        0.99 633 550 184 217\n",
              "49  11b01d48-9f9f-4c4f-b6e3-eb2df49e84b5                        0.99 190 469 181 148"
            ]
          },
          "metadata": {
            "tags": []
          },
          "execution_count": 48
        }
      ]
    },
    {
      "cell_type": "code",
      "metadata": {
        "id": "38ALX4RXPA6t",
        "colab_type": "code",
        "colab": {}
      },
      "source": [
        ""
      ],
      "execution_count": 0,
      "outputs": []
    }
  ]
}