{
  "nbformat": 4,
  "nbformat_minor": 0,
  "metadata": {
    "colab": {
      "name": "RSNAYOLO.ipynb",
      "version": "0.3.2",
      "provenance": [],
      "collapsed_sections": []
    },
    "kernelspec": {
      "name": "python3",
      "display_name": "Python 3"
    },
    "accelerator": "GPU"
  },
  "cells": [
    {
      "cell_type": "code",
      "metadata": {
        "id": "EN0GTIBv7mHX",
        "colab_type": "code",
        "outputId": "b3d88f13-d052-4c8b-e974-bc7a8b6642ae",
        "colab": {
          "base_uri": "https://localhost:8080/",
          "height": 102
        }
      },
      "source": [
        "pip install pydicom"
      ],
      "execution_count": 0,
      "outputs": [
        {
          "output_type": "stream",
          "text": [
            "Collecting pydicom\n",
            "\u001b[?25l  Downloading https://files.pythonhosted.org/packages/43/88/d3c419ab2e753e7651510882a53219373e78fb55294cb247dffd3934ea55/pydicom-1.2.2-py2.py3-none-any.whl (7.0MB)\n",
            "\u001b[K     |████████████████████████████████| 7.0MB 4.1MB/s \n",
            "\u001b[?25hInstalling collected packages: pydicom\n",
            "Successfully installed pydicom-1.2.2\n"
          ],
          "name": "stdout"
        }
      ]
    },
    {
      "cell_type": "code",
      "metadata": {
        "id": "FacbA1IX8Jio",
        "colab_type": "code",
        "outputId": "ccf178a3-08b6-48b5-9968-c8cd7f4a8fd0",
        "colab": {
          "base_uri": "https://localhost:8080/",
          "height": 120
        }
      },
      "source": [
        "from google.colab import drive\n",
        "drive.mount('/content/drive')"
      ],
      "execution_count": 0,
      "outputs": [
        {
          "output_type": "stream",
          "text": [
            "Go to this URL in a browser: https://accounts.google.com/o/oauth2/auth?client_id=947318989803-6bn6qk8qdgf4n4g3pfee6491hc0brc4i.apps.googleusercontent.com&redirect_uri=urn%3Aietf%3Awg%3Aoauth%3A2.0%3Aoob&scope=email%20https%3A%2F%2Fwww.googleapis.com%2Fauth%2Fdocs.test%20https%3A%2F%2Fwww.googleapis.com%2Fauth%2Fdrive%20https%3A%2F%2Fwww.googleapis.com%2Fauth%2Fdrive.photos.readonly%20https%3A%2F%2Fwww.googleapis.com%2Fauth%2Fpeopleapi.readonly&response_type=code\n",
            "\n",
            "Enter your authorization code:\n",
            "··········\n",
            "Mounted at /content/drive\n"
          ],
          "name": "stdout"
        }
      ]
    },
    {
      "cell_type": "code",
      "metadata": {
        "id": "FY1b5YRB8Kdf",
        "colab_type": "code",
        "colab": {}
      },
      "source": [
        "import os\n",
        "os.chdir('/content/drive/My Drive/')"
      ],
      "execution_count": 0,
      "outputs": []
    },
    {
      "cell_type": "code",
      "metadata": {
        "id": "Yzib8rkV8Nsk",
        "colab_type": "code",
        "outputId": "a2746fd7-b08d-4a46-bd94-d66913ba530f",
        "colab": {
          "base_uri": "https://localhost:8080/",
          "height": 452
        }
      },
      "source": [
        "!ls"
      ],
      "execution_count": 0,
      "outputs": [
        {
          "output_type": "stream",
          "text": [
            " backup\n",
            " brucechou1983_CheXNet_Keras_0.3.0_weights.h5\n",
            " cfg\n",
            "'Colab Notebooks'\n",
            " darknet\n",
            " darknet1\n",
            " darknet53.conv.74\n",
            " darknet53.conv.74.1\n",
            " darknet_gpu\n",
            " darknet_weights\n",
            "'GCP Credits Request Link - RSNA.txt'\n",
            " images\n",
            " Lab4_smartTaxi_QlearningSARSA.ipynb\n",
            " Lab6_HandsOn_frozenLake8x8_QlearningSARSA.ipynb\n",
            " labels\n",
            " metadata\n",
            " Resnet101_rsna_pneumonia_detection_challenge_kaggle.ipynb\n",
            " SMS_NER\n",
            " stage_2_detailed_class_info.csv\n",
            " stage_2_sample_submission.csv\n",
            " stage_2_test_images\n",
            " stage_2_test_images.zip\n",
            " stage_2_train_images\n",
            " stage_2_train_images.zip\n",
            " stage_2_train_labels.csv\n",
            " train_log.txt\n"
          ],
          "name": "stdout"
        }
      ]
    },
    {
      "cell_type": "code",
      "metadata": {
        "id": "pTcEQiTiMrMa",
        "colab_type": "code",
        "colab": {}
      },
      "source": [
        "from zipfile import ZipFile\n",
        "with ZipFile('stage_2_train_images.zip', 'r') as z:\n",
        "  z.extractall('stage_2_train_images')"
      ],
      "execution_count": 0,
      "outputs": []
    },
    {
      "cell_type": "markdown",
      "metadata": {
        "id": "rijAAZdTaiEj",
        "colab_type": "text"
      },
      "source": [
        ""
      ]
    },
    {
      "cell_type": "code",
      "metadata": {
        "id": "SOHwPbUPwLUD",
        "colab_type": "code",
        "colab": {}
      },
      "source": [
        "from zipfile import ZipFile\n",
        "with ZipFile('stage_2_test_images.zip', 'r') as z:\n",
        "  z.extractall('stage_2_test_images')\n"
      ],
      "execution_count": 0,
      "outputs": []
    },
    {
      "cell_type": "code",
      "metadata": {
        "id": "G0g_WBKm7T8C",
        "colab_type": "code",
        "colab": {}
      },
      "source": [
        "import math\n",
        "import os\n",
        "import shutil\n",
        "import sys\n",
        "\n",
        "import numpy as np\n",
        "import pandas as pd\n",
        "import matplotlib.pyplot as plt\n",
        "import seaborn as sns\n",
        "import glob\n",
        "#import pydicom\n",
        "import cv2\n",
        "from sklearn.model_selection import train_test_split\n",
        "from tqdm import tqdm"
      ],
      "execution_count": 0,
      "outputs": []
    },
    {
      "cell_type": "code",
      "metadata": {
        "id": "K6WJthKT7cj-",
        "colab_type": "code",
        "colab": {}
      },
      "source": [
        "random_stat = 123\n",
        "np.random.seed(random_stat)"
      ],
      "execution_count": 0,
      "outputs": []
    },
    {
      "cell_type": "code",
      "metadata": {
        "id": "ABzyhooL7hUp",
        "colab_type": "code",
        "outputId": "d1feb4cd-03ea-48c2-9d99-51a117068f54",
        "colab": {
          "base_uri": "https://localhost:8080/",
          "height": 221
        }
      },
      "source": [
        "!git clone https://github.com/pjreddie/darknet.git\n",
        "\n",
        "# Build gpu version darknet\n",
        "!cd darknet && sed '1 s/^.*$/GPU=1/; 2 s/^.*$/CUDNN=1/' -i Makefile\n",
        "\n",
        "# -j <The # of cpu cores to use>. Chang 999 to fit your environment. Actually i used '-j 50'.\n",
        "!cd darknet && make -j 999 -s\n",
        "!cp darknet/darknet darknet_gpu"
      ],
      "execution_count": 0,
      "outputs": [
        {
          "output_type": "stream",
          "text": [
            "fatal: destination path 'darknet' already exists and is not an empty directory.\n",
            "\u001b[01m\u001b[K./src/gemm.c:\u001b[m\u001b[K In function ‘\u001b[01m\u001b[Ktime_gpu\u001b[m\u001b[K’:\n",
            "\u001b[01m\u001b[K./src/gemm.c:232:9:\u001b[m\u001b[K \u001b[01;35m\u001b[Kwarning: \u001b[m\u001b[K‘\u001b[01m\u001b[KcudaThreadSynchronize\u001b[m\u001b[K’ is deprecated [\u001b[01;35m\u001b[K-Wdeprecated-declarations\u001b[m\u001b[K]\n",
            "         \u001b[01;35m\u001b[KcudaThreadSynchronize\u001b[m\u001b[K();\n",
            "         \u001b[01;35m\u001b[K^~~~~~~~~~~~~~~~~~~~~\u001b[m\u001b[K\n",
            "In file included from \u001b[01m\u001b[K/usr/local/cuda/include/cuda_runtime.h:96:0\u001b[m\u001b[K,\n",
            "                 from \u001b[01m\u001b[Kinclude/darknet.h:11\u001b[m\u001b[K,\n",
            "                 from \u001b[01m\u001b[K./src/utils.h:5\u001b[m\u001b[K,\n",
            "                 from \u001b[01m\u001b[K./src/gemm.c:2\u001b[m\u001b[K:\n",
            "\u001b[01m\u001b[K/usr/local/cuda/include/cuda_runtime_api.h:947:57:\u001b[m\u001b[K \u001b[01;36m\u001b[Knote: \u001b[m\u001b[Kdeclared here\n",
            " extern __CUDA_DEPRECATED __host__ cudaError_t CUDARTAPI \u001b[01;36m\u001b[KcudaThreadSynchronize\u001b[m\u001b[K(void);\n",
            "                                                         \u001b[01;36m\u001b[K^~~~~~~~~~~~~~~~~~~~~\u001b[m\u001b[K\n"
          ],
          "name": "stdout"
        }
      ]
    },
    {
      "cell_type": "code",
      "metadata": {
        "id": "VBqBQe_C7x93",
        "colab_type": "code",
        "colab": {}
      },
      "source": [
        "DATA_DIR = \"/content/drive/My Drive/\"\n",
        "\n",
        "train_dcm_dir = os.path.join(DATA_DIR, \"stage_2_train_images\")\n",
        "test_dcm_dir = os.path.join(DATA_DIR, \"stage_2_test_images\")\n",
        "\n",
        "img_dir = os.path.join(os.getcwd(), \"images\")  # .jpg\n",
        "label_dir = os.path.join(os.getcwd(), \"labels\")  # .txt\n",
        "metadata_dir = os.path.join(os.getcwd(), \"metadata\") # .txt\n",
        "\n",
        "# YOLOv3 config file directory\n",
        "cfg_dir = os.path.join(os.getcwd(), \"cfg\")\n",
        "# YOLOv3 training checkpoints will be saved here\n",
        "backup_dir = os.path.join(os.getcwd(), \"backup\")\n",
        "\n",
        "for directory in [img_dir, label_dir, metadata_dir, cfg_dir, backup_dir]:\n",
        "    if os.path.isdir(directory):\n",
        "        continue\n",
        "    os.mkdir(directory)"
      ],
      "execution_count": 0,
      "outputs": []
    },
    {
      "cell_type": "code",
      "metadata": {
        "id": "aWfwp1HiK0tl",
        "colab_type": "code",
        "outputId": "5f7f85a5-bb00-453d-8e09-52b2a811374c",
        "colab": {
          "base_uri": "https://localhost:8080/",
          "height": 459
        }
      },
      "source": [
        "!ls -shtl"
      ],
      "execution_count": 0,
      "outputs": [
        {
          "output_type": "stream",
          "text": [
            "total 3.9G\n",
            "1.9M -rw-------  1 root root 1.9M Jul  6 09:30  darknet_gpu\n",
            "4.0K drwx------ 14 root root 4.0K Jul  6 09:30  darknet\n",
            "4.0K drwx------  2 root root 4.0K Jul  6 09:29  stage_2_train_images\n",
            " 28M -rw-------  1 root root  28M Jun 24 12:37  brucechou1983_CheXNet_Keras_0.3.0_weights.h5\n",
            "340K -rw-------  1 root root 340K Jun 23 07:36  Resnet101_rsna_pneumonia_detection_challenge_kaggle.ipynb\n",
            "488K -rw-------  1 root root 488K Jun 23 06:45  Lab4_smartTaxi_QlearningSARSA.ipynb\n",
            "7.0K -rw-------  1 root root 6.9K Jun 23 06:44  Lab6_HandsOn_frozenLake8x8_QlearningSARSA.ipynb\n",
            "   0 -rw-------  1 root root    0 Jun 22 07:52  train_log.txt\n",
            "1.9M -rw-------  1 root root 1.9M Jun 22 07:30  darknet1\n",
            "4.0K drwx------  2 root root 4.0K Jun 22 06:14  darknet_weights\n",
            "4.0K drwx------  2 root root 4.0K Jun 18 06:53  SMS_NER\n",
            "4.0K drwx------  2 root root 4.0K Jun 17 18:56  stage_2_test_images\n",
            "4.0K drwx------  2 root root 4.0K Jun 17 11:20  backup\n",
            "4.0K drwx------  2 root root 4.0K Jun 17 11:20  cfg\n",
            "4.0K drwx------  2 root root 4.0K Jun 17 11:20  images\n",
            "4.0K drwx------  2 root root 4.0K Jun 17 11:20  labels\n",
            "4.0K drwx------  2 root root 4.0K Jun 17 11:20  metadata\n",
            "378M -rw-------  1 root root 378M Jun 17 10:01  stage_2_test_images.zip\n",
            "3.3G -rw-------  1 root root 3.3G Jun 17 09:55  stage_2_train_images.zip\n",
            "1.5M -rw-------  1 root root 1.5M Jun 17 09:11  stage_2_train_labels.csv\n",
            " 512 -rw-------  1 root root   55 Jun 17 09:10 'GCP Credits Request Link - RSNA.txt'\n",
            "1.6M -rw-------  1 root root 1.6M Jun 17 09:10  stage_2_detailed_class_info.csv\n",
            "156K -rw-------  1 root root 156K Jun 17 09:10  stage_2_sample_submission.csv\n",
            "4.0K drwx------  2 root root 4.0K Jan 18 13:37 'Colab Notebooks'\n",
            "155M -rw-------  1 root root 155M Mar 25  2018  darknet53.conv.74\n"
          ],
          "name": "stdout"
        }
      ]
    },
    {
      "cell_type": "code",
      "metadata": {
        "id": "12JBrKBHLFIa",
        "colab_type": "code",
        "outputId": "210fe022-8a20-4f0c-8b40-cf07aee05464",
        "colab": {
          "base_uri": "https://localhost:8080/",
          "height": 196
        }
      },
      "source": [
        "annots = pd.read_csv(os.path.join(DATA_DIR, \"stage_2_train_labels.csv\"))\n",
        "annots.head()"
      ],
      "execution_count": 0,
      "outputs": [
        {
          "output_type": "execute_result",
          "data": {
            "text/html": [
              "<div>\n",
              "<style scoped>\n",
              "    .dataframe tbody tr th:only-of-type {\n",
              "        vertical-align: middle;\n",
              "    }\n",
              "\n",
              "    .dataframe tbody tr th {\n",
              "        vertical-align: top;\n",
              "    }\n",
              "\n",
              "    .dataframe thead th {\n",
              "        text-align: right;\n",
              "    }\n",
              "</style>\n",
              "<table border=\"1\" class=\"dataframe\">\n",
              "  <thead>\n",
              "    <tr style=\"text-align: right;\">\n",
              "      <th></th>\n",
              "      <th>patientId</th>\n",
              "      <th>x</th>\n",
              "      <th>y</th>\n",
              "      <th>width</th>\n",
              "      <th>height</th>\n",
              "      <th>Target</th>\n",
              "    </tr>\n",
              "  </thead>\n",
              "  <tbody>\n",
              "    <tr>\n",
              "      <th>0</th>\n",
              "      <td>0004cfab-14fd-4e49-80ba-63a80b6bddd6</td>\n",
              "      <td>NaN</td>\n",
              "      <td>NaN</td>\n",
              "      <td>NaN</td>\n",
              "      <td>NaN</td>\n",
              "      <td>0</td>\n",
              "    </tr>\n",
              "    <tr>\n",
              "      <th>1</th>\n",
              "      <td>00313ee0-9eaa-42f4-b0ab-c148ed3241cd</td>\n",
              "      <td>NaN</td>\n",
              "      <td>NaN</td>\n",
              "      <td>NaN</td>\n",
              "      <td>NaN</td>\n",
              "      <td>0</td>\n",
              "    </tr>\n",
              "    <tr>\n",
              "      <th>2</th>\n",
              "      <td>00322d4d-1c29-4943-afc9-b6754be640eb</td>\n",
              "      <td>NaN</td>\n",
              "      <td>NaN</td>\n",
              "      <td>NaN</td>\n",
              "      <td>NaN</td>\n",
              "      <td>0</td>\n",
              "    </tr>\n",
              "    <tr>\n",
              "      <th>3</th>\n",
              "      <td>003d8fa0-6bf1-40ed-b54c-ac657f8495c5</td>\n",
              "      <td>NaN</td>\n",
              "      <td>NaN</td>\n",
              "      <td>NaN</td>\n",
              "      <td>NaN</td>\n",
              "      <td>0</td>\n",
              "    </tr>\n",
              "    <tr>\n",
              "      <th>4</th>\n",
              "      <td>00436515-870c-4b36-a041-de91049b9ab4</td>\n",
              "      <td>264.0</td>\n",
              "      <td>152.0</td>\n",
              "      <td>213.0</td>\n",
              "      <td>379.0</td>\n",
              "      <td>1</td>\n",
              "    </tr>\n",
              "  </tbody>\n",
              "</table>\n",
              "</div>"
            ],
            "text/plain": [
              "                              patientId      x      y  width  height  Target\n",
              "0  0004cfab-14fd-4e49-80ba-63a80b6bddd6    NaN    NaN    NaN     NaN       0\n",
              "1  00313ee0-9eaa-42f4-b0ab-c148ed3241cd    NaN    NaN    NaN     NaN       0\n",
              "2  00322d4d-1c29-4943-afc9-b6754be640eb    NaN    NaN    NaN     NaN       0\n",
              "3  003d8fa0-6bf1-40ed-b54c-ac657f8495c5    NaN    NaN    NaN     NaN       0\n",
              "4  00436515-870c-4b36-a041-de91049b9ab4  264.0  152.0  213.0   379.0       1"
            ]
          },
          "metadata": {
            "tags": []
          },
          "execution_count": 7
        }
      ]
    },
    {
      "cell_type": "code",
      "metadata": {
        "id": "HwyadZ_NLUPd",
        "colab_type": "code",
        "colab": {}
      },
      "source": [
        "def save_img_from_dcm(dcm_dir, img_dir, patient_id):\n",
        "    img_fp = os.path.join(img_dir, \"{}.jpg\".format(patient_id))\n",
        "    if os.path.exists(img_fp):\n",
        "        return\n",
        "    dcm_fp = os.path.join(dcm_dir, \"{}.dcm\".format(patient_id))\n",
        "    img_1ch = pydicom.read_file(dcm_fp).pixel_array\n",
        "    img_3ch = np.stack([img_1ch]*3, -1)\n",
        "\n",
        "    img_fp = os.path.join(img_dir, \"{}.jpg\".format(patient_id))\n",
        "    cv2.imwrite(img_fp, img_3ch)\n",
        "    \n",
        "def save_label_from_dcm(label_dir, patient_id, row=None):\n",
        "    # rsna defualt image size\n",
        "    img_size = 1024\n",
        "    label_fp = os.path.join(label_dir, \"{}.txt\".format(patient_id))\n",
        "    \n",
        "    f = open(label_fp, \"a\")\n",
        "    if row is None:\n",
        "        f.close()\n",
        "        return\n",
        "\n",
        "    top_left_x = row[1]\n",
        "    top_left_y = row[2]\n",
        "    w = row[3]\n",
        "    h = row[4]\n",
        "    \n",
        "    # 'r' means relative. 'c' means center.\n",
        "    rx = top_left_x/img_size\n",
        "    ry = top_left_y/img_size\n",
        "    rw = w/img_size\n",
        "    rh = h/img_size\n",
        "    rcx = rx+rw/2\n",
        "    rcy = ry+rh/2\n",
        "    \n",
        "    line = \"{} {} {} {} {}\\n\".format(0, rcx, rcy, rw, rh)\n",
        "    \n",
        "    f.write(line)\n",
        "    f.close()\n",
        "        \n",
        "def save_yolov3_data_from_rsna(dcm_dir, img_dir, label_dir, annots):\n",
        "    for row in tqdm(annots.values):\n",
        "        patient_id = row[0]\n",
        "\n",
        "        img_fp = os.path.join(img_dir, \"{}.jpg\".format(patient_id))\n",
        "        if os.path.exists(img_fp):\n",
        "            save_label_from_dcm(label_dir, patient_id, row)\n",
        "            continue\n",
        "\n",
        "        target = row[5]\n",
        "        # Since kaggle kernel have samll volume (5GB ?), I didn't contain files with no bbox here.\n",
        "        if target == 0:\n",
        "            continue\n",
        "        save_label_from_dcm(label_dir, patient_id, row)\n",
        "        save_img_from_dcm(dcm_dir, img_dir, patient_id)"
      ],
      "execution_count": 0,
      "outputs": []
    },
    {
      "cell_type": "code",
      "metadata": {
        "id": "WlSCOnuELXOE",
        "colab_type": "code",
        "colab": {}
      },
      "source": [
        "save_yolov3_data_from_rsna(train_dcm_dir, img_dir, label_dir, annots)"
      ],
      "execution_count": 0,
      "outputs": []
    },
    {
      "cell_type": "code",
      "metadata": {
        "id": "C4Or0OCAwahy",
        "colab_type": "code",
        "outputId": "ce63f6df-540b-42ea-e61e-009070827028",
        "colab": {
          "base_uri": "https://localhost:8080/",
          "height": 50
        }
      },
      "source": [
        "!du -sh images labels"
      ],
      "execution_count": 0,
      "outputs": [
        {
          "output_type": "stream",
          "text": [
            "1.5G\timages\n",
            "3.0M\tlabels\n"
          ],
          "name": "stdout"
        }
      ]
    },
    {
      "cell_type": "code",
      "metadata": {
        "id": "L_Y9I4VowvIz",
        "colab_type": "code",
        "outputId": "cb9aa84e-b11c-4cdb-e761-ad87fc089811",
        "colab": {
          "base_uri": "https://localhost:8080/",
          "height": 436
        }
      },
      "source": [
        "ex_patient_id = annots[annots.Target == 1].patientId.values[0]\n",
        "ex_img_path = os.path.join(img_dir, \"{}.jpg\".format(ex_patient_id))\n",
        "ex_label_path = os.path.join(label_dir, \"{}.txt\".format(ex_patient_id))\n",
        "\n",
        "plt.imshow(cv2.imread(ex_img_path))\n",
        "\n",
        "img_size = 1014\n",
        "with open(ex_label_path, \"r\") as f:\n",
        "    for line in f:\n",
        "        print(line)\n",
        "        class_id, rcx, rcy, rw, rh = list(map(float, line.strip().split()))\n",
        "        x = (rcx-rw/2)*img_size\n",
        "        y = (rcy-rh/2)*img_size\n",
        "        w = rw*img_size\n",
        "        h = rh*img_size\n",
        "        plt.plot([x, x, x+w, x+w, x], [y, y+h, y+h, y, y])"
      ],
      "execution_count": 0,
      "outputs": [
        {
          "output_type": "stream",
          "text": [
            "0 0.36181640625 0.33349609375 0.2080078125 0.3701171875\n",
            "\n",
            "0 0.36181640625 0.33349609375 0.2080078125 0.3701171875\n",
            "\n",
            "0 0.673828125 0.36962890625 0.25 0.4423828125\n",
            "\n",
            "0 0.36181640625 0.33349609375 0.2080078125 0.3701171875\n",
            "\n",
            "0 0.673828125 0.36962890625 0.25 0.4423828125\n",
            "\n"
          ],
          "name": "stdout"
        },
        {
          "output_type": "display_data",
          "data": {
            "image/png": "[encoded data removed]",
            "text/plain": [
              "<Figure size 432x288 with 1 Axes>"
            ]
          },
          "metadata": {
            "tags": []
          }
        }
      ]
    },
    {
      "cell_type": "code",
      "metadata": {
        "id": "IwSn2agYw7UE",
        "colab_type": "code",
        "colab": {}
      },
      "source": [
        "def write_train_list(metadata_dir, img_dir, name, series):\n",
        "    list_fp = os.path.join(metadata_dir, name)\n",
        "    with open(list_fp, \"w\") as f:\n",
        "        for patient_id in series:\n",
        "            line = \"{}\\n\".format(os.path.join(img_dir, \"{}.jpg\".format(patient_id)))\n",
        "            f.write(line)"
      ],
      "execution_count": 0,
      "outputs": []
    },
    {
      "cell_type": "code",
      "metadata": {
        "id": "0JhyxUOpxF_o",
        "colab_type": "code",
        "outputId": "7de4e94a-5090-40af-94b8-f42492051492",
        "colab": {
          "base_uri": "https://localhost:8080/",
          "height": 33
        }
      },
      "source": [
        "# Following lines do not contain data with no bbox\n",
        "patient_id_series = annots[annots.Target == 1].patientId.drop_duplicates()\n",
        "\n",
        "tr_series, val_series = train_test_split(patient_id_series, test_size=0.1, random_state=random_stat)\n",
        "print(\"The # of train set: {}, The # of validation set: {}\".format(tr_series.shape[0], val_series.shape[0]))\n",
        "\n",
        "# train image path list\n",
        "write_train_list(metadata_dir, img_dir, \"tr_list.txt\", tr_series)\n",
        "# validation image path list\n",
        "write_train_list(metadata_dir, img_dir, \"val_list.txt\", val_series)"
      ],
      "execution_count": 0,
      "outputs": [
        {
          "output_type": "stream",
          "text": [
            "The # of train set: 5410, The # of validation set: 602\n"
          ],
          "name": "stdout"
        }
      ]
    },
    {
      "cell_type": "code",
      "metadata": {
        "id": "hUvdNpGgxG7O",
        "colab_type": "code",
        "colab": {}
      },
      "source": [
        "def save_yolov3_test_data(test_dcm_dir, img_dir, metadata_dir, name, series):\n",
        "    list_fp = os.path.join(metadata_dir, name)\n",
        "    with open(list_fp, \"w\") as f:\n",
        "        for patient_id in series:\n",
        "            save_img_from_dcm(test_dcm_dir, img_dir, patient_id)\n",
        "            line = \"{}\\n\".format(os.path.join(img_dir, \"{}.jpg\".format(patient_id)))\n",
        "            f.write(line)"
      ],
      "execution_count": 0,
      "outputs": []
    },
    {
      "cell_type": "code",
      "metadata": {
        "id": "OVnv6mPoxNtJ",
        "colab_type": "code",
        "colab": {}
      },
      "source": [
        "test_dcm_fps = list(set(glob.glob(os.path.join(test_dcm_dir, '*.dcm'))))\n",
        "test_dcm_fps = pd.Series(test_dcm_fps).apply(lambda dcm_fp: dcm_fp.strip().split(\"/\")[-1].replace(\".dcm\",\"\"))\n",
        "\n",
        "save_yolov3_test_data(test_dcm_dir, img_dir, metadata_dir, \"te_list.txt\", test_dcm_fps)"
      ],
      "execution_count": 0,
      "outputs": []
    },
    {
      "cell_type": "code",
      "metadata": {
        "id": "v4OX_eSPxOiF",
        "colab_type": "code",
        "outputId": "cc9dc753-7b5e-49a1-e0dc-32c59bedba7f",
        "colab": {
          "base_uri": "https://localhost:8080/",
          "height": 286
        }
      },
      "source": [
        "ex_patient_id = test_dcm_fps[0]\n",
        "ex_img_path = os.path.join(img_dir, \"{}.jpg\".format(ex_patient_id))\n",
        "\n",
        "plt.imshow(cv2.imread(ex_img_path))"
      ],
      "execution_count": 0,
      "outputs": [
        {
          "output_type": "execute_result",
          "data": {
            "text/plain": [
              "<matplotlib.image.AxesImage at 0x7f9c60fc3c18>"
            ]
          },
          "metadata": {
            "tags": []
          },
          "execution_count": 15
        },
        {
          "output_type": "display_data",
          "data": {
            "image/png": "[encoded data removed]",
            "text/plain": [
              "<Figure size 432x288 with 1 Axes>"
            ]
          },
          "metadata": {
            "tags": []
          }
        }
      ]
    },
    {
      "cell_type": "code",
      "metadata": {
        "id": "V02Oif9XxWZ-",
        "colab_type": "code",
        "colab": {}
      },
      "source": [
        " #cfg/rsna.data\n",
        " #cfg/rsna.names\n",
        " #darknet53.conv.74\n",
        " #cfg/rsna_yolov3.cfg_train"
      ],
      "execution_count": 0,
      "outputs": []
    },
    {
      "cell_type": "code",
      "metadata": {
        "id": "O7dpIyplxfUZ",
        "colab_type": "code",
        "colab": {}
      },
      "source": [
        "data_extention_file_path = os.path.join(cfg_dir, 'rsna.data')\n",
        "with open(data_extention_file_path, 'w') as f:\n",
        "    contents = \"\"\"classes= 1\n",
        "train  = {}\n",
        "valid  = {}\n",
        "names  = {}\n",
        "backup = {}\n",
        "    \"\"\".format(os.path.join(metadata_dir, \"tr_list.txt\"),\n",
        "               os.path.join(metadata_dir, \"val_list.txt\"),\n",
        "               os.path.join(cfg_dir, 'rsna.names'),\n",
        "               backup_dir)\n",
        "    f.write(contents)"
      ],
      "execution_count": 0,
      "outputs": []
    },
    {
      "cell_type": "code",
      "metadata": {
        "id": "XUPt-s8cxjAK",
        "colab_type": "code",
        "outputId": "11d78aca-1c87-4a01-ad00-8386f21de2ee",
        "colab": {
          "base_uri": "https://localhost:8080/",
          "height": 119
        }
      },
      "source": [
        "!cat cfg/rsna.data"
      ],
      "execution_count": 0,
      "outputs": [
        {
          "output_type": "stream",
          "text": [
            "classes= 1\n",
            "train  = /content/drive/My Drive/metadata/tr_list.txt\n",
            "valid  = /content/drive/My Drive/metadata/val_list.txt\n",
            "names  = /content/drive/My Drive/cfg/rsna.names\n",
            "backup = /content/drive/My Drive/backup\n",
            "    "
          ],
          "name": "stdout"
        }
      ]
    },
    {
      "cell_type": "code",
      "metadata": {
        "id": "Gv0hjYOXxn5I",
        "colab_type": "code",
        "colab": {}
      },
      "source": [
        "# Label list of bounding box.\n",
        "!echo \"pneumonia\" > cfg/rsna.names"
      ],
      "execution_count": 0,
      "outputs": []
    },
    {
      "cell_type": "code",
      "metadata": {
        "id": "Y3yT2m_-xq8b",
        "colab_type": "code",
        "colab": {}
      },
      "source": [
        "!wget -q https://pjreddie.com/media/files/darknet53.conv.74"
      ],
      "execution_count": 0,
      "outputs": []
    },
    {
      "cell_type": "code",
      "metadata": {
        "id": "ncOseuw-xr2z",
        "colab_type": "code",
        "colab": {}
      },
      "source": [
        "!wget --no-check-certificate -q \"https://docs.google.com/uc?export=download&id=18ptTK4Vbeokqpux8Onr0OmwUP9ipmcYO\" -O cfg/rsna_yolov3.cfg_train"
      ],
      "execution_count": 0,
      "outputs": []
    },
    {
      "cell_type": "code",
      "metadata": {
        "id": "Kzuu0NPtB3ZY",
        "colab_type": "code",
        "outputId": "06f5fa00-fe61-4d74-8695-de25b0c56ae8",
        "colab": {
          "base_uri": "https://localhost:8080/",
          "height": 84
        }
      },
      "source": [
        "!/usr/local/cuda/bin/nvcc --version"
      ],
      "execution_count": 0,
      "outputs": [
        {
          "output_type": "stream",
          "text": [
            "nvcc: NVIDIA (R) Cuda compiler driver\n",
            "Copyright (c) 2005-2018 NVIDIA Corporation\n",
            "Built on Sat_Aug_25_21:08:01_CDT_2018\n",
            "Cuda compilation tools, release 10.0, V10.0.130\n"
          ],
          "name": "stdout"
        }
      ]
    },
    {
      "cell_type": "code",
      "metadata": {
        "id": "3ElLmPUwCRI0",
        "colab_type": "code",
        "outputId": "86eb7bbe-5150-4638-ff2d-3adc730de71a",
        "colab": {
          "base_uri": "https://localhost:8080/",
          "height": 117
        }
      },
      "source": [
        "# We're unzipping the cuDNN files from your Drive folder directly to the VM CUDA folders\n",
        "\n",
        "\n",
        "!tar -xzvf /content/drive/My\\ Drive/darknet/cuDNN/cudnn-10.0-linux-x64-v7.5.0.56.tgz -C /usr/local/\n",
        "#content/drive/My Drive/darknet/cuDNN/cudnn-10.0-linux-x64-v7.5.0.56.tgz\n",
        "!chmod a+r /usr/local/cuda/include/cudnn.h\n",
        "\n",
        "\n"
      ],
      "execution_count": 0,
      "outputs": [
        {
          "output_type": "stream",
          "text": [
            "cuda/include/cudnn.h\n",
            "cuda/NVIDIA_SLA_cuDNN_Support.txt\n",
            "cuda/lib64/libcudnn.so\n",
            "cuda/lib64/libcudnn.so.7\n",
            "cuda/lib64/libcudnn.so.7.5.0\n",
            "cuda/lib64/libcudnn_static.a\n"
          ],
          "name": "stdout"
        }
      ]
    },
    {
      "cell_type": "code",
      "metadata": {
        "id": "9Hkzy0DACf47",
        "colab_type": "code",
        "outputId": "15a7cf19-45e5-4d58-f923-c8e02cbb0a2e",
        "colab": {
          "base_uri": "https://localhost:8080/",
          "height": 134
        }
      },
      "source": [
        "# Now we check the version we already installed. Can comment this line on future runs\n",
        "!cat /usr/local/cuda/include/cudnn.h | grep CUDNN_MAJOR -A 2"
      ],
      "execution_count": 0,
      "outputs": [
        {
          "output_type": "stream",
          "text": [
            "#define CUDNN_MAJOR 7\n",
            "#define CUDNN_MINOR 5\n",
            "#define CUDNN_PATCHLEVEL 0\n",
            "--\n",
            "#define CUDNN_VERSION (CUDNN_MAJOR * 1000 + CUDNN_MINOR * 100 + CUDNN_PATCHLEVEL)\n",
            "\n",
            "#include \"driver_types.h\"\n"
          ],
          "name": "stdout"
        }
      ]
    },
    {
      "cell_type": "code",
      "metadata": {
        "id": "_nifmr3mCto0",
        "colab_type": "code",
        "outputId": "45f8c699-25c7-40ba-d88a-9142d7fd10a8",
        "colab": {
          "base_uri": "https://localhost:8080/",
          "height": 502
        }
      },
      "source": [
        "!ls -l\n",
        "!chmod 777 /content/drive/My Drive/*\n"
      ],
      "execution_count": 0,
      "outputs": [
        {
          "output_type": "stream",
          "text": [
            "total 4190181\n",
            "drwx------ 2 root root       4096 Jun 17 11:20  backup\n",
            "-rw------- 1 root root   29144256 Jun 24 12:37  brucechou1983_CheXNet_Keras_0.3.0_weights.h5\n",
            "drwx------ 2 root root       4096 Jul  7 18:42  cfg\n",
            "drwx------ 2 root root       4096 Jan 18 13:37 'Colab Notebooks'\n",
            "drwx------ 3 root root       4096 Jun 22 06:19  darknet\n",
            "-rw------- 1 root root    1971216 Jun 22 07:30  darknet1\n",
            "-rw------- 1 root root  162482580 Mar 25  2018  darknet53.conv.74\n",
            "-rw------- 1 root root  162482580 Mar 25  2018  darknet53.conv.74.1\n",
            "-rw------- 1 root root    1971216 Jul  6 09:31  darknet_gpu\n",
            "drwx------ 2 root root       4096 Jun 22 06:14  darknet_weights\n",
            "-rw------- 1 root root         55 Jun 17 09:10 'GCP Credits Request Link - RSNA.txt'\n",
            "drwx------ 2 root root       4096 Jun 17 11:20  images\n",
            "-rw------- 1 root root     499505 Jun 23 06:45  Lab4_smartTaxi_QlearningSARSA.ipynb\n",
            "-rw------- 1 root root       7041 Jun 23 06:44  Lab6_HandsOn_frozenLake8x8_QlearningSARSA.ipynb\n",
            "drwx------ 2 root root       4096 Jun 17 11:20  labels\n",
            "drwx------ 2 root root       4096 Jul  7 18:42  metadata\n",
            "-rw------- 1 root root     347640 Jun 23 07:36  Resnet101_rsna_pneumonia_detection_challenge_kaggle.ipynb\n",
            "drwx------ 2 root root       4096 Jun 18 06:53  SMS_NER\n",
            "-rw------- 1 root root    1647396 Jun 17 09:10  stage_2_detailed_class_info.csv\n",
            "-rw------- 1 root root     159027 Jun 17 09:10  stage_2_sample_submission.csv\n",
            "drwx------ 2 root root       4096 Jun 17 18:56  stage_2_test_images\n",
            "-rw------- 1 root root  395504636 Jun 17 10:01  stage_2_test_images.zip\n",
            "drwx------ 2 root root       4096 Jun 17 18:42  stage_2_train_images\n",
            "-rw------- 1 root root 3532989395 Jun 17 09:55  stage_2_train_images.zip\n",
            "-rw------- 1 root root    1490034 Jun 17 09:11  stage_2_train_labels.csv\n",
            "-rw------- 1 root root          0 Jun 22 07:52  train_log.txt\n",
            "chmod: cannot access '/content/drive/My': No such file or directory\n",
            "chmod: cannot access 'Drive/*': No such file or directory\n"
          ],
          "name": "stdout"
        }
      ]
    },
    {
      "cell_type": "code",
      "metadata": {
        "id": "F1aRw44uHhtO",
        "colab_type": "code",
        "colab": {}
      },
      "source": [
        "!chmod +x ./darknet1"
      ],
      "execution_count": 0,
      "outputs": []
    },
    {
      "cell_type": "code",
      "metadata": {
        "id": "Me3hWOdJHssd",
        "colab_type": "code",
        "outputId": "026038dc-d1fa-4b17-a245-ca9325be3d38",
        "colab": {
          "base_uri": "https://localhost:8080/",
          "height": 468
        }
      },
      "source": [
        "!ls -l"
      ],
      "execution_count": 0,
      "outputs": [
        {
          "output_type": "stream",
          "text": [
            "total 4190181\n",
            "drwx------ 2 root root       4096 Jun 17 11:20  backup\n",
            "-rw------- 1 root root   29144256 Jun 24 12:37  brucechou1983_CheXNet_Keras_0.3.0_weights.h5\n",
            "drwx------ 2 root root       4096 Jul  7 18:57  cfg\n",
            "drwx------ 2 root root       4096 Jan 18 13:37 'Colab Notebooks'\n",
            "drwx------ 3 root root       4096 Jun 22 06:19  darknet\n",
            "-rwx------ 1 root root    1971216 Jun 22 07:30  darknet1\n",
            "-rw------- 1 root root  162482580 Mar 25  2018  darknet53.conv.74\n",
            "-rw------- 1 root root  162482580 Mar 25  2018  darknet53.conv.74.1\n",
            "-rw------- 1 root root    1971216 Jul  6 09:31  darknet_gpu\n",
            "drwx------ 2 root root       4096 Jun 22 06:14  darknet_weights\n",
            "-rw------- 1 root root         55 Jun 17 09:10 'GCP Credits Request Link - RSNA.txt'\n",
            "drwx------ 2 root root       4096 Jun 17 11:20  images\n",
            "-rw------- 1 root root     499505 Jun 23 06:45  Lab4_smartTaxi_QlearningSARSA.ipynb\n",
            "-rw------- 1 root root       7041 Jun 23 06:44  Lab6_HandsOn_frozenLake8x8_QlearningSARSA.ipynb\n",
            "drwx------ 2 root root       4096 Jun 17 11:20  labels\n",
            "drwx------ 2 root root       4096 Jul  7 18:57  metadata\n",
            "-rw------- 1 root root     347640 Jun 23 07:36  Resnet101_rsna_pneumonia_detection_challenge_kaggle.ipynb\n",
            "drwx------ 2 root root       4096 Jun 18 06:53  SMS_NER\n",
            "-rw------- 1 root root    1647396 Jun 17 09:10  stage_2_detailed_class_info.csv\n",
            "-rw------- 1 root root     159027 Jun 17 09:10  stage_2_sample_submission.csv\n",
            "drwx------ 2 root root       4096 Jun 17 18:56  stage_2_test_images\n",
            "-rw------- 1 root root  395504636 Jun 17 10:01  stage_2_test_images.zip\n",
            "drwx------ 2 root root       4096 Jun 17 18:42  stage_2_train_images\n",
            "-rw------- 1 root root 3532989395 Jun 17 09:55  stage_2_train_images.zip\n",
            "-rw------- 1 root root    1490034 Jun 17 09:11  stage_2_train_labels.csv\n",
            "-rw------- 1 root root          0 Jun 22 07:52  train_log.txt\n"
          ],
          "name": "stdout"
        }
      ]
    },
    {
      "cell_type": "code",
      "metadata": {
        "id": "gqJ75i4Ax97Q",
        "colab_type": "code",
        "outputId": "734bea09-1285-4da2-87c2-8375e7d20aa0",
        "colab": {
          "base_uri": "https://localhost:8080/",
          "height": 1000
        }
      },
      "source": [
        "!./darknet1 detector train \"/content/drive/My Drive/cfg/rsna.data\" \"/content/drive/My Drive/darknet/cfg/rsna_yolov3.cfg\" \"/content/drive/My Drive/darknet53.conv.74\" -i"
      ],
      "execution_count": 0,
      "outputs": [
        {
          "output_type": "stream",
          "text": [
            "rsna_yolov3\n",
            "layer     filters    size              input                output\n",
            "    0 conv     32  3 x 3 / 1   608 x 608 x   3   ->   608 x 608 x  32  0.639 BFLOPs\n",
            "    1 conv     64  3 x 3 / 2   608 x 608 x  32   ->   304 x 304 x  64  3.407 BFLOPs\n",
            "    2 conv     32  1 x 1 / 1   304 x 304 x  64   ->   304 x 304 x  32  0.379 BFLOPs\n",
            "    3 conv     64  3 x 3 / 1   304 x 304 x  32   ->   304 x 304 x  64  3.407 BFLOPs\n",
            "    4 res    1                 304 x 304 x  64   ->   304 x 304 x  64\n",
            "    5 conv    128  3 x 3 / 2   304 x 304 x  64   ->   152 x 152 x 128  3.407 BFLOPs\n",
            "    6 conv     64  1 x 1 / 1   152 x 152 x 128   ->   152 x 152 x  64  0.379 BFLOPs\n",
            "    7 conv    128  3 x 3 / 1   152 x 152 x  64   ->   152 x 152 x 128  3.407 BFLOPs\n",
            "    8 res    5                 152 x 152 x 128   ->   152 x 152 x 128\n",
            "    9 conv     64  1 x 1 / 1   152 x 152 x 128   ->   152 x 152 x  64  0.379 BFLOPs\n",
            "   10 conv    128  3 x 3 / 1   152 x 152 x  64   ->   152 x 152 x 128  3.407 BFLOPs\n",
            "   11 res    8                 152 x 152 x 128   ->   152 x 152 x 128\n",
            "   12 conv    256  3 x 3 / 2   152 x 152 x 128   ->    76 x  76 x 256  3.407 BFLOPs\n",
            "   13 conv    128  1 x 1 / 1    76 x  76 x 256   ->    76 x  76 x 128  0.379 BFLOPs\n",
            "   14 conv    256  3 x 3 / 1    76 x  76 x 128   ->    76 x  76 x 256  3.407 BFLOPs\n",
            "   15 res   12                  76 x  76 x 256   ->    76 x  76 x 256\n",
            "   16 conv    128  1 x 1 / 1    76 x  76 x 256   ->    76 x  76 x 128  0.379 BFLOPs\n",
            "   17 conv    256  3 x 3 / 1    76 x  76 x 128   ->    76 x  76 x 256  3.407 BFLOPs\n",
            "   18 res   15                  76 x  76 x 256   ->    76 x  76 x 256\n",
            "   19 conv    128  1 x 1 / 1    76 x  76 x 256   ->    76 x  76 x 128  0.379 BFLOPs\n",
            "   20 conv    256  3 x 3 / 1    76 x  76 x 128   ->    76 x  76 x 256  3.407 BFLOPs\n",
            "   21 res   18                  76 x  76 x 256   ->    76 x  76 x 256\n",
            "   22 conv    128  1 x 1 / 1    76 x  76 x 256   ->    76 x  76 x 128  0.379 BFLOPs\n",
            "   23 conv    256  3 x 3 / 1    76 x  76 x 128   ->    76 x  76 x 256  3.407 BFLOPs\n",
            "   24 res   21                  76 x  76 x 256   ->    76 x  76 x 256\n",
            "   25 conv    128  1 x 1 / 1    76 x  76 x 256   ->    76 x  76 x 128  0.379 BFLOPs\n",
            "   26 conv    256  3 x 3 / 1    76 x  76 x 128   ->    76 x  76 x 256  3.407 BFLOPs\n",
            "   27 res   24                  76 x  76 x 256   ->    76 x  76 x 256\n",
            "   28 conv    128  1 x 1 / 1    76 x  76 x 256   ->    76 x  76 x 128  0.379 BFLOPs\n",
            "   29 conv    256  3 x 3 / 1    76 x  76 x 128   ->    76 x  76 x 256  3.407 BFLOPs\n",
            "   30 res   27                  76 x  76 x 256   ->    76 x  76 x 256\n",
            "   31 conv    128  1 x 1 / 1    76 x  76 x 256   ->    76 x  76 x 128  0.379 BFLOPs\n",
            "   32 conv    256  3 x 3 / 1    76 x  76 x 128   ->    76 x  76 x 256  3.407 BFLOPs\n",
            "   33 res   30                  76 x  76 x 256   ->    76 x  76 x 256\n",
            "   34 conv    128  1 x 1 / 1    76 x  76 x 256   ->    76 x  76 x 128  0.379 BFLOPs\n",
            "   35 conv    256  3 x 3 / 1    76 x  76 x 128   ->    76 x  76 x 256  3.407 BFLOPs\n",
            "   36 res   33                  76 x  76 x 256   ->    76 x  76 x 256\n",
            "   37 conv    512  3 x 3 / 2    76 x  76 x 256   ->    38 x  38 x 512  3.407 BFLOPs\n",
            "   38 conv    256  1 x 1 / 1    38 x  38 x 512   ->    38 x  38 x 256  0.379 BFLOPs\n",
            "   39 conv    512  3 x 3 / 1    38 x  38 x 256   ->    38 x  38 x 512  3.407 BFLOPs\n",
            "   40 res   37                  38 x  38 x 512   ->    38 x  38 x 512\n",
            "   41 conv    256  1 x 1 / 1    38 x  38 x 512   ->    38 x  38 x 256  0.379 BFLOPs\n",
            "   42 conv    512  3 x 3 / 1    38 x  38 x 256   ->    38 x  38 x 512  3.407 BFLOPs\n",
            "   43 res   40                  38 x  38 x 512   ->    38 x  38 x 512\n",
            "   44 conv    256  1 x 1 / 1    38 x  38 x 512   ->    38 x  38 x 256  0.379 BFLOPs\n",
            "   45 conv    512  3 x 3 / 1    38 x  38 x 256   ->    38 x  38 x 512  3.407 BFLOPs\n",
            "   46 res   43                  38 x  38 x 512   ->    38 x  38 x 512\n",
            "   47 conv    256  1 x 1 / 1    38 x  38 x 512   ->    38 x  38 x 256  0.379 BFLOPs\n",
            "   48 conv    512  3 x 3 / 1    38 x  38 x 256   ->    38 x  38 x 512  3.407 BFLOPs\n",
            "   49 res   46                  38 x  38 x 512   ->    38 x  38 x 512\n",
            "   50 conv    256  1 x 1 / 1    38 x  38 x 512   ->    38 x  38 x 256  0.379 BFLOPs\n",
            "   51 conv    512  3 x 3 / 1    38 x  38 x 256   ->    38 x  38 x 512  3.407 BFLOPs\n",
            "   52 res   49                  38 x  38 x 512   ->    38 x  38 x 512\n",
            "   53 conv    256  1 x 1 / 1    38 x  38 x 512   ->    38 x  38 x 256  0.379 BFLOPs\n",
            "   54 conv    512  3 x 3 / 1    38 x  38 x 256   ->    38 x  38 x 512  3.407 BFLOPs\n",
            "   55 res   52                  38 x  38 x 512   ->    38 x  38 x 512\n",
            "   56 conv    256  1 x 1 / 1    38 x  38 x 512   ->    38 x  38 x 256  0.379 BFLOPs\n",
            "   57 conv    512  3 x 3 / 1    38 x  38 x 256   ->    38 x  38 x 512  3.407 BFLOPs\n",
            "   58 res   55                  38 x  38 x 512   ->    38 x  38 x 512\n",
            "   59 conv    256  1 x 1 / 1    38 x  38 x 512   ->    38 x  38 x 256  0.379 BFLOPs\n",
            "   60 conv    512  3 x 3 / 1    38 x  38 x 256   ->    38 x  38 x 512  3.407 BFLOPs\n",
            "   61 res   58                  38 x  38 x 512   ->    38 x  38 x 512\n",
            "   62 conv   1024  3 x 3 / 2    38 x  38 x 512   ->    19 x  19 x1024  3.407 BFLOPs\n",
            "   63 conv    512  1 x 1 / 1    19 x  19 x1024   ->    19 x  19 x 512  0.379 BFLOPs\n",
            "   64 conv   1024  3 x 3 / 1    19 x  19 x 512   ->    19 x  19 x1024  3.407 BFLOPs\n",
            "   65 res   62                  19 x  19 x1024   ->    19 x  19 x1024\n",
            "   66 conv    512  1 x 1 / 1    19 x  19 x1024   ->    19 x  19 x 512  0.379 BFLOPs\n",
            "   67 ^C\n"
          ],
          "name": "stdout"
        }
      ]
    },
    {
      "cell_type": "code",
      "metadata": {
        "id": "jK-rQOGVyCms",
        "colab_type": "code",
        "colab": {}
      },
      "source": [
        ""
      ],
      "execution_count": 0,
      "outputs": []
    }
  ]
}