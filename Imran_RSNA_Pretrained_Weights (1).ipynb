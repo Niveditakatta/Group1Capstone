{
  "nbformat": 4,
  "nbformat_minor": 0,
  "metadata": {
    "colab": {
      "name": "RSNA Pretrained Weights.ipynb",
      "version": "0.3.2",
      "provenance": []
    },
    "kernelspec": {
      "name": "python3",
      "display_name": "Python 3"
    },
    "accelerator": "GPU"
  },
  "cells": [
    {
      "cell_type": "code",
      "metadata": {
        "id": "WAdu19R71YlQ",
        "colab_type": "code",
        "colab": {
          "base_uri": "https://localhost:8080/",
          "height": 34
        },
        "outputId": "32570082-bf76-4212-f130-9d6bf068c843"
      },
      "source": [
        "pip install pydicom"
      ],
      "execution_count": 1,
      "outputs": [
        {
          "output_type": "stream",
          "text": [
            "Requirement already satisfied: pydicom in /usr/local/lib/python3.6/dist-packages (1.2.2)\n"
          ],
          "name": "stdout"
        }
      ]
    },
    {
      "cell_type": "code",
      "metadata": {
        "id": "CJ7mvOAk1ddM",
        "colab_type": "code",
        "colab": {}
      },
      "source": [
        "%matplotlib inline\n",
        "import matplotlib.pyplot as plt\n",
        "import numpy as np\n",
        "import pydicom\n",
        "import pandas as pd\n",
        "from glob import glob\n",
        "import os\n",
        "from matplotlib.patches import Rectangle\n",
        "import seaborn as sns\n",
        "import cv2"
      ],
      "execution_count": 0,
      "outputs": []
    },
    {
      "cell_type": "code",
      "metadata": {
        "id": "nI8pfW4E1gIo",
        "colab_type": "code",
        "colab": {
          "base_uri": "https://localhost:8080/",
          "height": 34
        },
        "outputId": "b5b30426-3adf-4f04-c2d5-c8d71ab8547f"
      },
      "source": [
        "from google.colab import drive\n",
        "drive.mount('/content/drive')"
      ],
      "execution_count": 3,
      "outputs": [
        {
          "output_type": "stream",
          "text": [
            "Drive already mounted at /content/drive; to attempt to forcibly remount, call drive.mount(\"/content/drive\", force_remount=True).\n"
          ],
          "name": "stdout"
        }
      ]
    },
    {
      "cell_type": "code",
      "metadata": {
        "id": "tFUDqVxj1qKx",
        "colab_type": "code",
        "colab": {
          "base_uri": "https://localhost:8080/",
          "height": 34
        },
        "outputId": "f2cc5b72-b29b-4e91-cc3b-3bb34b59945b"
      },
      "source": [
        "import os\n",
        "import keras\n",
        "from keras.applications.densenet import DenseNet121\n",
        "from keras.layers import Input\n",
        "from keras.models import Model\n",
        "from keras.layers import Dense\n",
        "from keras.optimizers import Adam\n",
        "from sklearn.model_selection import train_test_split\n",
        "from keras.preprocessing.image import ImageDataGenerator, array_to_img, img_to_array, load_img\n",
        "#from generator import DataGenerator"
      ],
      "execution_count": 4,
      "outputs": [
        {
          "output_type": "stream",
          "text": [
            "Using TensorFlow backend.\n"
          ],
          "name": "stderr"
        }
      ]
    },
    {
      "cell_type": "code",
      "metadata": {
        "id": "0QWEgAfk1yke",
        "colab_type": "code",
        "colab": {}
      },
      "source": [
        "from keras.models import Sequential\n",
        "from keras.layers import Convolution2D, Dropout, Dense,Conv2D\n",
        "from keras.layers import BatchNormalization,Activation\n",
        "from keras.layers import MaxPooling2D,GlobalAveragePooling2D\n",
        "from keras.layers import Flatten\n",
        "from keras.optimizers import adam\n",
        "from keras import optimizers\n"
      ],
      "execution_count": 0,
      "outputs": []
    },
    {
      "cell_type": "code",
      "metadata": {
        "id": "VqbWhYpj14jF",
        "colab_type": "code",
        "colab": {
          "base_uri": "https://localhost:8080/",
          "height": 34
        },
        "outputId": "bb8f6754-a07e-402d-e5ff-c0879fa265d6"
      },
      "source": [
        "cd drive/My Drive/Colab Notebooks/RSNA/rsna-pneumonia-detection-challenge"
      ],
      "execution_count": 6,
      "outputs": [
        {
          "output_type": "stream",
          "text": [
            "/content/drive/My Drive/Colab Notebooks/RSNA/rsna-pneumonia-detection-challenge\n"
          ],
          "name": "stdout"
        }
      ]
    },
    {
      "cell_type": "code",
      "metadata": {
        "id": "sNBsge5E17g6",
        "colab_type": "code",
        "colab": {
          "base_uri": "https://localhost:8080/",
          "height": 136
        },
        "outputId": "c25b2054-930e-4448-e5d5-7ddbc00e32e2"
      },
      "source": [
        "!ls"
      ],
      "execution_count": 7,
      "outputs": [
        {
          "output_type": "stream",
          "text": [
            " brucechou1983_CheXNet_Keras_0.3.0_weights.h5   train_png\n",
            "'GCP Credits Request Link - RSNA.txt'\t        transfer_all_sgd1.h5\n",
            " stage_2_detailed_class_info.csv\t        transfer_all_sgd2.h5\n",
            " stage_2_sample_submission.csv\t\t        transfer_all_sgd3000.h5\n",
            " stage_2_test_images\t\t\t        transfer_all_sgd.h5\n",
            " stage_2_train_images\t\t\t        validation_png\n",
            " stage_2_train_labels.csv\n"
          ],
          "name": "stdout"
        }
      ]
    },
    {
      "cell_type": "code",
      "metadata": {
        "id": "Tl8n6Dzl2F2s",
        "colab_type": "code",
        "colab": {
          "base_uri": "https://localhost:8080/",
          "height": 51
        },
        "outputId": "9e22d5ac-0568-48d0-81a3-0509c0021799"
      },
      "source": [
        "train_datagen = ImageDataGenerator(\n",
        "        rescale=1./255,\n",
        "        shear_range=0.2,\n",
        "        zoom_range=0.2,\n",
        "        #horizontal_flip=True\n",
        "         )\n",
        "\n",
        "test_datagen = ImageDataGenerator(rescale=1./255)\n",
        "\n",
        "train_generator_1 = train_datagen.flow_from_directory(\n",
        "        '/content/drive/My Drive/Colab Notebooks/RSNA/rsna-pneumonia-detection-challenge/train_png/',\n",
        "        target_size=(256, 256),\n",
        "        batch_size=32,color_mode='rgb',\n",
        "        class_mode='binary')\n",
        "\n",
        "validation_generator_1 = test_datagen.flow_from_directory(\n",
        "        '/content/drive/My Drive/Colab Notebooks/RSNA/rsna-pneumonia-detection-challenge/validation_png/',\n",
        "        target_size=(256, 256),\n",
        "        batch_size=32,color_mode='rgb',\n",
        "        class_mode='binary')"
      ],
      "execution_count": 14,
      "outputs": [
        {
          "output_type": "stream",
          "text": [
            "Found 4838 images belonging to 2 classes.\n",
            "Found 441 images belonging to 2 classes.\n"
          ],
          "name": "stdout"
        }
      ]
    },
    {
      "cell_type": "code",
      "metadata": {
        "id": "rerVkVxj2UNL",
        "colab_type": "code",
        "colab": {}
      },
      "source": [
        "# input_shape=(256,256,3)\n",
        "# img_in = Input(input_shape)              #input of model \n",
        "# model = DenseNet121(include_top= False , # remove  the 3 fully-connected layers at the top of the network\n",
        "#                 weights='/content/drive/My Drive/Colab Notebooks/RSNA/rsna-pneumonia-detection-challenge/brucechou1983_CheXNet_Keras_0.3.0_weights.h5',      # pre train weight \n",
        "#                 input_tensor= img_in, \n",
        "#                 input_shape= input_shape,\n",
        "#                 pooling ='max') \n",
        "\n"
      ],
      "execution_count": 0,
      "outputs": []
    },
    {
      "cell_type": "code",
      "metadata": {
        "id": "NUvdyvNJ3SpE",
        "colab_type": "code",
        "colab": {}
      },
      "source": [
        "input_shape=(256,256,3)\n",
        "img_in = Input(input_shape)              #input of model \n",
        "model = DenseNet121(include_top= False , # remove  the 3 fully-connected layers at the top of the network\n",
        "                weights='imagenet',      # pre train weight \n",
        "                input_tensor= img_in, \n",
        "                input_shape= input_shape,\n",
        "                pooling ='max') "
      ],
      "execution_count": 0,
      "outputs": []
    },
    {
      "cell_type": "code",
      "metadata": {
        "id": "-XdE0Fd3IAzm",
        "colab_type": "code",
        "colab": {
          "base_uri": "https://localhost:8080/",
          "height": 357
        },
        "outputId": "0944048c-7ca3-4478-bcb8-58bf7d755954"
      },
      "source": [
        "x = model.get_output_at(-1)\n",
        "#layer_output = self.layer.get_output_at(-1)\n",
        "predictions = Dense(1, activation=\"sigmoid\",name=\"predictions\")(x)\n",
        "model11 = Model(inputs=img_in, outputs=predictions)"
      ],
      "execution_count": 39,
      "outputs": [
        {
          "output_type": "error",
          "ename": "RuntimeError",
          "evalue": "ignored",
          "traceback": [
            "\u001b[0;31m---------------------------------------------------------------------------\u001b[0m",
            "\u001b[0;31mRuntimeError\u001b[0m                              Traceback (most recent call last)",
            "\u001b[0;32m<ipython-input-39-6602b7ceaa7e>\u001b[0m in \u001b[0;36m<module>\u001b[0;34m()\u001b[0m\n\u001b[0;32m----> 1\u001b[0;31m \u001b[0mx\u001b[0m \u001b[0;34m=\u001b[0m \u001b[0mmodel\u001b[0m\u001b[0;34m.\u001b[0m\u001b[0mget_output_at\u001b[0m\u001b[0;34m(\u001b[0m\u001b[0;34m-\u001b[0m\u001b[0;36m1\u001b[0m\u001b[0;34m)\u001b[0m\u001b[0;34m\u001b[0m\u001b[0;34m\u001b[0m\u001b[0m\n\u001b[0m\u001b[1;32m      2\u001b[0m \u001b[0;31m#layer_output = self.layer.get_output_at(-1)\u001b[0m\u001b[0;34m\u001b[0m\u001b[0;34m\u001b[0m\u001b[0;34m\u001b[0m\u001b[0m\n\u001b[1;32m      3\u001b[0m \u001b[0mpredictions\u001b[0m \u001b[0;34m=\u001b[0m \u001b[0mDense\u001b[0m\u001b[0;34m(\u001b[0m\u001b[0;36m1\u001b[0m\u001b[0;34m,\u001b[0m \u001b[0mactivation\u001b[0m\u001b[0;34m=\u001b[0m\u001b[0;34m\"sigmoid\"\u001b[0m\u001b[0;34m,\u001b[0m\u001b[0mname\u001b[0m\u001b[0;34m=\u001b[0m\u001b[0;34m\"predictions\"\u001b[0m\u001b[0;34m)\u001b[0m\u001b[0;34m(\u001b[0m\u001b[0mx\u001b[0m\u001b[0;34m)\u001b[0m\u001b[0;34m\u001b[0m\u001b[0;34m\u001b[0m\u001b[0m\n\u001b[1;32m      4\u001b[0m \u001b[0mmodel11\u001b[0m \u001b[0;34m=\u001b[0m \u001b[0mModel\u001b[0m\u001b[0;34m(\u001b[0m\u001b[0minputs\u001b[0m\u001b[0;34m=\u001b[0m\u001b[0mimg_in\u001b[0m\u001b[0;34m,\u001b[0m \u001b[0moutputs\u001b[0m\u001b[0;34m=\u001b[0m\u001b[0mpredictions\u001b[0m\u001b[0;34m)\u001b[0m\u001b[0;34m\u001b[0m\u001b[0;34m\u001b[0m\u001b[0m\n",
            "\u001b[0;32m/usr/local/lib/python3.6/dist-packages/keras/engine/base_layer.py\u001b[0m in \u001b[0;36mget_output_at\u001b[0;34m(self, node_index)\u001b[0m\n\u001b[1;32m    730\u001b[0m         return self._get_node_attribute_at_index(node_index,\n\u001b[1;32m    731\u001b[0m                                                  \u001b[0;34m'output_tensors'\u001b[0m\u001b[0;34m,\u001b[0m\u001b[0;34m\u001b[0m\u001b[0;34m\u001b[0m\u001b[0m\n\u001b[0;32m--> 732\u001b[0;31m                                                  'output')\n\u001b[0m\u001b[1;32m    733\u001b[0m \u001b[0;34m\u001b[0m\u001b[0m\n\u001b[1;32m    734\u001b[0m     \u001b[0;32mdef\u001b[0m \u001b[0mget_input_mask_at\u001b[0m\u001b[0;34m(\u001b[0m\u001b[0mself\u001b[0m\u001b[0;34m,\u001b[0m \u001b[0mnode_index\u001b[0m\u001b[0;34m)\u001b[0m\u001b[0;34m:\u001b[0m\u001b[0;34m\u001b[0m\u001b[0;34m\u001b[0m\u001b[0m\n",
            "\u001b[0;32m/usr/local/lib/python3.6/dist-packages/keras/engine/base_layer.py\u001b[0m in \u001b[0;36m_get_node_attribute_at_index\u001b[0;34m(self, node_index, attr, attr_name)\u001b[0m\n\u001b[1;32m    657\u001b[0m         \u001b[0;32mif\u001b[0m \u001b[0;32mnot\u001b[0m \u001b[0mself\u001b[0m\u001b[0;34m.\u001b[0m\u001b[0m_inbound_nodes\u001b[0m\u001b[0;34m:\u001b[0m\u001b[0;34m\u001b[0m\u001b[0;34m\u001b[0m\u001b[0m\n\u001b[1;32m    658\u001b[0m             raise RuntimeError('The layer has never been called '\n\u001b[0;32m--> 659\u001b[0;31m                                'and thus has no defined ' + attr_name + '.')\n\u001b[0m\u001b[1;32m    660\u001b[0m         \u001b[0;32mif\u001b[0m \u001b[0;32mnot\u001b[0m \u001b[0mlen\u001b[0m\u001b[0;34m(\u001b[0m\u001b[0mself\u001b[0m\u001b[0;34m.\u001b[0m\u001b[0m_inbound_nodes\u001b[0m\u001b[0;34m)\u001b[0m \u001b[0;34m>\u001b[0m \u001b[0mnode_index\u001b[0m\u001b[0;34m:\u001b[0m\u001b[0;34m\u001b[0m\u001b[0;34m\u001b[0m\u001b[0m\n\u001b[1;32m    661\u001b[0m             raise ValueError('Asked to get ' + attr_name +\n",
            "\u001b[0;31mRuntimeError\u001b[0m: The layer has never been called and thus has no defined output."
          ]
        }
      ]
    },
    {
      "cell_type": "code",
      "metadata": {
        "id": "QizpUWFjL7Fd",
        "colab_type": "code",
        "colab": {
          "base_uri": "https://localhost:8080/",
          "height": 326
        },
        "outputId": "72c84a56-60f6-4054-af14-825e1133b162"
      },
      "source": [
        "model.load_weights('/content/drive/My Drive/Colab Notebooks/RSNA/rsna-pneumonia-detection-challenge/brucechou1983_CheXNet_Keras_0.3.0_weights.h5')"
      ],
      "execution_count": 34,
      "outputs": [
        {
          "output_type": "error",
          "ename": "ValueError",
          "evalue": "ignored",
          "traceback": [
            "\u001b[0;31m---------------------------------------------------------------------------\u001b[0m",
            "\u001b[0;31mValueError\u001b[0m                                Traceback (most recent call last)",
            "\u001b[0;32m<ipython-input-34-91098751a1c4>\u001b[0m in \u001b[0;36m<module>\u001b[0;34m()\u001b[0m\n\u001b[0;32m----> 1\u001b[0;31m \u001b[0mmodel\u001b[0m\u001b[0;34m.\u001b[0m\u001b[0mload_weights\u001b[0m\u001b[0;34m(\u001b[0m\u001b[0;34m'/content/drive/My Drive/Colab Notebooks/RSNA/rsna-pneumonia-detection-challenge/brucechou1983_CheXNet_Keras_0.3.0_weights.h5'\u001b[0m\u001b[0;34m)\u001b[0m\u001b[0;34m\u001b[0m\u001b[0;34m\u001b[0m\u001b[0m\n\u001b[0m",
            "\u001b[0;32m/usr/local/lib/python3.6/dist-packages/keras/engine/network.py\u001b[0m in \u001b[0;36mload_weights\u001b[0;34m(self, filepath, by_name, skip_mismatch, reshape)\u001b[0m\n\u001b[1;32m   1164\u001b[0m             \u001b[0;32melse\u001b[0m\u001b[0;34m:\u001b[0m\u001b[0;34m\u001b[0m\u001b[0;34m\u001b[0m\u001b[0m\n\u001b[1;32m   1165\u001b[0m                 saving.load_weights_from_hdf5_group(\n\u001b[0;32m-> 1166\u001b[0;31m                     f, self.layers, reshape=reshape)\n\u001b[0m\u001b[1;32m   1167\u001b[0m \u001b[0;34m\u001b[0m\u001b[0m\n\u001b[1;32m   1168\u001b[0m     \u001b[0;32mdef\u001b[0m \u001b[0m_updated_config\u001b[0m\u001b[0;34m(\u001b[0m\u001b[0mself\u001b[0m\u001b[0;34m)\u001b[0m\u001b[0;34m:\u001b[0m\u001b[0;34m\u001b[0m\u001b[0;34m\u001b[0m\u001b[0m\n",
            "\u001b[0;32m/usr/local/lib/python3.6/dist-packages/keras/engine/saving.py\u001b[0m in \u001b[0;36mload_weights_from_hdf5_group\u001b[0;34m(f, layers, reshape)\u001b[0m\n\u001b[1;32m   1028\u001b[0m                          \u001b[0;34m'containing '\u001b[0m \u001b[0;34m+\u001b[0m \u001b[0mstr\u001b[0m\u001b[0;34m(\u001b[0m\u001b[0mlen\u001b[0m\u001b[0;34m(\u001b[0m\u001b[0mlayer_names\u001b[0m\u001b[0;34m)\u001b[0m\u001b[0;34m)\u001b[0m \u001b[0;34m+\u001b[0m\u001b[0;34m\u001b[0m\u001b[0;34m\u001b[0m\u001b[0m\n\u001b[1;32m   1029\u001b[0m                          \u001b[0;34m' layers into a model with '\u001b[0m \u001b[0;34m+\u001b[0m\u001b[0;34m\u001b[0m\u001b[0;34m\u001b[0m\u001b[0m\n\u001b[0;32m-> 1030\u001b[0;31m                          str(len(filtered_layers)) + ' layers.')\n\u001b[0m\u001b[1;32m   1031\u001b[0m \u001b[0;34m\u001b[0m\u001b[0m\n\u001b[1;32m   1032\u001b[0m     \u001b[0;31m# We batch weight value assignments in a single backend call\u001b[0m\u001b[0;34m\u001b[0m\u001b[0;34m\u001b[0m\u001b[0;34m\u001b[0m\u001b[0m\n",
            "\u001b[0;31mValueError\u001b[0m: You are trying to load a weight file containing 242 layers into a model with 0 layers."
          ]
        }
      ]
    },
    {
      "cell_type": "code",
      "metadata": {
        "id": "1AXEKZ_82kO0",
        "colab_type": "code",
        "colab": {
          "base_uri": "https://localhost:8080/",
          "height": 479
        },
        "outputId": "f501ce4f-41a6-4096-e00a-ee6a035f405e"
      },
      "source": [
        "# Create the model\n",
        "model_pretrainedW_3000= Sequential()\n",
        " \n",
        "# Add the vgg convolutional base model\n",
        "model_pretrainedW_3000.add(model)\n",
        " \n",
        "# Add new layers\n",
        "#model_vgg_flow.add(Flatten())\n",
        "#model_Densenet.add(Dense(256, activation='relu'))\n",
        "#model_Densenet.add(Dropout(0.25))\n",
        "#model_Densenet.add(Dense(128, activation='relu'))\n",
        "model_pretrainedW_3000.add(Dropout(0.25))\n",
        "model_pretrainedW_3000.add(Dense(256, activation='relu'))\n",
        "model_pretrainedW_3000.add(Dropout(0.25))\n",
        "model_pretrainedW_3000.add(Dense(128, activation='relu'))\n",
        "model_pretrainedW_3000.add(Dropout(0.15))\n",
        "model_pretrainedW_3000.add(Dense(64, activation='relu'))\n",
        "model_pretrainedW_3000.add(Dense(1, activation='sigmoid'))\n",
        "\n",
        "#model_vgg_flow.add(Dense(1, activation='softmax')) \n",
        "# Show a summary of the model. Check the number of trainable parameters\n",
        "model_pretrainedW_3000.summary()"
      ],
      "execution_count": 9,
      "outputs": [
        {
          "output_type": "stream",
          "text": [
            "W0625 04:22:01.039360 140541277095808 deprecation.py:506] From /usr/local/lib/python3.6/dist-packages/keras/backend/tensorflow_backend.py:3445: calling dropout (from tensorflow.python.ops.nn_ops) with keep_prob is deprecated and will be removed in a future version.\n",
            "Instructions for updating:\n",
            "Please use `rate` instead of `keep_prob`. Rate should be set to `rate = 1 - keep_prob`.\n"
          ],
          "name": "stderr"
        },
        {
          "output_type": "stream",
          "text": [
            "_________________________________________________________________\n",
            "Layer (type)                 Output Shape              Param #   \n",
            "=================================================================\n",
            "densenet121 (Model)          (None, 1024)              7037504   \n",
            "_________________________________________________________________\n",
            "dropout_1 (Dropout)          (None, 1024)              0         \n",
            "_________________________________________________________________\n",
            "dense_1 (Dense)              (None, 256)               262400    \n",
            "_________________________________________________________________\n",
            "dropout_2 (Dropout)          (None, 256)               0         \n",
            "_________________________________________________________________\n",
            "dense_2 (Dense)              (None, 128)               32896     \n",
            "_________________________________________________________________\n",
            "dropout_3 (Dropout)          (None, 128)               0         \n",
            "_________________________________________________________________\n",
            "dense_3 (Dense)              (None, 64)                8256      \n",
            "_________________________________________________________________\n",
            "dense_4 (Dense)              (None, 1)                 65        \n",
            "=================================================================\n",
            "Total params: 7,341,121\n",
            "Trainable params: 7,257,473\n",
            "Non-trainable params: 83,648\n",
            "_________________________________________________________________\n"
          ],
          "name": "stdout"
        }
      ]
    },
    {
      "cell_type": "code",
      "metadata": {
        "id": "BMS-4GxS2npx",
        "colab_type": "code",
        "colab": {
          "base_uri": "https://localhost:8080/",
          "height": 119
        },
        "outputId": "086adfc7-7217-4439-a49e-c190b9eb4e7e"
      },
      "source": [
        "batch_size=128\n",
        "sgd = optimizers.SGD(lr=0.03, decay=1e-6, momentum=0.9, nesterov=True)\n",
        "model_pretrainedW_3000.compile(optimizer='sgd',loss='binary_crossentropy',metrics=['accuracy'])\n",
        "model_pretrainedW_3000.fit_generator(\n",
        "        train_generator_1,\n",
        "        steps_per_epoch=4838 // batch_size,\n",
        "        epochs=3,\n",
        "        validation_data=validation_generator_1,\n",
        "        validation_steps=441// 2)\n",
        "model_pretrainedW_3000.save_weights('/content/drive/My Drive/Colab Notebooks/RSNA/rsna-pneumonia-detection-challenge/transfer_all_sgd3000.h5')  # always save your weights after training or during training\n"
      ],
      "execution_count": 15,
      "outputs": [
        {
          "output_type": "stream",
          "text": [
            "Epoch 1/3\n",
            "37/37 [==============================] - 322s 9s/step - loss: 0.8706 - acc: 0.6157 - val_loss: 0.7145 - val_acc: 0.5687\n",
            "Epoch 2/3\n",
            "37/37 [==============================] - 262s 7s/step - loss: 0.6391 - acc: 0.6647 - val_loss: 0.5604 - val_acc: 0.7346\n",
            "Epoch 3/3\n",
            "37/37 [==============================] - 258s 7s/step - loss: 0.5470 - acc: 0.7424 - val_loss: 0.7126 - val_acc: 0.6749\n"
          ],
          "name": "stdout"
        }
      ]
    },
    {
      "cell_type": "code",
      "metadata": {
        "id": "OpKVIDiB3sci",
        "colab_type": "code",
        "colab": {}
      },
      "source": [
        ""
      ],
      "execution_count": 0,
      "outputs": []
    }
  ]
}